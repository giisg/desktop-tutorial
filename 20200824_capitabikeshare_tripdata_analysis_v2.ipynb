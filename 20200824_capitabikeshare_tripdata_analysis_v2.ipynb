{
  "nbformat": 4,
  "nbformat_minor": 0,
  "metadata": {
    "colab": {
      "name": "20200824_capitabikeshare-tripdata_analysis_v2.ipynb",
      "provenance": []
    },
    "kernelspec": {
      "name": "python3",
      "display_name": "Python 3"
    }
  },
  "cells": [
    {
      "cell_type": "code",
      "metadata": {
        "id": "MoTXQ6YRnEJl",
        "colab_type": "code",
        "colab": {}
      },
      "source": [
        "import pandas as pd\n",
        "import io\n",
        "import numpy as np\n",
        "from sklearn import preprocessing \n",
        "from sklearn import svm\n",
        "from sklearn import metrics\n",
        "import math"
      ],
      "execution_count": null,
      "outputs": []
    },
    {
      "cell_type": "code",
      "metadata": {
        "id": "VCZ-9V6Io2M2",
        "colab_type": "code",
        "colab": {}
      },
      "source": [
        "df = pd.read_csv(\"drive/My Drive/2011-capitalbikeshare-tripdata.csv\")"
      ],
      "execution_count": null,
      "outputs": []
    },
    {
      "cell_type": "code",
      "metadata": {
        "id": "3EmxEz2vntzw",
        "colab_type": "code",
        "colab": {
          "base_uri": "https://localhost:8080/",
          "height": 153
        },
        "outputId": "b4bfa31a-4151-4426-9125-b63e07e38da7"
      },
      "source": [
        "print(df.head())"
      ],
      "execution_count": null,
      "outputs": [
        {
          "output_type": "stream",
          "text": [
            "   Duration           Start date  ... Bike number  Member type\n",
            "0      3548  2011-01-01 00:01:29  ...      W00247       Member\n",
            "1       346  2011-01-01 00:02:46  ...      W00675       Casual\n",
            "2       562  2011-01-01 00:06:13  ...      W00357       Member\n",
            "3       434  2011-01-01 00:09:21  ...      W00970       Member\n",
            "4       233  2011-01-01 00:28:26  ...      W00346       Casual\n",
            "\n",
            "[5 rows x 9 columns]\n"
          ],
          "name": "stdout"
        }
      ]
    },
    {
      "cell_type": "code",
      "metadata": {
        "id": "kp5fhWDTo_sX",
        "colab_type": "code",
        "colab": {
          "base_uri": "https://localhost:8080/",
          "height": 359
        },
        "outputId": "87883383-585c-49fa-beb7-9f424b4f35af"
      },
      "source": [
        "df.drop(['End date','Start station number','End station number','Bike number'], axis=1, inplace=True)\n",
        "df['Start date'] = pd.to_datetime(df['Start date'])\n",
        "#df = df.set_index(['Start date'], drop=True)\n",
        "df.head(10)"
      ],
      "execution_count": null,
      "outputs": [
        {
          "output_type": "execute_result",
          "data": {
            "text/html": [
              "<div>\n",
              "<style scoped>\n",
              "    .dataframe tbody tr th:only-of-type {\n",
              "        vertical-align: middle;\n",
              "    }\n",
              "\n",
              "    .dataframe tbody tr th {\n",
              "        vertical-align: top;\n",
              "    }\n",
              "\n",
              "    .dataframe thead th {\n",
              "        text-align: right;\n",
              "    }\n",
              "</style>\n",
              "<table border=\"1\" class=\"dataframe\">\n",
              "  <thead>\n",
              "    <tr style=\"text-align: right;\">\n",
              "      <th></th>\n",
              "      <th>Duration</th>\n",
              "      <th>Start date</th>\n",
              "      <th>Start station</th>\n",
              "      <th>End station</th>\n",
              "      <th>Member type</th>\n",
              "    </tr>\n",
              "  </thead>\n",
              "  <tbody>\n",
              "    <tr>\n",
              "      <th>0</th>\n",
              "      <td>3548</td>\n",
              "      <td>2011-01-01 00:01:29</td>\n",
              "      <td>5th &amp; F St NW</td>\n",
              "      <td>5th &amp; F St NW</td>\n",
              "      <td>Member</td>\n",
              "    </tr>\n",
              "    <tr>\n",
              "      <th>1</th>\n",
              "      <td>346</td>\n",
              "      <td>2011-01-01 00:02:46</td>\n",
              "      <td>14th &amp; Harvard St NW</td>\n",
              "      <td>14th &amp; V St NW</td>\n",
              "      <td>Casual</td>\n",
              "    </tr>\n",
              "    <tr>\n",
              "      <th>2</th>\n",
              "      <td>562</td>\n",
              "      <td>2011-01-01 00:06:13</td>\n",
              "      <td>Georgia &amp; New Hampshire Ave NW</td>\n",
              "      <td>Adams Mill &amp; Columbia Rd NW</td>\n",
              "      <td>Member</td>\n",
              "    </tr>\n",
              "    <tr>\n",
              "      <th>3</th>\n",
              "      <td>434</td>\n",
              "      <td>2011-01-01 00:09:21</td>\n",
              "      <td>10th &amp; U St NW</td>\n",
              "      <td>Florida Ave &amp; R St NW</td>\n",
              "      <td>Member</td>\n",
              "    </tr>\n",
              "    <tr>\n",
              "      <th>4</th>\n",
              "      <td>233</td>\n",
              "      <td>2011-01-01 00:28:26</td>\n",
              "      <td>Adams Mill &amp; Columbia Rd NW</td>\n",
              "      <td>Calvert &amp; Biltmore St NW</td>\n",
              "      <td>Casual</td>\n",
              "    </tr>\n",
              "    <tr>\n",
              "      <th>5</th>\n",
              "      <td>158</td>\n",
              "      <td>2011-01-01 00:32:33</td>\n",
              "      <td>3rd &amp; D St SE</td>\n",
              "      <td>4th &amp; East Capitol St NE</td>\n",
              "      <td>Member</td>\n",
              "    </tr>\n",
              "    <tr>\n",
              "      <th>6</th>\n",
              "      <td>560</td>\n",
              "      <td>2011-01-01 00:35:48</td>\n",
              "      <td>14th &amp; Rhode Island Ave NW</td>\n",
              "      <td>15th &amp; P St NW</td>\n",
              "      <td>Member</td>\n",
              "    </tr>\n",
              "    <tr>\n",
              "      <th>7</th>\n",
              "      <td>503</td>\n",
              "      <td>2011-01-01 00:36:42</td>\n",
              "      <td>14th &amp; Rhode Island Ave NW</td>\n",
              "      <td>15th &amp; P St NW</td>\n",
              "      <td>Member</td>\n",
              "    </tr>\n",
              "    <tr>\n",
              "      <th>8</th>\n",
              "      <td>449</td>\n",
              "      <td>2011-01-01 00:45:55</td>\n",
              "      <td>15th &amp; P St NW</td>\n",
              "      <td>14th &amp; R St NW</td>\n",
              "      <td>Member</td>\n",
              "    </tr>\n",
              "    <tr>\n",
              "      <th>9</th>\n",
              "      <td>442</td>\n",
              "      <td>2011-01-01 00:46:06</td>\n",
              "      <td>15th &amp; P St NW</td>\n",
              "      <td>14th &amp; R St NW</td>\n",
              "      <td>Member</td>\n",
              "    </tr>\n",
              "  </tbody>\n",
              "</table>\n",
              "</div>"
            ],
            "text/plain": [
              "   Duration          Start date  ...                  End station Member type\n",
              "0      3548 2011-01-01 00:01:29  ...                5th & F St NW      Member\n",
              "1       346 2011-01-01 00:02:46  ...               14th & V St NW      Casual\n",
              "2       562 2011-01-01 00:06:13  ...  Adams Mill & Columbia Rd NW      Member\n",
              "3       434 2011-01-01 00:09:21  ...        Florida Ave & R St NW      Member\n",
              "4       233 2011-01-01 00:28:26  ...     Calvert & Biltmore St NW      Casual\n",
              "5       158 2011-01-01 00:32:33  ...     4th & East Capitol St NE      Member\n",
              "6       560 2011-01-01 00:35:48  ...               15th & P St NW      Member\n",
              "7       503 2011-01-01 00:36:42  ...               15th & P St NW      Member\n",
              "8       449 2011-01-01 00:45:55  ...               14th & R St NW      Member\n",
              "9       442 2011-01-01 00:46:06  ...               14th & R St NW      Member\n",
              "\n",
              "[10 rows x 5 columns]"
            ]
          },
          "metadata": {
            "tags": []
          },
          "execution_count": 442
        }
      ]
    },
    {
      "cell_type": "code",
      "metadata": {
        "id": "aNap1rBsxJeu",
        "colab_type": "code",
        "colab": {}
      },
      "source": [
        "x1_data = df['Duration']\n",
        "x2_data = df['Start date']\n",
        "x3_data = df['Start station']\n",
        "x4_data = df['Member type']\n",
        "Y = df['End station']"
      ],
      "execution_count": null,
      "outputs": []
    },
    {
      "cell_type": "code",
      "metadata": {
        "id": "KI4VE1ZfgGxr",
        "colab_type": "code",
        "colab": {
          "base_uri": "https://localhost:8080/",
          "height": 221
        },
        "outputId": "fe734cd1-05cb-4437-f0e3-856628aae1a5"
      },
      "source": [
        "x3_data"
      ],
      "execution_count": null,
      "outputs": [
        {
          "output_type": "execute_result",
          "data": {
            "text/plain": [
              "0                              5th & F St NW\n",
              "1                       14th & Harvard St NW\n",
              "2             Georgia & New Hampshire Ave NW\n",
              "3                             10th & U St NW\n",
              "4                Adams Mill & Columbia Rd NW\n",
              "                         ...                \n",
              "1226762                       15th & P St NW\n",
              "1226763    Convention Center / 7th & M St NW\n",
              "1226764              Lamont & Mt Pleasant NW\n",
              "1226765                       21st & I St NW\n",
              "1226766                       18th & M St NW\n",
              "Name: Start station, Length: 1226767, dtype: object"
            ]
          },
          "metadata": {
            "tags": []
          },
          "execution_count": 444
        }
      ]
    },
    {
      "cell_type": "code",
      "metadata": {
        "id": "gVVprYqBiZ53",
        "colab_type": "code",
        "colab": {}
      },
      "source": [
        "def Conversion2Num(qqq,ttt):\n",
        "  for i in range(len(qqq)):\n",
        "    for j in range(len(ttt)):\n",
        "      if qqq[i] == ttt[j]:\n",
        "        ttt[j] = i"
      ],
      "execution_count": null,
      "outputs": []
    },
    {
      "cell_type": "code",
      "metadata": {
        "id": "qnorQnfqEZie",
        "colab_type": "code",
        "colab": {}
      },
      "source": [
        "#轉換start station為list\n",
        "temp3=x3_data\n",
        "train_data = np.array(temp3)\n",
        "train_x3_list=train_data.tolist()\n",
        "X3 = set(train_x3_list)\n",
        "X3 = list(X3)\n",
        "Conversion2Num(X3,train_x3_list)"
      ],
      "execution_count": null,
      "outputs": []
    },
    {
      "cell_type": "code",
      "metadata": {
        "id": "uQYWZTrrDOuG",
        "colab_type": "code",
        "colab": {
          "base_uri": "https://localhost:8080/",
          "height": 34
        },
        "outputId": "a992a12a-1c02-4381-b02c-66fdd444677d"
      },
      "source": [
        "print(train_x3_list[0:11])"
      ],
      "execution_count": null,
      "outputs": [
        {
          "output_type": "stream",
          "text": [
            "[65, 12, 25, 134, 51, 60, 5, 5, 68, 68, 35]\n"
          ],
          "name": "stdout"
        }
      ]
    },
    {
      "cell_type": "code",
      "metadata": {
        "id": "SYoRLIBtBHMG",
        "colab_type": "code",
        "colab": {}
      },
      "source": [
        "#轉換End station為list\n",
        "tempY=Y\n",
        "train_data = np.array(tempY)\n",
        "train_Y_list=train_data.tolist()\n",
        "Conversion2Num(X3,train_Y_list)"
      ],
      "execution_count": null,
      "outputs": []
    },
    {
      "cell_type": "code",
      "metadata": {
        "id": "dHKRjfKAD-eG",
        "colab_type": "code",
        "colab": {
          "base_uri": "https://localhost:8080/",
          "height": 34
        },
        "outputId": "7e0d4f3a-fd03-43aa-8dac-a3b5e33c0d89"
      },
      "source": [
        "print(train_Y_list[0:10])"
      ],
      "execution_count": null,
      "outputs": [
        {
          "output_type": "stream",
          "text": [
            "[65, 63, 51, 124, 15, 122, 68, 68, 132, 132]\n"
          ],
          "name": "stdout"
        }
      ]
    },
    {
      "cell_type": "code",
      "metadata": {
        "id": "llpXOlzoBHBC",
        "colab_type": "code",
        "colab": {}
      },
      "source": [
        "#轉換Member type為list\n",
        "temp4=x4_data\n",
        "train_data = np.array(temp4)\n",
        "train_x4_list=train_data.tolist()\n",
        "X4 = set(train_x4_list)\n",
        "X4 = list(X4)\n",
        "Conversion2Num(X4,train_x4_list)"
      ],
      "execution_count": null,
      "outputs": []
    },
    {
      "cell_type": "code",
      "metadata": {
        "id": "niZtDK5fFQyU",
        "colab_type": "code",
        "colab": {
          "base_uri": "https://localhost:8080/",
          "height": 34
        },
        "outputId": "b36539be-80db-4518-a15d-0f1ebce3a905"
      },
      "source": [
        "print(train_x4_list[0:11])"
      ],
      "execution_count": null,
      "outputs": [
        {
          "output_type": "stream",
          "text": [
            "[2, 0, 2, 2, 0, 2, 2, 2, 2, 2, 0]\n"
          ],
          "name": "stdout"
        }
      ]
    },
    {
      "cell_type": "code",
      "metadata": {
        "id": "uJpu4xTZ_Olz",
        "colab_type": "code",
        "colab": {
          "base_uri": "https://localhost:8080/",
          "height": 54
        },
        "outputId": "c64320ba-a75e-4838-b37d-1f055f75fb2f"
      },
      "source": [
        "#X3 & Y numcode Don't touch!!\n",
        "key = []\n",
        "for i in range(len(X3)):\n",
        "  key.append(i)\n",
        "print(key)"
      ],
      "execution_count": null,
      "outputs": [
        {
          "output_type": "stream",
          "text": [
            "[0, 1, 2, 3, 4, 5, 6, 7, 8, 9, 10, 11, 12, 13, 14, 15, 16, 17, 18, 19, 20, 21, 22, 23, 24, 25, 26, 27, 28, 29, 30, 31, 32, 33, 34, 35, 36, 37, 38, 39, 40, 41, 42, 43, 44, 45, 46, 47, 48, 49, 50, 51, 52, 53, 54, 55, 56, 57, 58, 59, 60, 61, 62, 63, 64, 65, 66, 67, 68, 69, 70, 71, 72, 73, 74, 75, 76, 77, 78, 79, 80, 81, 82, 83, 84, 85, 86, 87, 88, 89, 90, 91, 92, 93, 94, 95, 96, 97, 98, 99, 100, 101, 102, 103, 104, 105, 106, 107, 108, 109, 110, 111, 112, 113, 114, 115, 116, 117, 118, 119, 120, 121, 122, 123, 124, 125, 126, 127, 128, 129, 130, 131, 132, 133, 134, 135, 136, 137, 138, 139, 140, 141, 142, 143]\n"
          ],
          "name": "stdout"
        }
      ]
    },
    {
      "cell_type": "code",
      "metadata": {
        "id": "siDVPbNK_t_4",
        "colab_type": "code",
        "colab": {
          "base_uri": "https://localhost:8080/",
          "height": 34
        },
        "outputId": "ee30e82d-12c4-4cab-c556-42f47273897a"
      },
      "source": [
        "dictionary = dict(zip(key, X3))\n",
        "print(dictionary[63])"
      ],
      "execution_count": null,
      "outputs": [
        {
          "output_type": "stream",
          "text": [
            "14th & V St NW\n"
          ],
          "name": "stdout"
        }
      ]
    },
    {
      "cell_type": "code",
      "metadata": {
        "id": "i4K1cSSpFnyT",
        "colab_type": "code",
        "colab": {
          "base_uri": "https://localhost:8080/",
          "height": 34
        },
        "outputId": "f47f85bb-169e-4043-e0cd-4a20b399cd7b"
      },
      "source": [
        "#Member type numcode\n",
        "key2 = []\n",
        "for i in range(len(X4)):\n",
        "  key2.append(i)\n",
        "print(key2)\n",
        "dictionary2 = dict(zip(key2, X4))"
      ],
      "execution_count": null,
      "outputs": [
        {
          "output_type": "stream",
          "text": [
            "[0, 1, 2]\n"
          ],
          "name": "stdout"
        }
      ]
    },
    {
      "cell_type": "code",
      "metadata": {
        "id": "MZeVXkBJHqaC",
        "colab_type": "code",
        "colab": {
          "base_uri": "https://localhost:8080/",
          "height": 34
        },
        "outputId": "1adf909b-a1ed-4816-c2db-747569aff8ee"
      },
      "source": [
        "print(dictionary2[1])"
      ],
      "execution_count": null,
      "outputs": [
        {
          "output_type": "stream",
          "text": [
            "Unknown\n"
          ],
          "name": "stdout"
        }
      ]
    },
    {
      "cell_type": "code",
      "metadata": {
        "id": "LBW8V7J3hgAw",
        "colab_type": "code",
        "colab": {}
      },
      "source": [
        "temp1=x1_data\n",
        "train_data = np.array(temp1)\n",
        "train_x1_list=train_data.tolist()"
      ],
      "execution_count": null,
      "outputs": []
    },
    {
      "cell_type": "code",
      "metadata": {
        "id": "ZE6k5VXShzx_",
        "colab_type": "code",
        "colab": {
          "base_uri": "https://localhost:8080/",
          "height": 34
        },
        "outputId": "e09e84df-29d4-4215-8d72-b3517313875f"
      },
      "source": [
        "print(type(train_x1_list))"
      ],
      "execution_count": null,
      "outputs": [
        {
          "output_type": "stream",
          "text": [
            "<class 'list'>\n"
          ],
          "name": "stdout"
        }
      ]
    },
    {
      "cell_type": "code",
      "metadata": {
        "id": "eflVUJ2wh_r4",
        "colab_type": "code",
        "colab": {}
      },
      "source": [
        "temp2=x2_data\n",
        "train_data = np.array(temp2)\n",
        "train_x2_list=train_data.tolist()"
      ],
      "execution_count": null,
      "outputs": []
    },
    {
      "cell_type": "code",
      "metadata": {
        "id": "1n74OCOmh_Y4",
        "colab_type": "code",
        "colab": {
          "base_uri": "https://localhost:8080/",
          "height": 34
        },
        "outputId": "6440b211-fc4e-4fe6-860e-4f56f66c56c0"
      },
      "source": [
        "print(train_x2_list[0])"
      ],
      "execution_count": null,
      "outputs": [
        {
          "output_type": "stream",
          "text": [
            "1293840089000000000\n"
          ],
          "name": "stdout"
        }
      ]
    },
    {
      "cell_type": "code",
      "metadata": {
        "id": "YrHv9X9SHx1h",
        "colab_type": "code",
        "colab": {
          "base_uri": "https://localhost:8080/",
          "height": 102
        },
        "outputId": "d5ccaad1-b73e-48ee-9442-3afd6c6fe88d"
      },
      "source": [
        "print(train_x1_list[0:10])\n",
        "print(train_x2_list[0:10])\n",
        "print(train_x3_list[0:10])\n",
        "print(train_Y_list[0:10])\n",
        "print(train_x4_list[0:10])"
      ],
      "execution_count": null,
      "outputs": [
        {
          "output_type": "stream",
          "text": [
            "[3548, 346, 562, 434, 233, 158, 560, 503, 449, 442]\n",
            "[1293840089000000000, 1293840166000000000, 1293840373000000000, 1293840561000000000, 1293841706000000000, 1293841953000000000, 1293842148000000000, 1293842202000000000, 1293842755000000000, 1293842766000000000]\n",
            "[65, 12, 25, 134, 51, 60, 5, 5, 68, 68]\n",
            "[65, 63, 51, 124, 15, 122, 68, 68, 132, 132]\n",
            "[2, 0, 2, 2, 0, 2, 2, 2, 2, 2]\n"
          ],
          "name": "stdout"
        }
      ]
    },
    {
      "cell_type": "code",
      "metadata": {
        "id": "Kxr9fOFxigJR",
        "colab_type": "code",
        "colab": {
          "base_uri": "https://localhost:8080/",
          "height": 255
        },
        "outputId": "6280a456-3b4a-476c-9037-7f7e368ec4c6"
      },
      "source": [
        "from pandas.core.frame import DataFrame\n",
        "c={\"Duration\" : train_x1_list,\n",
        "   \"Start_station\" : train_x3_list,\n",
        "   \"End_station\" : train_Y_list,\n",
        "   \"Member_type\" : train_x4_list}#将列表a，b转换成字典\n",
        "data=DataFrame(c)#将字典转换成为数据框\n",
        "print(data)"
      ],
      "execution_count": null,
      "outputs": [
        {
          "output_type": "stream",
          "text": [
            "         Duration  Start_station  End_station  Member_type\n",
            "0            3548             65           65            2\n",
            "1             346             12           63            0\n",
            "2             562             25           51            2\n",
            "3             434            134          124            2\n",
            "4             233             51           15            0\n",
            "...           ...            ...          ...          ...\n",
            "1226762       300             68           21            2\n",
            "1226763       387             67           68            2\n",
            "1226764       261             79          115            2\n",
            "1226765      2060             84           88            2\n",
            "1226766       468             76          134            2\n",
            "\n",
            "[1226767 rows x 4 columns]\n"
          ],
          "name": "stdout"
        }
      ]
    },
    {
      "cell_type": "code",
      "metadata": {
        "id": "cNO7QdTEjYw5",
        "colab_type": "code",
        "colab": {
          "base_uri": "https://localhost:8080/",
          "height": 359
        },
        "outputId": "e33fac6a-6f1c-4d31-8f58-d2ba54eceab0"
      },
      "source": [
        "data['Start date'] = pd.to_datetime(df['Start date'])\n",
        "#df = df.set_index(['Start date'], drop=True)\n",
        "data.head(10)"
      ],
      "execution_count": null,
      "outputs": [
        {
          "output_type": "execute_result",
          "data": {
            "text/html": [
              "<div>\n",
              "<style scoped>\n",
              "    .dataframe tbody tr th:only-of-type {\n",
              "        vertical-align: middle;\n",
              "    }\n",
              "\n",
              "    .dataframe tbody tr th {\n",
              "        vertical-align: top;\n",
              "    }\n",
              "\n",
              "    .dataframe thead th {\n",
              "        text-align: right;\n",
              "    }\n",
              "</style>\n",
              "<table border=\"1\" class=\"dataframe\">\n",
              "  <thead>\n",
              "    <tr style=\"text-align: right;\">\n",
              "      <th></th>\n",
              "      <th>Duration</th>\n",
              "      <th>Start_station</th>\n",
              "      <th>End_station</th>\n",
              "      <th>Member_type</th>\n",
              "      <th>Start date</th>\n",
              "    </tr>\n",
              "  </thead>\n",
              "  <tbody>\n",
              "    <tr>\n",
              "      <th>0</th>\n",
              "      <td>3548</td>\n",
              "      <td>65</td>\n",
              "      <td>65</td>\n",
              "      <td>2</td>\n",
              "      <td>2011-01-01 00:01:29</td>\n",
              "    </tr>\n",
              "    <tr>\n",
              "      <th>1</th>\n",
              "      <td>346</td>\n",
              "      <td>12</td>\n",
              "      <td>63</td>\n",
              "      <td>0</td>\n",
              "      <td>2011-01-01 00:02:46</td>\n",
              "    </tr>\n",
              "    <tr>\n",
              "      <th>2</th>\n",
              "      <td>562</td>\n",
              "      <td>25</td>\n",
              "      <td>51</td>\n",
              "      <td>2</td>\n",
              "      <td>2011-01-01 00:06:13</td>\n",
              "    </tr>\n",
              "    <tr>\n",
              "      <th>3</th>\n",
              "      <td>434</td>\n",
              "      <td>134</td>\n",
              "      <td>124</td>\n",
              "      <td>2</td>\n",
              "      <td>2011-01-01 00:09:21</td>\n",
              "    </tr>\n",
              "    <tr>\n",
              "      <th>4</th>\n",
              "      <td>233</td>\n",
              "      <td>51</td>\n",
              "      <td>15</td>\n",
              "      <td>0</td>\n",
              "      <td>2011-01-01 00:28:26</td>\n",
              "    </tr>\n",
              "    <tr>\n",
              "      <th>5</th>\n",
              "      <td>158</td>\n",
              "      <td>60</td>\n",
              "      <td>122</td>\n",
              "      <td>2</td>\n",
              "      <td>2011-01-01 00:32:33</td>\n",
              "    </tr>\n",
              "    <tr>\n",
              "      <th>6</th>\n",
              "      <td>560</td>\n",
              "      <td>5</td>\n",
              "      <td>68</td>\n",
              "      <td>2</td>\n",
              "      <td>2011-01-01 00:35:48</td>\n",
              "    </tr>\n",
              "    <tr>\n",
              "      <th>7</th>\n",
              "      <td>503</td>\n",
              "      <td>5</td>\n",
              "      <td>68</td>\n",
              "      <td>2</td>\n",
              "      <td>2011-01-01 00:36:42</td>\n",
              "    </tr>\n",
              "    <tr>\n",
              "      <th>8</th>\n",
              "      <td>449</td>\n",
              "      <td>68</td>\n",
              "      <td>132</td>\n",
              "      <td>2</td>\n",
              "      <td>2011-01-01 00:45:55</td>\n",
              "    </tr>\n",
              "    <tr>\n",
              "      <th>9</th>\n",
              "      <td>442</td>\n",
              "      <td>68</td>\n",
              "      <td>132</td>\n",
              "      <td>2</td>\n",
              "      <td>2011-01-01 00:46:06</td>\n",
              "    </tr>\n",
              "  </tbody>\n",
              "</table>\n",
              "</div>"
            ],
            "text/plain": [
              "   Duration  Start_station  End_station  Member_type          Start date\n",
              "0      3548             65           65            2 2011-01-01 00:01:29\n",
              "1       346             12           63            0 2011-01-01 00:02:46\n",
              "2       562             25           51            2 2011-01-01 00:06:13\n",
              "3       434            134          124            2 2011-01-01 00:09:21\n",
              "4       233             51           15            0 2011-01-01 00:28:26\n",
              "5       158             60          122            2 2011-01-01 00:32:33\n",
              "6       560              5           68            2 2011-01-01 00:35:48\n",
              "7       503              5           68            2 2011-01-01 00:36:42\n",
              "8       449             68          132            2 2011-01-01 00:45:55\n",
              "9       442             68          132            2 2011-01-01 00:46:06"
            ]
          },
          "metadata": {
            "tags": []
          },
          "execution_count": 467
        }
      ]
    },
    {
      "cell_type": "code",
      "metadata": {
        "id": "jM7TGe6bur5s",
        "colab_type": "code",
        "colab": {
          "base_uri": "https://localhost:8080/",
          "height": 51
        },
        "outputId": "dd7ccec7-d903-4b0c-8109-a16700ea0dea"
      },
      "source": [
        "import pandas as pd  \n",
        "import numpy as np  \n",
        "import matplotlib.pyplot as plt  \n",
        "import seaborn as seabornInstance \n",
        "from sklearn.model_selection import train_test_split \n",
        "from sklearn.linear_model import LinearRegression\n",
        "from sklearn import metrics\n",
        "%matplotlib inline"
      ],
      "execution_count": null,
      "outputs": [
        {
          "output_type": "stream",
          "text": [
            "/usr/local/lib/python3.6/dist-packages/statsmodels/tools/_testing.py:19: FutureWarning: pandas.util.testing is deprecated. Use the functions in the public API at pandas.testing instead.\n",
            "  import pandas.util.testing as tm\n"
          ],
          "name": "stderr"
        }
      ]
    },
    {
      "cell_type": "code",
      "metadata": {
        "id": "R2Ri9_nJutoi",
        "colab_type": "code",
        "colab": {}
      },
      "source": [
        "X = data[['Start_station', 'Member_type', 'Duration']].values\n",
        "y = data['End_station'].values\n",
        "X = preprocessing.scale(X)"
      ],
      "execution_count": null,
      "outputs": []
    },
    {
      "cell_type": "code",
      "metadata": {
        "id": "0PvC-v6Mvam0",
        "colab_type": "code",
        "colab": {
          "base_uri": "https://localhost:8080/",
          "height": 352
        },
        "outputId": "0aac1e2b-aee9-41dd-bab7-959c8dc4a691"
      },
      "source": [
        "plt.figure(figsize=(10,5))\n",
        "plt.tight_layout()\n",
        "seabornInstance.distplot(data['End_station'])"
      ],
      "execution_count": null,
      "outputs": [
        {
          "output_type": "execute_result",
          "data": {
            "text/plain": [
              "<matplotlib.axes._subplots.AxesSubplot at 0x7f1e53c87588>"
            ]
          },
          "metadata": {
            "tags": []
          },
          "execution_count": 495
        },
        {
          "output_type": "display_data",
          "data": {
            "image/png": "[encoded data removed]",
            "text/plain": [
              "<Figure size 720x360 with 1 Axes>"
            ]
          },
          "metadata": {
            "tags": [],
            "needs_background": "light"
          }
        }
      ]
    },
    {
      "cell_type": "code",
      "metadata": {
        "id": "iVMeTa3UvmaZ",
        "colab_type": "code",
        "colab": {}
      },
      "source": [
        "X_train, X_test, y_train, y_test = train_test_split(X, y, test_size=0.2, random_state=0)"
      ],
      "execution_count": null,
      "outputs": []
    },
    {
      "cell_type": "code",
      "metadata": {
        "id": "5eueKh_XvrqJ",
        "colab_type": "code",
        "colab": {
          "base_uri": "https://localhost:8080/",
          "height": 136
        },
        "outputId": "a118490b-f62e-42c8-ef84-6d7ca1cc2487"
      },
      "source": [
        "X_train"
      ],
      "execution_count": null,
      "outputs": [
        {
          "output_type": "execute_result",
          "data": {
            "text/plain": [
              "array([[ 0.05486627,  0.50203527, -0.29148747],\n",
              "       [-0.92640897,  0.50203527, -0.11091192],\n",
              "       [-0.85092626,  0.50203527, -0.32461318],\n",
              "       ...,\n",
              "       [-0.52383451,  0.50203527,  0.30315952],\n",
              "       [ 0.13034899, -1.99190201, -0.00951491],\n",
              "       [-0.19674276,  0.50203527, -0.17191171]])"
            ]
          },
          "metadata": {
            "tags": []
          },
          "execution_count": 497
        }
      ]
    },
    {
      "cell_type": "code",
      "metadata": {
        "id": "HUgf2aB4vue5",
        "colab_type": "code",
        "colab": {
          "base_uri": "https://localhost:8080/",
          "height": 34
        },
        "outputId": "6515cd0d-7bb9-4efd-b649-9bcc2af8348f"
      },
      "source": [
        "regressor = LinearRegression()  \n",
        "regressor.fit(X_train, y_train) #訓練模型"
      ],
      "execution_count": null,
      "outputs": [
        {
          "output_type": "execute_result",
          "data": {
            "text/plain": [
              "LinearRegression(copy_X=True, fit_intercept=True, n_jobs=None, normalize=False)"
            ]
          },
          "metadata": {
            "tags": []
          },
          "execution_count": 498
        }
      ]
    },
    {
      "cell_type": "code",
      "metadata": {
        "id": "PdB0-YHXwvUg",
        "colab_type": "code",
        "colab": {}
      },
      "source": [
        "y_pred = regressor.predict(X_test)"
      ],
      "execution_count": null,
      "outputs": []
    },
    {
      "cell_type": "code",
      "metadata": {
        "id": "1_e7JBF8v6xQ",
        "colab_type": "code",
        "colab": {}
      },
      "source": [
        "dd = pd.DataFrame({'Actual': y_test.flatten(), 'Predicted': y_pred.flatten()})\n",
        "dd1 = dd.head(10) #顯示實際值和預測值"
      ],
      "execution_count": null,
      "outputs": []
    },
    {
      "cell_type": "code",
      "metadata": {
        "id": "UQLgxa58w6oQ",
        "colab_type": "code",
        "colab": {
          "base_uri": "https://localhost:8080/",
          "height": 479
        },
        "outputId": "db922ecb-3302-4c22-901d-061735ff3a51"
      },
      "source": [
        "dd1.plot(kind='bar',figsize=(10,8))\n",
        "plt.grid(which='major', linestyle='-', linewidth='0.5', color='green')\n",
        "plt.grid(which='minor', linestyle=':', linewidth='0.5', color='black')\n",
        "plt.show()"
      ],
      "execution_count": null,
      "outputs": [
        {
          "output_type": "display_data",
          "data": {
            "image/png": "[encoded data removed]",
            "text/plain": [
              "<Figure size 720x576 with 1 Axes>"
            ]
          },
          "metadata": {
            "tags": [],
            "needs_background": "light"
          }
        }
      ]
    },
    {
      "cell_type": "code",
      "metadata": {
        "id": "E-mXo_rPxFLg",
        "colab_type": "code",
        "colab": {
          "base_uri": "https://localhost:8080/",
          "height": 68
        },
        "outputId": "9879ce8c-c296-40c7-c4b2-7719e7117555"
      },
      "source": [
        "print('Mean Absolute Error:', metrics.mean_absolute_error(y_test, y_pred))  \n",
        "print('Mean Squared Error:', metrics.mean_squared_error(y_test, y_pred))  \n",
        "print('Root Mean Squared Error:', np.sqrt(metrics.mean_squared_error(y_test, y_pred)))"
      ],
      "execution_count": null,
      "outputs": [
        {
          "output_type": "stream",
          "text": [
            "Mean Absolute Error: 33.95185923305586\n",
            "Mean Squared Error: 1565.8563540676516\n",
            "Root Mean Squared Error: 39.57090287152482\n"
          ],
          "name": "stdout"
        }
      ]
    },
    {
      "cell_type": "code",
      "metadata": {
        "id": "NyD9IfyOxHBH",
        "colab_type": "code",
        "colab": {
          "base_uri": "https://localhost:8080/",
          "height": 34
        },
        "outputId": "44c6f837-fa42-464c-e939-d9b070b812f0"
      },
      "source": [
        "regressor.score(X_train, y_train)"
      ],
      "execution_count": null,
      "outputs": [
        {
          "output_type": "execute_result",
          "data": {
            "text/plain": [
              "0.002521749621803293"
            ]
          },
          "metadata": {
            "tags": []
          },
          "execution_count": 503
        }
      ]
    }
  ]
}