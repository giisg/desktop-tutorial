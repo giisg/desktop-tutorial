{
  "nbformat": 4,
  "nbformat_minor": 0,
  "metadata": {
    "colab": {
      "name": "ML_HW5.ipynb",
      "provenance": [],
      "mount_file_id": "1uAkk-AqGPtDqRiv0cMmCqDxfAU_IpZPC",
      "authorship_tag": "ABX9TyP6KCrQzCLF+7U0btna2fgK",
      "include_colab_link": true
    },
    "kernelspec": {
      "name": "python3",
      "display_name": "Python 3"
    }
  },
  "cells": [
    {
      "cell_type": "markdown",
      "metadata": {
        "id": "view-in-github",
        "colab_type": "text"
      },
      "source": [
        "<a href=\"https://colab.research.google.com/github/giisg/desktop-tutorial/blob/HW/ML_HW5.ipynb\" target=\"_parent\"><img src=\"https://colab.research.google.com/assets/colab-badge.svg\" alt=\"Open In Colab\"/></a>"
      ]
    },
    {
      "cell_type": "code",
      "metadata": {
        "id": "JCPxiwn7X17g"
      },
      "source": [
        "from sklearn import datasets"
      ],
      "execution_count": 1,
      "outputs": []
    },
    {
      "cell_type": "code",
      "metadata": {
        "id": "0cYYpXZPYPgG"
      },
      "source": [
        "mnist = datasets.load_digits()"
      ],
      "execution_count": 2,
      "outputs": []
    },
    {
      "cell_type": "code",
      "metadata": {
        "id": "CU_ED8kqYZgF"
      },
      "source": [
        "X = mnist.data\r\n",
        "y = mnist.target"
      ],
      "execution_count": 3,
      "outputs": []
    },
    {
      "cell_type": "code",
      "metadata": {
        "colab": {
          "base_uri": "https://localhost:8080/"
        },
        "id": "l8pxHw-LW1qn",
        "outputId": "da04b6c6-b5d2-46f0-e159-26e808dc422a"
      },
      "source": [
        "X"
      ],
      "execution_count": 4,
      "outputs": [
        {
          "output_type": "execute_result",
          "data": {
            "text/plain": [
              "array([[ 0.,  0.,  5., ...,  0.,  0.,  0.],\n",
              "       [ 0.,  0.,  0., ..., 10.,  0.,  0.],\n",
              "       [ 0.,  0.,  0., ..., 16.,  9.,  0.],\n",
              "       ...,\n",
              "       [ 0.,  0.,  1., ...,  6.,  0.,  0.],\n",
              "       [ 0.,  0.,  2., ..., 12.,  0.,  0.],\n",
              "       [ 0.,  0., 10., ..., 12.,  1.,  0.]])"
            ]
          },
          "metadata": {
            "tags": []
          },
          "execution_count": 4
        }
      ]
    },
    {
      "cell_type": "code",
      "metadata": {
        "colab": {
          "base_uri": "https://localhost:8080/"
        },
        "id": "eOzARwjjmxrS",
        "outputId": "f184fcf3-5b83-4cd2-9087-f0be79d3218a"
      },
      "source": [
        "from sklearn.cluster import KMeans\r\n",
        "nb_clusters = [2, 3, 4, 5, 6, 7, 8, 9, 10]\r\n",
        "inertias = []\r\n",
        "for n in nb_clusters:\r\n",
        "    km = KMeans(n_clusters=n)\r\n",
        "    km.fit(X)\r\n",
        "    inertias.append(km.inertia_)\r\n",
        "inertias"
      ],
      "execution_count": 5,
      "outputs": [
        {
          "output_type": "execute_result",
          "data": {
            "text/plain": [
              "[1914619.617550103,\n",
              " 1730179.1604921557,\n",
              " 1614258.5623611992,\n",
              " 1497602.826719376,\n",
              " 1404989.107896977,\n",
              " 1337068.184565251,\n",
              " 1266624.560253096,\n",
              " 1202328.0977585576,\n",
              " 1165237.3734374146]"
            ]
          },
          "metadata": {
            "tags": []
          },
          "execution_count": 5
        }
      ]
    },
    {
      "cell_type": "code",
      "metadata": {
        "id": "gv_glf2paezr"
      },
      "source": [
        "from sklearn.cluster import DBSCAN\r\n",
        "dbs = DBSCAN(eps=21)\r\n",
        "Yp_dbs = dbs.fit_predict(X)"
      ],
      "execution_count": 6,
      "outputs": []
    },
    {
      "cell_type": "code",
      "metadata": {
        "id": "f6cZQBAzbXg1"
      },
      "source": [
        "from sklearn.cluster import SpectralClustering\r\n",
        "sc = SpectralClustering(n_clusters=9, affinity='nearest_neighbors')\r\n",
        "Ys = sc.fit_predict(X)\r\n"
      ],
      "execution_count": 7,
      "outputs": []
    },
    {
      "cell_type": "code",
      "metadata": {
        "id": "fIBqJQSCjn8R"
      },
      "source": [
        "from sklearn.cluster import AgglomerativeClustering\r\n",
        "# complete linkage\r\n",
        "ac = AgglomerativeClustering(n_clusters=9, linkage='complete')\r\n",
        "Y_ac = ac.fit_predict(X)"
      ],
      "execution_count": 8,
      "outputs": []
    },
    {
      "cell_type": "markdown",
      "metadata": {
        "id": "fotjTzhnm-fh"
      },
      "source": [
        "各種評分方式"
      ]
    },
    {
      "cell_type": "code",
      "metadata": {
        "id": "96u5_7OTaNhH"
      },
      "source": [
        "from sklearn.metrics import silhouette_score\r\n",
        "from sklearn.metrics import calinski_harabaz_score\r\n",
        "from sklearn.metrics import completeness_score\r\n",
        "from sklearn.metrics import adjusted_rand_score\r\n",
        "from sklearn.metrics import homogeneity_score"
      ],
      "execution_count": 9,
      "outputs": []
    },
    {
      "cell_type": "markdown",
      "metadata": {
        "id": "ZmcH1THYnqsZ"
      },
      "source": [
        "Kmean"
      ]
    },
    {
      "cell_type": "code",
      "metadata": {
        "id": "vO44PXdgXJsd"
      },
      "source": [
        "avg_silhouettes = []\r\n",
        "for n in nb_clusters:\r\n",
        "    km = KMeans(n_clusters=n)\r\n",
        "    Y = km.fit_predict(X)\r\n",
        "    avg_silhouettes.append(silhouette_score(X, Y))"
      ],
      "execution_count": 10,
      "outputs": []
    },
    {
      "cell_type": "code",
      "metadata": {
        "colab": {
          "base_uri": "https://localhost:8080/"
        },
        "id": "RO7ICNcln0uW",
        "outputId": "20bc5375-5ab2-4be6-ee11-84d734581dfc"
      },
      "source": [
        "avg_silhouettes"
      ],
      "execution_count": 11,
      "outputs": [
        {
          "output_type": "execute_result",
          "data": {
            "text/plain": [
              "[0.11832841100655983,\n",
              " 0.12649498093440542,\n",
              " 0.12801067686260487,\n",
              " 0.1381524785668269,\n",
              " 0.15159187820652034,\n",
              " 0.16364538184987235,\n",
              " 0.1787629464879081,\n",
              " 0.18906133312472556,\n",
              " 0.18247906918584123]"
            ]
          },
          "metadata": {
            "tags": []
          },
          "execution_count": 11
        }
      ]
    },
    {
      "cell_type": "code",
      "metadata": {
        "colab": {
          "base_uri": "https://localhost:8080/"
        },
        "id": "bp2Afsm6ac4Q",
        "outputId": "5138b131-ff64-47d3-8dfd-61ea10f7490d"
      },
      "source": [
        "ch_scores = []\r\n",
        "for n in nb_clusters:\r\n",
        "    km = KMeans(n_clusters=n)\r\n",
        "    Y = km.fit_predict(X)\r\n",
        "    ch_scores.append(calinski_harabaz_score(X, Y))"
      ],
      "execution_count": 12,
      "outputs": [
        {
          "output_type": "stream",
          "text": [
            "/usr/local/lib/python3.6/dist-packages/sklearn/utils/deprecation.py:87: FutureWarning: Function calinski_harabaz_score is deprecated; Function 'calinski_harabaz_score' has been renamed to 'calinski_harabasz_score' and will be removed in version 0.23.\n",
            "  warnings.warn(msg, category=FutureWarning)\n",
            "/usr/local/lib/python3.6/dist-packages/sklearn/utils/deprecation.py:87: FutureWarning: Function calinski_harabaz_score is deprecated; Function 'calinski_harabaz_score' has been renamed to 'calinski_harabasz_score' and will be removed in version 0.23.\n",
            "  warnings.warn(msg, category=FutureWarning)\n",
            "/usr/local/lib/python3.6/dist-packages/sklearn/utils/deprecation.py:87: FutureWarning: Function calinski_harabaz_score is deprecated; Function 'calinski_harabaz_score' has been renamed to 'calinski_harabasz_score' and will be removed in version 0.23.\n",
            "  warnings.warn(msg, category=FutureWarning)\n",
            "/usr/local/lib/python3.6/dist-packages/sklearn/utils/deprecation.py:87: FutureWarning: Function calinski_harabaz_score is deprecated; Function 'calinski_harabaz_score' has been renamed to 'calinski_harabasz_score' and will be removed in version 0.23.\n",
            "  warnings.warn(msg, category=FutureWarning)\n",
            "/usr/local/lib/python3.6/dist-packages/sklearn/utils/deprecation.py:87: FutureWarning: Function calinski_harabaz_score is deprecated; Function 'calinski_harabaz_score' has been renamed to 'calinski_harabasz_score' and will be removed in version 0.23.\n",
            "  warnings.warn(msg, category=FutureWarning)\n",
            "/usr/local/lib/python3.6/dist-packages/sklearn/utils/deprecation.py:87: FutureWarning: Function calinski_harabaz_score is deprecated; Function 'calinski_harabaz_score' has been renamed to 'calinski_harabasz_score' and will be removed in version 0.23.\n",
            "  warnings.warn(msg, category=FutureWarning)\n",
            "/usr/local/lib/python3.6/dist-packages/sklearn/utils/deprecation.py:87: FutureWarning: Function calinski_harabaz_score is deprecated; Function 'calinski_harabaz_score' has been renamed to 'calinski_harabasz_score' and will be removed in version 0.23.\n",
            "  warnings.warn(msg, category=FutureWarning)\n",
            "/usr/local/lib/python3.6/dist-packages/sklearn/utils/deprecation.py:87: FutureWarning: Function calinski_harabaz_score is deprecated; Function 'calinski_harabaz_score' has been renamed to 'calinski_harabasz_score' and will be removed in version 0.23.\n",
            "  warnings.warn(msg, category=FutureWarning)\n",
            "/usr/local/lib/python3.6/dist-packages/sklearn/utils/deprecation.py:87: FutureWarning: Function calinski_harabaz_score is deprecated; Function 'calinski_harabaz_score' has been renamed to 'calinski_harabasz_score' and will be removed in version 0.23.\n",
            "  warnings.warn(msg, category=FutureWarning)\n"
          ],
          "name": "stderr"
        }
      ]
    },
    {
      "cell_type": "code",
      "metadata": {
        "colab": {
          "base_uri": "https://localhost:8080/"
        },
        "id": "B_zpNw9Kadfb",
        "outputId": "6712417a-7af0-441e-ae51-b7729812e488"
      },
      "source": [
        "ch_scores"
      ],
      "execution_count": 13,
      "outputs": [
        {
          "output_type": "execute_result",
          "data": {
            "text/plain": [
              "[229.16595019376055,\n",
              " 222.34703917618356,\n",
              " 204.04641958318467,\n",
              " 197.87431534675676,\n",
              " 190.60473661395284,\n",
              " 184.21308422093173,\n",
              " 180.63223628535906,\n",
              " 177.85806471882228,\n",
              " 169.36169035399442]"
            ]
          },
          "metadata": {
            "tags": []
          },
          "execution_count": 13
        }
      ]
    },
    {
      "cell_type": "code",
      "metadata": {
        "id": "0OPwZwHdsHO_"
      },
      "source": [
        "km = KMeans(n_clusters=9)\r\n",
        "Y = km.fit_predict(X)"
      ],
      "execution_count": 14,
      "outputs": []
    },
    {
      "cell_type": "markdown",
      "metadata": {
        "id": "Lj2g1uH2GsII"
      },
      "source": [
        "Kmean\r\n"
      ]
    },
    {
      "cell_type": "code",
      "metadata": {
        "colab": {
          "base_uri": "https://localhost:8080/"
        },
        "id": "tPRhab4zs9Y8",
        "outputId": "3cc19fee-f863-485b-fa7d-12a47c05604e"
      },
      "source": [
        "print(silhouette_score(X, Y))\r\n",
        "print(calinski_harabaz_score(X, Y))\r\n",
        "print(homogeneity_score(y, Y))\r\n",
        "print(completeness_score(y, Y))\r\n",
        "print(adjusted_rand_score(y, Y))"
      ],
      "execution_count": 15,
      "outputs": [
        {
          "output_type": "stream",
          "text": [
            "0.18933396159208823\n",
            "177.83522188523278\n",
            "0.6961554653887124\n",
            "0.7546728477555572\n",
            "0.6013893771509778\n"
          ],
          "name": "stdout"
        },
        {
          "output_type": "stream",
          "text": [
            "/usr/local/lib/python3.6/dist-packages/sklearn/utils/deprecation.py:87: FutureWarning: Function calinski_harabaz_score is deprecated; Function 'calinski_harabaz_score' has been renamed to 'calinski_harabasz_score' and will be removed in version 0.23.\n",
            "  warnings.warn(msg, category=FutureWarning)\n"
          ],
          "name": "stderr"
        }
      ]
    },
    {
      "cell_type": "markdown",
      "metadata": {
        "id": "HThqZaWAolDA"
      },
      "source": [
        "DBSCAN"
      ]
    },
    {
      "cell_type": "code",
      "metadata": {
        "colab": {
          "base_uri": "https://localhost:8080/"
        },
        "id": "8f64OaBzqlVB",
        "outputId": "fea4af4b-ee15-42e4-e81c-be63f9cc85d4"
      },
      "source": [
        "print(silhouette_score(X, Yp_dbs))\r\n",
        "print(calinski_harabaz_score(X, Yp_dbs))\r\n",
        "print(homogeneity_score(y, Yp_dbs))\r\n",
        "print(completeness_score(y, Yp_dbs))\r\n",
        "print(adjusted_rand_score(y, Yp_dbs))"
      ],
      "execution_count": 16,
      "outputs": [
        {
          "output_type": "stream",
          "text": [
            "0.08741932083233113\n",
            "71.32647106837487\n",
            "0.8184765709392535\n",
            "0.7314121216307984\n",
            "0.6139226006157167\n"
          ],
          "name": "stdout"
        },
        {
          "output_type": "stream",
          "text": [
            "/usr/local/lib/python3.6/dist-packages/sklearn/utils/deprecation.py:87: FutureWarning: Function calinski_harabaz_score is deprecated; Function 'calinski_harabaz_score' has been renamed to 'calinski_harabasz_score' and will be removed in version 0.23.\n",
            "  warnings.warn(msg, category=FutureWarning)\n"
          ],
          "name": "stderr"
        }
      ]
    },
    {
      "cell_type": "markdown",
      "metadata": {
        "id": "pbQBjuyqqPW3"
      },
      "source": [
        "SpectralClustering"
      ]
    },
    {
      "cell_type": "code",
      "metadata": {
        "colab": {
          "base_uri": "https://localhost:8080/"
        },
        "id": "lIr10YurqPB5",
        "outputId": "47347e12-2347-47fc-c023-c0a7b67da5ed"
      },
      "source": [
        "print(silhouette_score(X, Ys))\r\n",
        "print(calinski_harabaz_score(X, Ys))\r\n",
        "print(homogeneity_score(y, Ys))\r\n",
        "print(completeness_score(y, Ys))\r\n",
        "print(adjusted_rand_score(y, Ys))"
      ],
      "execution_count": 17,
      "outputs": [
        {
          "output_type": "stream",
          "text": [
            "0.16893653941221992\n",
            "154.77960485241599\n",
            "0.8259913181142817\n",
            "0.9168482179291366\n",
            "0.7437012641619926\n"
          ],
          "name": "stdout"
        },
        {
          "output_type": "stream",
          "text": [
            "/usr/local/lib/python3.6/dist-packages/sklearn/utils/deprecation.py:87: FutureWarning: Function calinski_harabaz_score is deprecated; Function 'calinski_harabaz_score' has been renamed to 'calinski_harabasz_score' and will be removed in version 0.23.\n",
            "  warnings.warn(msg, category=FutureWarning)\n"
          ],
          "name": "stderr"
        }
      ]
    },
    {
      "cell_type": "markdown",
      "metadata": {
        "id": "9yLcrYjKr28q"
      },
      "source": [
        "AgglomerativeClustering"
      ]
    },
    {
      "cell_type": "code",
      "metadata": {
        "colab": {
          "base_uri": "https://localhost:8080/"
        },
        "id": "WW2WJZ1Hr6Dq",
        "outputId": "274f969c-153d-46da-dbc9-24d39229f6dc"
      },
      "source": [
        "print(silhouette_score(X, Y_ac))\r\n",
        "print(calinski_harabaz_score(X, Y_ac))\r\n",
        "print(homogeneity_score(y, Y_ac))\r\n",
        "print(completeness_score(y, Y_ac))\r\n",
        "print(adjusted_rand_score(y, Y_ac))"
      ],
      "execution_count": 18,
      "outputs": [
        {
          "output_type": "stream",
          "text": [
            "0.11378173759722789\n",
            "118.82114071964199\n",
            "0.5409008502779501\n",
            "0.6196809854043795\n",
            "0.39058840632003455\n"
          ],
          "name": "stdout"
        },
        {
          "output_type": "stream",
          "text": [
            "/usr/local/lib/python3.6/dist-packages/sklearn/utils/deprecation.py:87: FutureWarning: Function calinski_harabaz_score is deprecated; Function 'calinski_harabaz_score' has been renamed to 'calinski_harabasz_score' and will be removed in version 0.23.\n",
            "  warnings.warn(msg, category=FutureWarning)\n"
          ],
          "name": "stderr"
        }
      ]
    },
    {
      "cell_type": "code",
      "metadata": {
        "id": "KdyYVMk0sB6c"
      },
      "source": [
        ""
      ],
      "execution_count": 18,
      "outputs": []
    }
  ]
}