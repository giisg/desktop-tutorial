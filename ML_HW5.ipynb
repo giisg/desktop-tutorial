{
  "nbformat": 4,
  "nbformat_minor": 0,
  "metadata": {
    "colab": {
      "name": "ML_HW5.ipynb",
      "provenance": [],
      "mount_file_id": "1uAkk-AqGPtDqRiv0cMmCqDxfAU_IpZPC",
      "authorship_tag": "ABX9TyOsPrxk67Mpv3XUml10Mx05",
      "include_colab_link": true
    },
    "kernelspec": {
      "name": "python3",
      "display_name": "Python 3"
    }
  },
  "cells": [
    {
      "cell_type": "markdown",
      "metadata": {
        "id": "view-in-github",
        "colab_type": "text"
      },
      "source": [
        "<a href=\"https://colab.research.google.com/github/giisg/desktop-tutorial/blob/HW/ML_HW5.ipynb\" target=\"_parent\"><img src=\"https://colab.research.google.com/assets/colab-badge.svg\" alt=\"Open In Colab\"/></a>"
      ]
    },
    {
      "cell_type": "code",
      "metadata": {
        "id": "JCPxiwn7X17g"
      },
      "source": [
        "from sklearn import datasets"
      ],
      "execution_count": 1,
      "outputs": []
    },
    {
      "cell_type": "code",
      "metadata": {
        "id": "0cYYpXZPYPgG"
      },
      "source": [
        "mnist = datasets.load_diabetes()"
      ],
      "execution_count": 2,
      "outputs": []
    },
    {
      "cell_type": "code",
      "metadata": {
        "id": "CU_ED8kqYZgF"
      },
      "source": [
        "X = mnist.data\r\n",
        "y = mnist.target"
      ],
      "execution_count": 3,
      "outputs": []
    },
    {
      "cell_type": "code",
      "metadata": {
        "colab": {
          "base_uri": "https://localhost:8080/"
        },
        "id": "l8pxHw-LW1qn",
        "outputId": "9274e90d-ffb1-44b8-c425-12a64a1ab1bf"
      },
      "source": [
        "X"
      ],
      "execution_count": 4,
      "outputs": [
        {
          "output_type": "execute_result",
          "data": {
            "text/plain": [
              "array([[ 0.03807591,  0.05068012,  0.06169621, ..., -0.00259226,\n",
              "         0.01990842, -0.01764613],\n",
              "       [-0.00188202, -0.04464164, -0.05147406, ..., -0.03949338,\n",
              "        -0.06832974, -0.09220405],\n",
              "       [ 0.08529891,  0.05068012,  0.04445121, ..., -0.00259226,\n",
              "         0.00286377, -0.02593034],\n",
              "       ...,\n",
              "       [ 0.04170844,  0.05068012, -0.01590626, ..., -0.01107952,\n",
              "        -0.04687948,  0.01549073],\n",
              "       [-0.04547248, -0.04464164,  0.03906215, ...,  0.02655962,\n",
              "         0.04452837, -0.02593034],\n",
              "       [-0.04547248, -0.04464164, -0.0730303 , ..., -0.03949338,\n",
              "        -0.00421986,  0.00306441]])"
            ]
          },
          "metadata": {
            "tags": []
          },
          "execution_count": 4
        }
      ]
    },
    {
      "cell_type": "code",
      "metadata": {
        "colab": {
          "base_uri": "https://localhost:8080/"
        },
        "id": "eOzARwjjmxrS",
        "outputId": "d6ee18a1-3ca7-49c7-8293-de77995c727e"
      },
      "source": [
        "from sklearn.cluster import KMeans\r\n",
        "nb_clusters = [2, 3, 4, 5, 6, 7, 8, 9, 10]\r\n",
        "inertias = []\r\n",
        "for n in nb_clusters:\r\n",
        "    km = KMeans(n_clusters=n)\r\n",
        "    km.fit(X)\r\n",
        "    inertias.append(km.inertia_)\r\n",
        "inertias"
      ],
      "execution_count": 5,
      "outputs": [
        {
          "output_type": "execute_result",
          "data": {
            "text/plain": [
              "[7.187000018583655,\n",
              " 6.514014334119871,\n",
              " 5.973716358744564,\n",
              " 5.555043540170978,\n",
              " 5.223463876511134,\n",
              " 4.984470706060016,\n",
              " 4.763287731265539,\n",
              " 4.532529777422947,\n",
              " 4.4012041916471]"
            ]
          },
          "metadata": {
            "tags": []
          },
          "execution_count": 5
        }
      ]
    },
    {
      "cell_type": "code",
      "metadata": {
        "id": "gv_glf2paezr"
      },
      "source": [
        "from sklearn.cluster import DBSCAN\r\n",
        "dbs = DBSCAN(eps=0.15)\r\n",
        "Yp_dbs = dbs.fit_predict(X)"
      ],
      "execution_count": 23,
      "outputs": []
    },
    {
      "cell_type": "code",
      "metadata": {
        "id": "f6cZQBAzbXg1"
      },
      "source": [
        "from sklearn.cluster import SpectralClustering\r\n",
        "sc = SpectralClustering(n_clusters=2, affinity='nearest_neighbors')\r\n",
        "Ys = sc.fit_predict(X)\r\n"
      ],
      "execution_count": 7,
      "outputs": []
    },
    {
      "cell_type": "code",
      "metadata": {
        "id": "fIBqJQSCjn8R"
      },
      "source": [
        "from sklearn.cluster import AgglomerativeClustering\r\n",
        "# complete linkage\r\n",
        "ac = AgglomerativeClustering(n_clusters=8, linkage='complete')\r\n",
        "Y_ac = ac.fit_predict(X)"
      ],
      "execution_count": 8,
      "outputs": []
    },
    {
      "cell_type": "markdown",
      "metadata": {
        "id": "fotjTzhnm-fh"
      },
      "source": [
        "各種評分方式"
      ]
    },
    {
      "cell_type": "code",
      "metadata": {
        "id": "96u5_7OTaNhH"
      },
      "source": [
        "from sklearn.metrics import silhouette_score\r\n",
        "from sklearn.metrics import calinski_harabaz_score\r\n",
        "from sklearn.metrics import completeness_score\r\n",
        "from sklearn.metrics import adjusted_rand_score\r\n",
        "from sklearn.metrics import homogeneity_score"
      ],
      "execution_count": 9,
      "outputs": []
    },
    {
      "cell_type": "markdown",
      "metadata": {
        "id": "ZmcH1THYnqsZ"
      },
      "source": [
        "Kmean"
      ]
    },
    {
      "cell_type": "code",
      "metadata": {
        "id": "vO44PXdgXJsd"
      },
      "source": [
        "avg_silhouettes = []\r\n",
        "for n in nb_clusters:\r\n",
        "    km = KMeans(n_clusters=n)\r\n",
        "    Y = km.fit_predict(X)\r\n",
        "    avg_silhouettes.append(silhouette_score(X, Y))"
      ],
      "execution_count": 10,
      "outputs": []
    },
    {
      "cell_type": "code",
      "metadata": {
        "colab": {
          "base_uri": "https://localhost:8080/"
        },
        "id": "RO7ICNcln0uW",
        "outputId": "7e45c595-d9f4-49ff-e111-1b9447b614e5"
      },
      "source": [
        "avg_silhouettes"
      ],
      "execution_count": 11,
      "outputs": [
        {
          "output_type": "execute_result",
          "data": {
            "text/plain": [
              "[0.23698717031681765,\n",
              " 0.15322276171472807,\n",
              " 0.1393538135499309,\n",
              " 0.14399371010624798,\n",
              " 0.14270345556320166,\n",
              " 0.14541110541384594,\n",
              " 0.1403264453040883,\n",
              " 0.13793433559515647,\n",
              " 0.14199101146936777]"
            ]
          },
          "metadata": {
            "tags": []
          },
          "execution_count": 11
        }
      ]
    },
    {
      "cell_type": "code",
      "metadata": {
        "colab": {
          "base_uri": "https://localhost:8080/"
        },
        "id": "bp2Afsm6ac4Q",
        "outputId": "3e7a9bef-ac5b-4d8a-f057-b52e629ff47a"
      },
      "source": [
        "ch_scores = []\r\n",
        "for n in nb_clusters:\r\n",
        "    km = KMeans(n_clusters=n)\r\n",
        "    Y = km.fit_predict(X)\r\n",
        "    ch_scores.append(calinski_harabaz_score(X, Y))"
      ],
      "execution_count": 12,
      "outputs": [
        {
          "output_type": "stream",
          "text": [
            "/usr/local/lib/python3.6/dist-packages/sklearn/utils/deprecation.py:87: FutureWarning: Function calinski_harabaz_score is deprecated; Function 'calinski_harabaz_score' has been renamed to 'calinski_harabasz_score' and will be removed in version 0.23.\n",
            "  warnings.warn(msg, category=FutureWarning)\n",
            "/usr/local/lib/python3.6/dist-packages/sklearn/utils/deprecation.py:87: FutureWarning: Function calinski_harabaz_score is deprecated; Function 'calinski_harabaz_score' has been renamed to 'calinski_harabasz_score' and will be removed in version 0.23.\n",
            "  warnings.warn(msg, category=FutureWarning)\n",
            "/usr/local/lib/python3.6/dist-packages/sklearn/utils/deprecation.py:87: FutureWarning: Function calinski_harabaz_score is deprecated; Function 'calinski_harabaz_score' has been renamed to 'calinski_harabasz_score' and will be removed in version 0.23.\n",
            "  warnings.warn(msg, category=FutureWarning)\n",
            "/usr/local/lib/python3.6/dist-packages/sklearn/utils/deprecation.py:87: FutureWarning: Function calinski_harabaz_score is deprecated; Function 'calinski_harabaz_score' has been renamed to 'calinski_harabasz_score' and will be removed in version 0.23.\n",
            "  warnings.warn(msg, category=FutureWarning)\n",
            "/usr/local/lib/python3.6/dist-packages/sklearn/utils/deprecation.py:87: FutureWarning: Function calinski_harabaz_score is deprecated; Function 'calinski_harabaz_score' has been renamed to 'calinski_harabasz_score' and will be removed in version 0.23.\n",
            "  warnings.warn(msg, category=FutureWarning)\n",
            "/usr/local/lib/python3.6/dist-packages/sklearn/utils/deprecation.py:87: FutureWarning: Function calinski_harabaz_score is deprecated; Function 'calinski_harabaz_score' has been renamed to 'calinski_harabasz_score' and will be removed in version 0.23.\n",
            "  warnings.warn(msg, category=FutureWarning)\n",
            "/usr/local/lib/python3.6/dist-packages/sklearn/utils/deprecation.py:87: FutureWarning: Function calinski_harabaz_score is deprecated; Function 'calinski_harabaz_score' has been renamed to 'calinski_harabasz_score' and will be removed in version 0.23.\n",
            "  warnings.warn(msg, category=FutureWarning)\n",
            "/usr/local/lib/python3.6/dist-packages/sklearn/utils/deprecation.py:87: FutureWarning: Function calinski_harabaz_score is deprecated; Function 'calinski_harabaz_score' has been renamed to 'calinski_harabasz_score' and will be removed in version 0.23.\n",
            "  warnings.warn(msg, category=FutureWarning)\n",
            "/usr/local/lib/python3.6/dist-packages/sklearn/utils/deprecation.py:87: FutureWarning: Function calinski_harabaz_score is deprecated; Function 'calinski_harabaz_score' has been renamed to 'calinski_harabasz_score' and will be removed in version 0.23.\n",
            "  warnings.warn(msg, category=FutureWarning)\n"
          ],
          "name": "stderr"
        }
      ]
    },
    {
      "cell_type": "code",
      "metadata": {
        "colab": {
          "base_uri": "https://localhost:8080/"
        },
        "id": "B_zpNw9Kadfb",
        "outputId": "795ab257-7712-4612-eb49-d81cf56b1b1c"
      },
      "source": [
        "ch_scores"
      ],
      "execution_count": 13,
      "outputs": [
        {
          "output_type": "execute_result",
          "data": {
            "text/plain": [
              "[172.2165004345374,\n",
              " 117.4639160913328,\n",
              " 98.4010352700666,\n",
              " 87.61343159163675,\n",
              " 79.97730155315034,\n",
              " 73.29209855388432,\n",
              " 68.55523890723997,\n",
              " 64.80956395962501,\n",
              " 61.85962670795662]"
            ]
          },
          "metadata": {
            "tags": []
          },
          "execution_count": 13
        }
      ]
    },
    {
      "cell_type": "code",
      "metadata": {
        "id": "0OPwZwHdsHO_"
      },
      "source": [
        "km = KMeans(n_clusters=2)\r\n",
        "Y = km.fit_predict(X)"
      ],
      "execution_count": 14,
      "outputs": []
    },
    {
      "cell_type": "code",
      "metadata": {
        "colab": {
          "base_uri": "https://localhost:8080/"
        },
        "id": "tPRhab4zs9Y8",
        "outputId": "37ee8213-8c23-4df0-ac68-1e1c81b02190"
      },
      "source": [
        "print(silhouette_score(X, Y))\r\n",
        "print(calinski_harabaz_score(X, Y))\r\n",
        "print(homogeneity_score(y, Y))\r\n",
        "print(completeness_score(y, Y))\r\n",
        "print(adjusted_rand_score(y, Y))"
      ],
      "execution_count": 15,
      "outputs": [
        {
          "output_type": "stream",
          "text": [
            "0.23698717031681765\n",
            "172.2165004345374\n",
            "0.07898689539211681\n",
            "0.5961380026475255\n",
            "0.0018793757442888697\n"
          ],
          "name": "stdout"
        },
        {
          "output_type": "stream",
          "text": [
            "/usr/local/lib/python3.6/dist-packages/sklearn/utils/deprecation.py:87: FutureWarning: Function calinski_harabaz_score is deprecated; Function 'calinski_harabaz_score' has been renamed to 'calinski_harabasz_score' and will be removed in version 0.23.\n",
            "  warnings.warn(msg, category=FutureWarning)\n"
          ],
          "name": "stderr"
        }
      ]
    },
    {
      "cell_type": "markdown",
      "metadata": {
        "id": "HThqZaWAolDA"
      },
      "source": [
        "DBSCAN"
      ]
    },
    {
      "cell_type": "code",
      "metadata": {
        "colab": {
          "base_uri": "https://localhost:8080/"
        },
        "id": "8f64OaBzqlVB",
        "outputId": "89314ff7-b3a9-426c-8b04-4689c615e095"
      },
      "source": [
        "print(silhouette_score(X, Yp_dbs))\r\n",
        "print(calinski_harabaz_score(X, Yp_dbs))\r\n",
        "print(homogeneity_score(y, Yp_dbs))\r\n",
        "print(completeness_score(y, Yp_dbs))\r\n",
        "print(adjusted_rand_score(y, Yp_dbs))"
      ],
      "execution_count": 24,
      "outputs": [
        {
          "output_type": "stream",
          "text": [
            "0.4010862018673563\n",
            "4.92148848849854\n",
            "0.002095055097293195\n",
            "0.682752585346757\n",
            "-2.734060509159801e-05\n"
          ],
          "name": "stdout"
        },
        {
          "output_type": "stream",
          "text": [
            "/usr/local/lib/python3.6/dist-packages/sklearn/utils/deprecation.py:87: FutureWarning: Function calinski_harabaz_score is deprecated; Function 'calinski_harabaz_score' has been renamed to 'calinski_harabasz_score' and will be removed in version 0.23.\n",
            "  warnings.warn(msg, category=FutureWarning)\n"
          ],
          "name": "stderr"
        }
      ]
    },
    {
      "cell_type": "markdown",
      "metadata": {
        "id": "pbQBjuyqqPW3"
      },
      "source": [
        "SpectralClustering"
      ]
    },
    {
      "cell_type": "code",
      "metadata": {
        "colab": {
          "base_uri": "https://localhost:8080/"
        },
        "id": "lIr10YurqPB5",
        "outputId": "d76202f2-5322-4371-ea1b-9ae8efe6e0e5"
      },
      "source": [
        "print(silhouette_score(X, Ys))\r\n",
        "print(calinski_harabaz_score(X, Ys))\r\n",
        "print(homogeneity_score(y, Ys))\r\n",
        "print(completeness_score(y, Ys))\r\n",
        "print(adjusted_rand_score(y, Ys))"
      ],
      "execution_count": 17,
      "outputs": [
        {
          "output_type": "stream",
          "text": [
            "0.15238041274886532\n",
            "79.76196317536694\n",
            "0.06044540243812591\n",
            "0.4565440532104283\n",
            "2.2166212976503747e-05\n"
          ],
          "name": "stdout"
        },
        {
          "output_type": "stream",
          "text": [
            "/usr/local/lib/python3.6/dist-packages/sklearn/utils/deprecation.py:87: FutureWarning: Function calinski_harabaz_score is deprecated; Function 'calinski_harabaz_score' has been renamed to 'calinski_harabasz_score' and will be removed in version 0.23.\n",
            "  warnings.warn(msg, category=FutureWarning)\n"
          ],
          "name": "stderr"
        }
      ]
    },
    {
      "cell_type": "markdown",
      "metadata": {
        "id": "9yLcrYjKr28q"
      },
      "source": [
        "AgglomerativeClustering"
      ]
    },
    {
      "cell_type": "code",
      "metadata": {
        "colab": {
          "base_uri": "https://localhost:8080/"
        },
        "id": "WW2WJZ1Hr6Dq",
        "outputId": "c10d8df4-019c-487d-b09f-6facb072cb5c"
      },
      "source": [
        "print(silhouette_score(X, Y_ac))\r\n",
        "print(calinski_harabaz_score(X, Y_ac))\r\n",
        "print(homogeneity_score(y, Y_ac))\r\n",
        "print(completeness_score(y, Y_ac))\r\n",
        "print(adjusted_rand_score(y, Y_ac))"
      ],
      "execution_count": 18,
      "outputs": [
        {
          "output_type": "stream",
          "text": [
            "0.0710443185511834\n",
            "46.445605036681364\n",
            "0.22307973413818932\n",
            "0.660966843096048\n",
            "0.001981044585959865\n"
          ],
          "name": "stdout"
        },
        {
          "output_type": "stream",
          "text": [
            "/usr/local/lib/python3.6/dist-packages/sklearn/utils/deprecation.py:87: FutureWarning: Function calinski_harabaz_score is deprecated; Function 'calinski_harabaz_score' has been renamed to 'calinski_harabasz_score' and will be removed in version 0.23.\n",
            "  warnings.warn(msg, category=FutureWarning)\n"
          ],
          "name": "stderr"
        }
      ]
    },
    {
      "cell_type": "code",
      "metadata": {
        "id": "KdyYVMk0sB6c"
      },
      "source": [
        ""
      ],
      "execution_count": 18,
      "outputs": []
    }
  ]
}