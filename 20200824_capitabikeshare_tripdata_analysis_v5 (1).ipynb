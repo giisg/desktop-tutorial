{
  "nbformat": 4,
  "nbformat_minor": 0,
  "metadata": {
    "colab": {
      "name": "20200824_capitabikeshare-tripdata_analysis_v5.ipynb",
      "provenance": [],
      "collapsed_sections": []
    },
    "kernelspec": {
      "name": "python3",
      "display_name": "Python 3"
    }
  },
  "cells": [
    {
      "cell_type": "code",
      "metadata": {
        "id": "MoTXQ6YRnEJl",
        "colab_type": "code",
        "colab": {}
      },
      "source": [
        "import pandas as pd\n",
        "import io\n",
        "import numpy as np\n",
        "from sklearn import preprocessing \n",
        "from sklearn import svm\n",
        "from sklearn import metrics\n",
        "import math"
      ],
      "execution_count": 1,
      "outputs": []
    },
    {
      "cell_type": "code",
      "metadata": {
        "id": "VCZ-9V6Io2M2",
        "colab_type": "code",
        "colab": {}
      },
      "source": [
        "df = pd.read_csv(\"drive/My Drive/2011-capitalbikeshare-tripdata.csv\")"
      ],
      "execution_count": 2,
      "outputs": []
    },
    {
      "cell_type": "code",
      "metadata": {
        "id": "3EmxEz2vntzw",
        "colab_type": "code",
        "colab": {
          "base_uri": "https://localhost:8080/",
          "height": 153
        },
        "outputId": "5abade6b-9928-4c3f-cffc-5842ebc1caf6"
      },
      "source": [
        "print(df.head())"
      ],
      "execution_count": 3,
      "outputs": [
        {
          "output_type": "stream",
          "text": [
            "   Duration           Start date  ... Bike number  Member type\n",
            "0      3548  2011-01-01 00:01:29  ...      W00247       Member\n",
            "1       346  2011-01-01 00:02:46  ...      W00675       Casual\n",
            "2       562  2011-01-01 00:06:13  ...      W00357       Member\n",
            "3       434  2011-01-01 00:09:21  ...      W00970       Member\n",
            "4       233  2011-01-01 00:28:26  ...      W00346       Casual\n",
            "\n",
            "[5 rows x 9 columns]\n"
          ],
          "name": "stdout"
        }
      ]
    },
    {
      "cell_type": "code",
      "metadata": {
        "id": "kp5fhWDTo_sX",
        "colab_type": "code",
        "colab": {
          "base_uri": "https://localhost:8080/",
          "height": 419
        },
        "outputId": "79099e6a-3116-4740-871f-7aedc5b62d2c"
      },
      "source": [
        "# select cols\n",
        "cols = [\n",
        "    'End station', 'Start date', 'Start station', 'End date', 'Duration',\n",
        "    'Member type']\n",
        "label = ['End station']\n",
        "input = df[cols].copy()\n",
        "\n",
        "input['Start date'] = pd.to_datetime(input['Start date'],format='%Y-%m-%d %H:%M:%S')\n",
        "#input['End date'] = pd.to_datetime(input['End date'],format='%Y-%m-%d %H:%M:%S')\n",
        "\n",
        "# 時間處理改為拆年月日時分秒欄位\n",
        "\n",
        "input['s_year'] = input['Start date'].dt.year\n",
        "input['s_month'] = input['Start date'].dt.month\n",
        "input['s_day'] = input['Start date'].dt.day\n",
        "input['s_hour'] = input['Start date'].dt.hour\n",
        "input['s_minute'] = input['Start date'].dt.minute\n",
        "input['s_second'] = input['Start date'].dt.second\n",
        "'''\n",
        "input['e_year'] = input['End date'].dt.year\n",
        "input['e_month'] = input['End date'].dt.month\n",
        "input['e_day'] = input['End date'].dt.day\n",
        "input['e_hour'] = input['End date'].dt.hour\n",
        "input['e_minute'] = input['End date'].dt.minute\n",
        "input['e_second'] = input['End date'].dt.second\n",
        "'''\n",
        "#input['Time cost'] = (input['End date'] - input['Start date']).astype(int)\n",
        "#print(input)\n",
        "input = input.drop('Start date', 1)\n",
        "input = input.drop('End date', 1)\n",
        "input"
      ],
      "execution_count": 4,
      "outputs": [
        {
          "output_type": "execute_result",
          "data": {
            "text/html": [
              "<div>\n",
              "<style scoped>\n",
              "    .dataframe tbody tr th:only-of-type {\n",
              "        vertical-align: middle;\n",
              "    }\n",
              "\n",
              "    .dataframe tbody tr th {\n",
              "        vertical-align: top;\n",
              "    }\n",
              "\n",
              "    .dataframe thead th {\n",
              "        text-align: right;\n",
              "    }\n",
              "</style>\n",
              "<table border=\"1\" class=\"dataframe\">\n",
              "  <thead>\n",
              "    <tr style=\"text-align: right;\">\n",
              "      <th></th>\n",
              "      <th>End station</th>\n",
              "      <th>Start station</th>\n",
              "      <th>Duration</th>\n",
              "      <th>Member type</th>\n",
              "      <th>s_year</th>\n",
              "      <th>s_month</th>\n",
              "      <th>s_day</th>\n",
              "      <th>s_hour</th>\n",
              "      <th>s_minute</th>\n",
              "      <th>s_second</th>\n",
              "    </tr>\n",
              "  </thead>\n",
              "  <tbody>\n",
              "    <tr>\n",
              "      <th>0</th>\n",
              "      <td>5th &amp; F St NW</td>\n",
              "      <td>5th &amp; F St NW</td>\n",
              "      <td>3548</td>\n",
              "      <td>Member</td>\n",
              "      <td>2011</td>\n",
              "      <td>1</td>\n",
              "      <td>1</td>\n",
              "      <td>0</td>\n",
              "      <td>1</td>\n",
              "      <td>29</td>\n",
              "    </tr>\n",
              "    <tr>\n",
              "      <th>1</th>\n",
              "      <td>14th &amp; V St NW</td>\n",
              "      <td>14th &amp; Harvard St NW</td>\n",
              "      <td>346</td>\n",
              "      <td>Casual</td>\n",
              "      <td>2011</td>\n",
              "      <td>1</td>\n",
              "      <td>1</td>\n",
              "      <td>0</td>\n",
              "      <td>2</td>\n",
              "      <td>46</td>\n",
              "    </tr>\n",
              "    <tr>\n",
              "      <th>2</th>\n",
              "      <td>Adams Mill &amp; Columbia Rd NW</td>\n",
              "      <td>Georgia &amp; New Hampshire Ave NW</td>\n",
              "      <td>562</td>\n",
              "      <td>Member</td>\n",
              "      <td>2011</td>\n",
              "      <td>1</td>\n",
              "      <td>1</td>\n",
              "      <td>0</td>\n",
              "      <td>6</td>\n",
              "      <td>13</td>\n",
              "    </tr>\n",
              "    <tr>\n",
              "      <th>3</th>\n",
              "      <td>Florida Ave &amp; R St NW</td>\n",
              "      <td>10th &amp; U St NW</td>\n",
              "      <td>434</td>\n",
              "      <td>Member</td>\n",
              "      <td>2011</td>\n",
              "      <td>1</td>\n",
              "      <td>1</td>\n",
              "      <td>0</td>\n",
              "      <td>9</td>\n",
              "      <td>21</td>\n",
              "    </tr>\n",
              "    <tr>\n",
              "      <th>4</th>\n",
              "      <td>Calvert &amp; Biltmore St NW</td>\n",
              "      <td>Adams Mill &amp; Columbia Rd NW</td>\n",
              "      <td>233</td>\n",
              "      <td>Casual</td>\n",
              "      <td>2011</td>\n",
              "      <td>1</td>\n",
              "      <td>1</td>\n",
              "      <td>0</td>\n",
              "      <td>28</td>\n",
              "      <td>26</td>\n",
              "    </tr>\n",
              "    <tr>\n",
              "      <th>...</th>\n",
              "      <td>...</td>\n",
              "      <td>...</td>\n",
              "      <td>...</td>\n",
              "      <td>...</td>\n",
              "      <td>...</td>\n",
              "      <td>...</td>\n",
              "      <td>...</td>\n",
              "      <td>...</td>\n",
              "      <td>...</td>\n",
              "      <td>...</td>\n",
              "    </tr>\n",
              "    <tr>\n",
              "      <th>1226762</th>\n",
              "      <td>17th &amp; Corcoran St NW</td>\n",
              "      <td>15th &amp; P St NW</td>\n",
              "      <td>300</td>\n",
              "      <td>Member</td>\n",
              "      <td>2011</td>\n",
              "      <td>12</td>\n",
              "      <td>31</td>\n",
              "      <td>23</td>\n",
              "      <td>41</td>\n",
              "      <td>19</td>\n",
              "    </tr>\n",
              "    <tr>\n",
              "      <th>1226763</th>\n",
              "      <td>15th &amp; P St NW</td>\n",
              "      <td>Convention Center / 7th &amp; M St NW</td>\n",
              "      <td>387</td>\n",
              "      <td>Member</td>\n",
              "      <td>2011</td>\n",
              "      <td>12</td>\n",
              "      <td>31</td>\n",
              "      <td>23</td>\n",
              "      <td>46</td>\n",
              "      <td>43</td>\n",
              "    </tr>\n",
              "    <tr>\n",
              "      <th>1226764</th>\n",
              "      <td>Park Rd &amp; Holmead Pl NW</td>\n",
              "      <td>Lamont &amp; Mt Pleasant NW</td>\n",
              "      <td>261</td>\n",
              "      <td>Member</td>\n",
              "      <td>2011</td>\n",
              "      <td>12</td>\n",
              "      <td>31</td>\n",
              "      <td>23</td>\n",
              "      <td>47</td>\n",
              "      <td>27</td>\n",
              "    </tr>\n",
              "    <tr>\n",
              "      <th>1226765</th>\n",
              "      <td>New York Ave &amp; 15th St NW</td>\n",
              "      <td>21st &amp; I St NW</td>\n",
              "      <td>2060</td>\n",
              "      <td>Member</td>\n",
              "      <td>2011</td>\n",
              "      <td>12</td>\n",
              "      <td>31</td>\n",
              "      <td>23</td>\n",
              "      <td>55</td>\n",
              "      <td>12</td>\n",
              "    </tr>\n",
              "    <tr>\n",
              "      <th>1226766</th>\n",
              "      <td>10th &amp; U St NW</td>\n",
              "      <td>18th &amp; M St NW</td>\n",
              "      <td>468</td>\n",
              "      <td>Member</td>\n",
              "      <td>2011</td>\n",
              "      <td>12</td>\n",
              "      <td>31</td>\n",
              "      <td>23</td>\n",
              "      <td>55</td>\n",
              "      <td>56</td>\n",
              "    </tr>\n",
              "  </tbody>\n",
              "</table>\n",
              "<p>1226767 rows × 10 columns</p>\n",
              "</div>"
            ],
            "text/plain": [
              "                         End station  ... s_second\n",
              "0                      5th & F St NW  ...       29\n",
              "1                     14th & V St NW  ...       46\n",
              "2        Adams Mill & Columbia Rd NW  ...       13\n",
              "3              Florida Ave & R St NW  ...       21\n",
              "4           Calvert & Biltmore St NW  ...       26\n",
              "...                              ...  ...      ...\n",
              "1226762        17th & Corcoran St NW  ...       19\n",
              "1226763               15th & P St NW  ...       43\n",
              "1226764      Park Rd & Holmead Pl NW  ...       27\n",
              "1226765    New York Ave & 15th St NW  ...       12\n",
              "1226766               10th & U St NW  ...       56\n",
              "\n",
              "[1226767 rows x 10 columns]"
            ]
          },
          "metadata": {
            "tags": []
          },
          "execution_count": 4
        }
      ]
    },
    {
      "cell_type": "code",
      "metadata": {
        "id": "aNap1rBsxJeu",
        "colab_type": "code",
        "colab": {
          "base_uri": "https://localhost:8080/",
          "height": 105
        },
        "outputId": "3809c903-b0d4-4346-d111-84d54880148a"
      },
      "source": [
        "#建立日期、會員的索引\n",
        "station_index = {}\n",
        "member_index = {}\n",
        "\n",
        "#車站\n",
        "i = 0\n",
        "for name in input[\"Start station\"]:\n",
        "  if station_index.__contains__(name) == False:\n",
        "    station_index.update({name : i})\n",
        "    #station_index.update({i : name})\n",
        "    i+=1\n",
        "print(station_index)\n",
        "print(len(station_index))\n",
        "#會員\n",
        "i = 0\n",
        "for name in input[\"Member type\"]:\n",
        "  if member_index.__contains__(name) == False:\n",
        "    member_index.update({name : i})\n",
        "    #station_index.update({i : name})\n",
        "    i+=1\n",
        "print(member_index)\n",
        "print(len(member_index))"
      ],
      "execution_count": 6,
      "outputs": [
        {
          "output_type": "stream",
          "text": [
            "{'5th & F St NW': 0, '14th & Harvard St NW': 1, 'Georgia & New Hampshire Ave NW': 2, '10th & U St NW': 3, 'Adams Mill & Columbia Rd NW': 4, '3rd & D St SE': 5, '14th & Rhode Island Ave NW': 6, '15th & P St NW': 7, 'Van Ness Metro / UDC': 8, 'Crystal City Metro / 18th & Bell St': 9, '14th & R St NW': 10, '21st & M St NW': 11, 'Eastern Market Metro / Pennsylvania Ave & 7th St SE': 12, '16th & Harvard St NW': 13, '7th & T St NW': 14, 'Wisconsin Ave & Newark St NW': 15, 'New Hampshire Ave & T St NW': 16, '1st & M St NE': 17, 'Connecticut Ave & Newark St NW / Cleveland Park': 18, '5th & K St NW': 19, '14th & V St NW': 20, 'M St & New Jersey Ave SE': 21, 'Florida Ave & R St NW': 22, '17th & K St NW': 23, '13th & H St NE': 24, 'Lamont & Mt Pleasant NW': 25, '18th & M St NW': 26, '18th & Eads St.': 27, '19th & L St NW': 28, 'Park Rd & Holmead Pl NW': 29, '19th St & Pennsylvania Ave NW': 30, '21st & I St NW': 31, '14th St Heights / 14th & Crittenden St NW': 32, 'Potomac & Pennsylvania Ave SE': 33, 'Columbus Circle / Union Station': 34, 'Massachusetts Ave & Dupont Circle NW': 35, '23rd & Crystal Dr': 36, '20th St & Florida Ave NW': 37, 'Harvard St & Adams Mill Rd NW': 38, '17th & Corcoran St NW': 39, '11th & Kenyon St NW': 40, 'Lincoln Park / 13th & East Capitol St NE ': 41, \"L'Enfant Plaza / 7th & C St SW\": 42, '4th & M St SW': 43, '13th & D St NE': 44, '8th & H St NW': 45, 'Aurora Hills Community Ctr/18th & Hayes St': 46, '20th & E St NW': 47, 'S Joyce & Army Navy Dr': 48, 'Convention Center / 7th & M St NW': 49, '13th St & New York Ave NW': 50, '36th & Calvert St NW / Glover Park': 51, '14th St & Spring Rd NW': 52, '3rd & H St NE': 53, '25th St & Pennsylvania Ave NW': 54, '14th & D St SE': 55, 'John McCormack Dr & Michigan Ave NE': 56, 'Georgia Ave and Fairmont St NW': 57, '20th & Crystal Dr': 58, 'S Glebe & Potomac Ave': 59, '10th St & Constitution Ave NW': 60, 'USDA / 12th & Independence Ave SW': 61, '27th & Crystal Dr': 62, 'Ward Circle / American University': 63, 'Eastern Market / 7th & North Carolina Ave SE': 64, 'Maine Ave & 7th St SW': 65, 'Georgetown Harbor / 30th St NW': 66, 'C & O Canal & Wisconsin Ave NW': 67, '14th & G St NW': 68, '37th & O St NW / Georgetown University': 69, 'Pentagon City Metro / 12th & S Hayes St': 70, '4th & East Capitol St NE': 71, '3rd & H St NW': 72, 'North Capitol St & F St NW': 73, 'Calvert & Biltmore St NW': 74, 'Good Hope & Naylor Rd SE': 75, '19th & E Street NW': 76, '19th St & Constitution Ave NW': 77, 'New York Ave & 15th St NW': 78, 'US Dept of State / Virginia Ave & 21st St NW': 79, '12th & Army Navy Dr': 80, '34th St & Wisconsin Ave NW': 81, '4th & W St NE': 82, '26th & S Clark St': 83, '8th & Eye St SE / Barracks Row': 84, '14th St & New York Ave NW': 85, 'Tenleytown / Wisconsin Ave & Albemarle St NW': 86, '10th & Monroe St NE': 87, '15th & Crystal Dr': 88, 'Eads & 22nd St S': 89, 'Eckington Pl & Q St NE': 90, '1st & N St  SE': 91, 'Kennedy Center': 92, '19th & East Capitol St SE': 93, 'Bladensburg Rd & Benning Rd NE': 94, 'Pennsylvania & Minnesota Ave SE': 95, '12th & Newton St NE': 96, 'Nannie Helen Burroughs & Minnesota Ave NE': 97, 'Anacostia Library': 98, 'Minnesota Ave Metro/DOES': 99, 'Good Hope Rd & MLK Ave SE': 100, 'Anacostia Metro': 101, 'Benning Branch Library': 102, '11th & M St NW': 103, 'Eads St & 15th St S': 104, 'Randle Circle & Minnesota Ave SE': 105, 'Potomac Ave & 35th St S': 106, '11th & F St NW': 107, 'Lynn & 19th St North': 108, 'Clarendon Blvd & Pierce St': 109, 'N Rhodes & 16th St N': 110, 'Rosslyn Metro / Wilson Blvd & Ft Myer Dr': 111, '14th & D St NW / Ronald Reagan Building': 112, '17th & K St NW / Farragut Square': 113, '7th & F St NW / National Portrait Gallery': 114, 'Metro Center / 12th & G St NW': 115, '4th & D St NW / Judiciary Square': 116, 'Branch & Pennsylvania Ave SE': 117, 'Fairfax Village': 118, '21st St & Constitution Ave NW': 119, 'Wilson Blvd & N Uhle St': 120, 'Wilson Blvd & N Edgewood St': 121, 'Columbia Rd & Belmont St NW': 122, 'Rhode Island & Connecticut Ave NW': 123, 'Thomas Circle': 124, 'Clarendon Metro / Wilson Blvd & N Highland St': 125, 'Clarendon Blvd & N Fillmore St': 126, '18th St & Pennsylvania Ave NW': 127, '7th & R St NW / Shaw Library': 128, '3rd & G St SE': 129, 'Wilson Blvd & Franklin Rd': 130, '4th & E St SW': 131, '1st & Rhode Island Ave NW': 132, '9th & Upshur St NW': 133, 'Columbia Rd & Georgia Ave NW': 134, '6th & H St NE': 135, '11th & H St NE': 136, 'California St & Florida Ave NW': 137, 'M St & Pennsylvania Ave NW': 138, '3000 Connecticut Ave NW / National Zoo': 139, 'Benning Rd & East Capitol St NE / Benning Rd Metro': 140, 'Anacostia Ave & Benning Rd NE / River Terrace ': 141, '15th St & Massachusetts Ave SE': 142, 'Congress Heights Metro': 143}\n",
            "144\n",
            "{'Member': 0, 'Casual': 1, 'Unknown': 2}\n",
            "3\n"
          ],
          "name": "stdout"
        }
      ]
    },
    {
      "cell_type": "code",
      "metadata": {
        "id": "KI4VE1ZfgGxr",
        "colab_type": "code",
        "colab": {}
      },
      "source": [
        "for key, value in station_index.items():\n",
        "    input[\"Start station\"] = input[\"Start station\"].replace(key, str(value))\n",
        "\n",
        "for key, value in station_index.items():\n",
        "    input[\"End station\"] = input[\"End station\"].replace(key, str(value))\n",
        "\n",
        "for key, value in member_index.items():\n",
        "    input[\"Member type\"] = input[\"Member type\"].replace(key, str(value))"
      ],
      "execution_count": 8,
      "outputs": []
    },
    {
      "cell_type": "code",
      "metadata": {
        "id": "wmMy3C0VJJbk",
        "colab_type": "code",
        "colab": {
          "base_uri": "https://localhost:8080/",
          "height": 419
        },
        "outputId": "cfd4fe35-9a51-4517-87c0-8a2dbeb5b7be"
      },
      "source": [
        "input = input.drop('s_year', 1)\n",
        "input"
      ],
      "execution_count": 10,
      "outputs": [
        {
          "output_type": "execute_result",
          "data": {
            "text/html": [
              "<div>\n",
              "<style scoped>\n",
              "    .dataframe tbody tr th:only-of-type {\n",
              "        vertical-align: middle;\n",
              "    }\n",
              "\n",
              "    .dataframe tbody tr th {\n",
              "        vertical-align: top;\n",
              "    }\n",
              "\n",
              "    .dataframe thead th {\n",
              "        text-align: right;\n",
              "    }\n",
              "</style>\n",
              "<table border=\"1\" class=\"dataframe\">\n",
              "  <thead>\n",
              "    <tr style=\"text-align: right;\">\n",
              "      <th></th>\n",
              "      <th>End station</th>\n",
              "      <th>Start station</th>\n",
              "      <th>Duration</th>\n",
              "      <th>Member type</th>\n",
              "      <th>s_month</th>\n",
              "      <th>s_day</th>\n",
              "      <th>s_hour</th>\n",
              "      <th>s_minute</th>\n",
              "      <th>s_second</th>\n",
              "    </tr>\n",
              "  </thead>\n",
              "  <tbody>\n",
              "    <tr>\n",
              "      <th>0</th>\n",
              "      <td>0</td>\n",
              "      <td>0</td>\n",
              "      <td>3548</td>\n",
              "      <td>0</td>\n",
              "      <td>1</td>\n",
              "      <td>1</td>\n",
              "      <td>0</td>\n",
              "      <td>1</td>\n",
              "      <td>29</td>\n",
              "    </tr>\n",
              "    <tr>\n",
              "      <th>1</th>\n",
              "      <td>20</td>\n",
              "      <td>1</td>\n",
              "      <td>346</td>\n",
              "      <td>1</td>\n",
              "      <td>1</td>\n",
              "      <td>1</td>\n",
              "      <td>0</td>\n",
              "      <td>2</td>\n",
              "      <td>46</td>\n",
              "    </tr>\n",
              "    <tr>\n",
              "      <th>2</th>\n",
              "      <td>4</td>\n",
              "      <td>2</td>\n",
              "      <td>562</td>\n",
              "      <td>0</td>\n",
              "      <td>1</td>\n",
              "      <td>1</td>\n",
              "      <td>0</td>\n",
              "      <td>6</td>\n",
              "      <td>13</td>\n",
              "    </tr>\n",
              "    <tr>\n",
              "      <th>3</th>\n",
              "      <td>22</td>\n",
              "      <td>3</td>\n",
              "      <td>434</td>\n",
              "      <td>0</td>\n",
              "      <td>1</td>\n",
              "      <td>1</td>\n",
              "      <td>0</td>\n",
              "      <td>9</td>\n",
              "      <td>21</td>\n",
              "    </tr>\n",
              "    <tr>\n",
              "      <th>4</th>\n",
              "      <td>74</td>\n",
              "      <td>4</td>\n",
              "      <td>233</td>\n",
              "      <td>1</td>\n",
              "      <td>1</td>\n",
              "      <td>1</td>\n",
              "      <td>0</td>\n",
              "      <td>28</td>\n",
              "      <td>26</td>\n",
              "    </tr>\n",
              "    <tr>\n",
              "      <th>...</th>\n",
              "      <td>...</td>\n",
              "      <td>...</td>\n",
              "      <td>...</td>\n",
              "      <td>...</td>\n",
              "      <td>...</td>\n",
              "      <td>...</td>\n",
              "      <td>...</td>\n",
              "      <td>...</td>\n",
              "      <td>...</td>\n",
              "    </tr>\n",
              "    <tr>\n",
              "      <th>1226762</th>\n",
              "      <td>39</td>\n",
              "      <td>7</td>\n",
              "      <td>300</td>\n",
              "      <td>0</td>\n",
              "      <td>12</td>\n",
              "      <td>31</td>\n",
              "      <td>23</td>\n",
              "      <td>41</td>\n",
              "      <td>19</td>\n",
              "    </tr>\n",
              "    <tr>\n",
              "      <th>1226763</th>\n",
              "      <td>7</td>\n",
              "      <td>49</td>\n",
              "      <td>387</td>\n",
              "      <td>0</td>\n",
              "      <td>12</td>\n",
              "      <td>31</td>\n",
              "      <td>23</td>\n",
              "      <td>46</td>\n",
              "      <td>43</td>\n",
              "    </tr>\n",
              "    <tr>\n",
              "      <th>1226764</th>\n",
              "      <td>29</td>\n",
              "      <td>25</td>\n",
              "      <td>261</td>\n",
              "      <td>0</td>\n",
              "      <td>12</td>\n",
              "      <td>31</td>\n",
              "      <td>23</td>\n",
              "      <td>47</td>\n",
              "      <td>27</td>\n",
              "    </tr>\n",
              "    <tr>\n",
              "      <th>1226765</th>\n",
              "      <td>78</td>\n",
              "      <td>31</td>\n",
              "      <td>2060</td>\n",
              "      <td>0</td>\n",
              "      <td>12</td>\n",
              "      <td>31</td>\n",
              "      <td>23</td>\n",
              "      <td>55</td>\n",
              "      <td>12</td>\n",
              "    </tr>\n",
              "    <tr>\n",
              "      <th>1226766</th>\n",
              "      <td>3</td>\n",
              "      <td>26</td>\n",
              "      <td>468</td>\n",
              "      <td>0</td>\n",
              "      <td>12</td>\n",
              "      <td>31</td>\n",
              "      <td>23</td>\n",
              "      <td>55</td>\n",
              "      <td>56</td>\n",
              "    </tr>\n",
              "  </tbody>\n",
              "</table>\n",
              "<p>1226767 rows × 9 columns</p>\n",
              "</div>"
            ],
            "text/plain": [
              "        End station Start station  Duration  ... s_hour  s_minute  s_second\n",
              "0                 0             0      3548  ...      0         1        29\n",
              "1                20             1       346  ...      0         2        46\n",
              "2                 4             2       562  ...      0         6        13\n",
              "3                22             3       434  ...      0         9        21\n",
              "4                74             4       233  ...      0        28        26\n",
              "...             ...           ...       ...  ...    ...       ...       ...\n",
              "1226762          39             7       300  ...     23        41        19\n",
              "1226763           7            49       387  ...     23        46        43\n",
              "1226764          29            25       261  ...     23        47        27\n",
              "1226765          78            31      2060  ...     23        55        12\n",
              "1226766           3            26       468  ...     23        55        56\n",
              "\n",
              "[1226767 rows x 9 columns]"
            ]
          },
          "metadata": {
            "tags": []
          },
          "execution_count": 10
        }
      ]
    },
    {
      "cell_type": "code",
      "metadata": {
        "id": "CotQD9ZbJPa7",
        "colab_type": "code",
        "colab": {}
      },
      "source": [
        "xStartStation = input['Start station']\n",
        "xDurtion = input['Duration']\n",
        "xMember = input['Member type']\n",
        "xYear = input['s_month']\n",
        "xDay = input['s_day']\n",
        "xHour = input['s_hour']\n",
        "xMinute = input['s_minute']\n",
        "xSecond = input['s_second']\n",
        "yEndStation = input['End station']"
      ],
      "execution_count": 15,
      "outputs": []
    },
    {
      "cell_type": "code",
      "metadata": {
        "id": "lhJevqN4KxGq",
        "colab_type": "code",
        "colab": {}
      },
      "source": [
        "Y = yEndStation.values"
      ],
      "execution_count": 36,
      "outputs": []
    },
    {
      "cell_type": "code",
      "metadata": {
        "id": "LnO9DHxaLFFx",
        "colab_type": "code",
        "colab": {
          "base_uri": "https://localhost:8080/",
          "height": 221
        },
        "outputId": "eeb00b9a-91b7-4096-838c-2c2af4d37b10"
      },
      "source": [
        "print(Y[:150])\n",
        "print(len(Y))\n",
        "print(Y.data.shape)"
      ],
      "execution_count": 42,
      "outputs": [
        {
          "output_type": "stream",
          "text": [
            "['0' '20' '4' '22' '74' '71' '7' '7' '10' '10' '4' '3' '59' '59' '14' '14'\n",
            " '2' '39' '39' '55' '55' '13' '29' '29' '3' '3' '74' '14' '20' '20' '87'\n",
            " '4' '13' '13' '41' '16' '16' '7' '7' '32' '21' '32' '23' '20' '1' '57'\n",
            " '41' '41' '26' '53' '53' '38' '2' '28' '52' '80' '3' '3' '30' '71' '25'\n",
            " '31' '62' '62' '26' '25' '8' '25' '25' '1' '35' '7' '48' '54' '22' '41'\n",
            " '37' '74' '59' '39' '71' '72' '24' '4' '6' '32' '4' '25' '24' '24' '57'\n",
            " '65' '65' '41' '20' '43' '25' '22' '79' '34' '4' '26' '11' '57' '34' '48'\n",
            " '59' '16' '46' '52' '6' '29' '6' '4' '42' '42' '13' '11' '4' '50' '7'\n",
            " '50' '50' '50' '84' '7' '39' '6' '52' '6' '27' '27' '50' '41' '3' '50'\n",
            " '50' '64' '41' '64' '38' '38' '10' '10' '10' '53' '16' '74' '86' '47']\n",
            "1226767\n",
            "(1226767,)\n"
          ],
          "name": "stdout"
        }
      ]
    },
    {
      "cell_type": "code",
      "metadata": {
        "id": "XphJ-RVMKh37",
        "colab_type": "code",
        "colab": {
          "base_uri": "https://localhost:8080/",
          "height": 136
        },
        "outputId": "856c722b-1d92-4d0b-e6b1-d13842d21541"
      },
      "source": [
        "X = np.column_stack((xStartStation, xDurtion, xMember, xYear, xDay, xHour, xMinute, xSecond))\n",
        "X"
      ],
      "execution_count": 39,
      "outputs": [
        {
          "output_type": "execute_result",
          "data": {
            "text/plain": [
              "array([['0', 3548, '0', ..., 0, 1, 29],\n",
              "       ['1', 346, '1', ..., 0, 2, 46],\n",
              "       ['2', 562, '0', ..., 0, 6, 13],\n",
              "       ...,\n",
              "       ['25', 261, '0', ..., 23, 47, 27],\n",
              "       ['31', 2060, '0', ..., 23, 55, 12],\n",
              "       ['26', 468, '0', ..., 23, 55, 56]], dtype=object)"
            ]
          },
          "metadata": {
            "tags": []
          },
          "execution_count": 39
        }
      ]
    },
    {
      "cell_type": "code",
      "metadata": {
        "id": "feHkC822KwgS",
        "colab_type": "code",
        "colab": {
          "base_uri": "https://localhost:8080/",
          "height": 34
        },
        "outputId": "d72e4eb9-c033-4099-9e69-77434e36fa66"
      },
      "source": [
        "print(X.data.shape)"
      ],
      "execution_count": 40,
      "outputs": [
        {
          "output_type": "stream",
          "text": [
            "(1226767, 8)\n"
          ],
          "name": "stdout"
        }
      ]
    },
    {
      "cell_type": "markdown",
      "metadata": {
        "id": "xgH_mDBTUBcS",
        "colab_type": "text"
      },
      "source": [
        "#建構決策樹"
      ]
    },
    {
      "cell_type": "code",
      "metadata": {
        "id": "0bHAH5rrNpAo",
        "colab_type": "code",
        "colab": {}
      },
      "source": [
        "from sklearn import tree\n",
        "from sklearn import datasets\n",
        "import pydotplus\n",
        "from sklearn.model_selection import train_test_split"
      ],
      "execution_count": 41,
      "outputs": []
    },
    {
      "cell_type": "code",
      "metadata": {
        "id": "SwIf5M9QN7pT",
        "colab_type": "code",
        "colab": {}
      },
      "source": [
        "X_train, X_test, y_train, y_test = train_test_split(X, Y, test_size=0.3, random_state=0)"
      ],
      "execution_count": 84,
      "outputs": []
    },
    {
      "cell_type": "code",
      "metadata": {
        "id": "8zH32mZZORYX",
        "colab_type": "code",
        "colab": {
          "base_uri": "https://localhost:8080/",
          "height": 136
        },
        "outputId": "ea368b02-27d8-42eb-b020-a9acff9683ae"
      },
      "source": [
        "X_train"
      ],
      "execution_count": 85,
      "outputs": [
        {
          "output_type": "execute_result",
          "data": {
            "text/plain": [
              "array([['29', 343, '0', ..., 19, 56, 1],\n",
              "       ['47', 206, '0', ..., 12, 6, 20],\n",
              "       ['1', 1076, '0', ..., 20, 53, 44],\n",
              "       ...,\n",
              "       ['108', 1930, '0', ..., 17, 9, 40],\n",
              "       ['77', 1156, '1', ..., 11, 42, 53],\n",
              "       ['42', 754, '0', ..., 16, 37, 10]], dtype=object)"
            ]
          },
          "metadata": {
            "tags": []
          },
          "execution_count": 85
        }
      ]
    },
    {
      "cell_type": "code",
      "metadata": {
        "id": "xRHGKiwmOUK_",
        "colab_type": "code",
        "colab": {
          "base_uri": "https://localhost:8080/",
          "height": 34
        },
        "outputId": "091ef7e2-a547-4c30-b245-03659da349f4"
      },
      "source": [
        "y_train"
      ],
      "execution_count": 86,
      "outputs": [
        {
          "output_type": "execute_result",
          "data": {
            "text/plain": [
              "array(['2', '92', '19', ..., '22', '78', '73'], dtype=object)"
            ]
          },
          "metadata": {
            "tags": []
          },
          "execution_count": 86
        }
      ]
    },
    {
      "cell_type": "code",
      "metadata": {
        "id": "rnTVKfPROVz8",
        "colab_type": "code",
        "colab": {}
      },
      "source": [
        "clf = tree.DecisionTreeClassifier(criterion='entropy').fit(X_train,y_train)#用entropy測試"
      ],
      "execution_count": 87,
      "outputs": []
    },
    {
      "cell_type": "code",
      "metadata": {
        "id": "Cer8ctsrPRzP",
        "colab_type": "code",
        "colab": {
          "base_uri": "https://localhost:8080/",
          "height": 34
        },
        "outputId": "07d6cbaf-f858-4877-de5c-cc627fb64a48"
      },
      "source": [
        "clf.score(X_train,y_train)"
      ],
      "execution_count": 88,
      "outputs": [
        {
          "output_type": "execute_result",
          "data": {
            "text/plain": [
              "1.0"
            ]
          },
          "metadata": {
            "tags": []
          },
          "execution_count": 88
        }
      ]
    },
    {
      "cell_type": "code",
      "metadata": {
        "id": "8ZYjbpfpPycO",
        "colab_type": "code",
        "colab": {
          "base_uri": "https://localhost:8080/",
          "height": 34
        },
        "outputId": "4124ad84-c308-4d04-f9d2-a3ad9ce40aa8"
      },
      "source": [
        "clf.predict(X_test)"
      ],
      "execution_count": 89,
      "outputs": [
        {
          "output_type": "execute_result",
          "data": {
            "text/plain": [
              "array(['53', '108', '18', ..., '35', '22', '61'], dtype=object)"
            ]
          },
          "metadata": {
            "tags": []
          },
          "execution_count": 89
        }
      ]
    },
    {
      "cell_type": "code",
      "metadata": {
        "id": "8zsaaSiHQC0t",
        "colab_type": "code",
        "colab": {
          "base_uri": "https://localhost:8080/",
          "height": 34
        },
        "outputId": "9e1bc8dd-db6c-4bef-9e01-ff6b6ef292dc"
      },
      "source": [
        "clf.score(X_test,y_test)"
      ],
      "execution_count": 90,
      "outputs": [
        {
          "output_type": "execute_result",
          "data": {
            "text/plain": [
              "0.2201825389709019"
            ]
          },
          "metadata": {
            "tags": []
          },
          "execution_count": 90
        }
      ]
    },
    {
      "cell_type": "code",
      "metadata": {
        "id": "waVel29GRvSF",
        "colab_type": "code",
        "colab": {}
      },
      "source": [
        "clf = tree.DecisionTreeClassifier(criterion='gini',splitter='best').fit(X_train,y_train)#用gini測試"
      ],
      "execution_count": 91,
      "outputs": []
    },
    {
      "cell_type": "code",
      "metadata": {
        "id": "cMKfqC2YR3FU",
        "colab_type": "code",
        "colab": {
          "base_uri": "https://localhost:8080/",
          "height": 34
        },
        "outputId": "96c29aa0-ee2e-44ca-91b2-d44b61fae6d2"
      },
      "source": [
        "clf.score(X_train,y_train)"
      ],
      "execution_count": 92,
      "outputs": [
        {
          "output_type": "execute_result",
          "data": {
            "text/plain": [
              "1.0"
            ]
          },
          "metadata": {
            "tags": []
          },
          "execution_count": 92
        }
      ]
    },
    {
      "cell_type": "code",
      "metadata": {
        "id": "s7Yh9T2oR4Os",
        "colab_type": "code",
        "colab": {
          "base_uri": "https://localhost:8080/",
          "height": 34
        },
        "outputId": "1415f8d3-c4b4-4ebe-c10b-17e991b468a7"
      },
      "source": [
        "clf.predict(X_test)"
      ],
      "execution_count": 93,
      "outputs": [
        {
          "output_type": "execute_result",
          "data": {
            "text/plain": [
              "array(['53', '30', '35', ..., '35', '13', '77'], dtype=object)"
            ]
          },
          "metadata": {
            "tags": []
          },
          "execution_count": 93
        }
      ]
    },
    {
      "cell_type": "code",
      "metadata": {
        "id": "2QGnjUbAR8Cc",
        "colab_type": "code",
        "colab": {
          "base_uri": "https://localhost:8080/",
          "height": 34
        },
        "outputId": "151d1141-a670-4b14-cbe5-e7ef9ce1978f"
      },
      "source": [
        "clf.score(X_test,y_test)"
      ],
      "execution_count": 94,
      "outputs": [
        {
          "output_type": "execute_result",
          "data": {
            "text/plain": [
              "0.2213155956971016"
            ]
          },
          "metadata": {
            "tags": []
          },
          "execution_count": 94
        }
      ]
    }
  ]
}