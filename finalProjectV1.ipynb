{
  "nbformat": 4,
  "nbformat_minor": 0,
  "metadata": {
    "colab": {
      "name": "finalProjectV1.ipynb",
      "provenance": [],
      "mount_file_id": "1zi9KfBEX4rAVjrKqz9PvqfYhI6sHyeQC",
      "authorship_tag": "ABX9TyOOx4PUPvSSPFadJSsTGeA6",
      "include_colab_link": true
    },
    "kernelspec": {
      "name": "python3",
      "display_name": "Python 3"
    }
  },
  "cells": [
    {
      "cell_type": "markdown",
      "metadata": {
        "id": "view-in-github",
        "colab_type": "text"
      },
      "source": [
        "<a href=\"https://colab.research.google.com/github/giisg/desktop-tutorial/blob/HW/finalProjectV1.ipynb\" target=\"_parent\"><img src=\"https://colab.research.google.com/assets/colab-badge.svg\" alt=\"Open In Colab\"/></a>"
      ]
    },
    {
      "cell_type": "code",
      "metadata": {
        "id": "ozHF2R6cJlS-"
      },
      "source": [
        "import pandas as pd\n",
        "import io\n",
        "import numpy as np\n",
        "from sklearn import preprocessing \n",
        "from sklearn import svm\n",
        "from sklearn import metrics\n",
        "import math"
      ],
      "execution_count": null,
      "outputs": []
    },
    {
      "cell_type": "code",
      "metadata": {
        "id": "nyVlmcaamkTk"
      },
      "source": [
        "df = pd.read_csv(\"drive/My Drive/train.csv\")"
      ],
      "execution_count": null,
      "outputs": []
    },
    {
      "cell_type": "code",
      "metadata": {
        "colab": {
          "base_uri": "https://localhost:8080/",
          "height": 204
        },
        "id": "LxHfbLW1mnmU",
        "outputId": "8eaad17a-6264-4420-f9a0-1fbedf679c4c"
      },
      "source": [
        "df.head()"
      ],
      "execution_count": null,
      "outputs": [
        {
          "output_type": "execute_result",
          "data": {
            "text/html": [
              "<div>\n",
              "<style scoped>\n",
              "    .dataframe tbody tr th:only-of-type {\n",
              "        vertical-align: middle;\n",
              "    }\n",
              "\n",
              "    .dataframe tbody tr th {\n",
              "        vertical-align: top;\n",
              "    }\n",
              "\n",
              "    .dataframe thead th {\n",
              "        text-align: right;\n",
              "    }\n",
              "</style>\n",
              "<table border=\"1\" class=\"dataframe\">\n",
              "  <thead>\n",
              "    <tr style=\"text-align: right;\">\n",
              "      <th></th>\n",
              "      <th>ID</th>\n",
              "      <th>age</th>\n",
              "      <th>job</th>\n",
              "      <th>marital</th>\n",
              "      <th>education</th>\n",
              "      <th>default</th>\n",
              "      <th>balance</th>\n",
              "      <th>housing</th>\n",
              "      <th>loan</th>\n",
              "      <th>contact</th>\n",
              "      <th>day</th>\n",
              "      <th>month</th>\n",
              "      <th>duration</th>\n",
              "      <th>campaign</th>\n",
              "      <th>pdays</th>\n",
              "      <th>previous</th>\n",
              "      <th>poutcome</th>\n",
              "      <th>subscribed</th>\n",
              "    </tr>\n",
              "  </thead>\n",
              "  <tbody>\n",
              "    <tr>\n",
              "      <th>0</th>\n",
              "      <td>26110</td>\n",
              "      <td>56</td>\n",
              "      <td>admin.</td>\n",
              "      <td>married</td>\n",
              "      <td>unknown</td>\n",
              "      <td>no</td>\n",
              "      <td>1933</td>\n",
              "      <td>no</td>\n",
              "      <td>no</td>\n",
              "      <td>telephone</td>\n",
              "      <td>19</td>\n",
              "      <td>nov</td>\n",
              "      <td>44</td>\n",
              "      <td>2</td>\n",
              "      <td>-1</td>\n",
              "      <td>0</td>\n",
              "      <td>unknown</td>\n",
              "      <td>no</td>\n",
              "    </tr>\n",
              "    <tr>\n",
              "      <th>1</th>\n",
              "      <td>40576</td>\n",
              "      <td>31</td>\n",
              "      <td>unknown</td>\n",
              "      <td>married</td>\n",
              "      <td>secondary</td>\n",
              "      <td>no</td>\n",
              "      <td>3</td>\n",
              "      <td>no</td>\n",
              "      <td>no</td>\n",
              "      <td>cellular</td>\n",
              "      <td>20</td>\n",
              "      <td>jul</td>\n",
              "      <td>91</td>\n",
              "      <td>2</td>\n",
              "      <td>-1</td>\n",
              "      <td>0</td>\n",
              "      <td>unknown</td>\n",
              "      <td>no</td>\n",
              "    </tr>\n",
              "    <tr>\n",
              "      <th>2</th>\n",
              "      <td>15320</td>\n",
              "      <td>27</td>\n",
              "      <td>services</td>\n",
              "      <td>married</td>\n",
              "      <td>secondary</td>\n",
              "      <td>no</td>\n",
              "      <td>891</td>\n",
              "      <td>yes</td>\n",
              "      <td>no</td>\n",
              "      <td>cellular</td>\n",
              "      <td>18</td>\n",
              "      <td>jul</td>\n",
              "      <td>240</td>\n",
              "      <td>1</td>\n",
              "      <td>-1</td>\n",
              "      <td>0</td>\n",
              "      <td>unknown</td>\n",
              "      <td>no</td>\n",
              "    </tr>\n",
              "    <tr>\n",
              "      <th>3</th>\n",
              "      <td>43962</td>\n",
              "      <td>57</td>\n",
              "      <td>management</td>\n",
              "      <td>divorced</td>\n",
              "      <td>tertiary</td>\n",
              "      <td>no</td>\n",
              "      <td>3287</td>\n",
              "      <td>no</td>\n",
              "      <td>no</td>\n",
              "      <td>cellular</td>\n",
              "      <td>22</td>\n",
              "      <td>jun</td>\n",
              "      <td>867</td>\n",
              "      <td>1</td>\n",
              "      <td>84</td>\n",
              "      <td>3</td>\n",
              "      <td>success</td>\n",
              "      <td>yes</td>\n",
              "    </tr>\n",
              "    <tr>\n",
              "      <th>4</th>\n",
              "      <td>29842</td>\n",
              "      <td>31</td>\n",
              "      <td>technician</td>\n",
              "      <td>married</td>\n",
              "      <td>secondary</td>\n",
              "      <td>no</td>\n",
              "      <td>119</td>\n",
              "      <td>yes</td>\n",
              "      <td>no</td>\n",
              "      <td>cellular</td>\n",
              "      <td>4</td>\n",
              "      <td>feb</td>\n",
              "      <td>380</td>\n",
              "      <td>1</td>\n",
              "      <td>-1</td>\n",
              "      <td>0</td>\n",
              "      <td>unknown</td>\n",
              "      <td>no</td>\n",
              "    </tr>\n",
              "  </tbody>\n",
              "</table>\n",
              "</div>"
            ],
            "text/plain": [
              "      ID  age         job   marital  ... pdays previous  poutcome subscribed\n",
              "0  26110   56      admin.   married  ...    -1        0   unknown         no\n",
              "1  40576   31     unknown   married  ...    -1        0   unknown         no\n",
              "2  15320   27    services   married  ...    -1        0   unknown         no\n",
              "3  43962   57  management  divorced  ...    84        3   success        yes\n",
              "4  29842   31  technician   married  ...    -1        0   unknown         no\n",
              "\n",
              "[5 rows x 18 columns]"
            ]
          },
          "metadata": {
            "tags": []
          },
          "execution_count": 3
        }
      ]
    },
    {
      "cell_type": "code",
      "metadata": {
        "colab": {
          "base_uri": "https://localhost:8080/"
        },
        "id": "aJCHsku-msMT",
        "outputId": "2ac5d4c8-89c5-495a-9c34-71f21b5e012f"
      },
      "source": [
        "df.shape"
      ],
      "execution_count": null,
      "outputs": [
        {
          "output_type": "execute_result",
          "data": {
            "text/plain": [
              "(31647, 18)"
            ]
          },
          "metadata": {
            "tags": []
          },
          "execution_count": 4
        }
      ]
    },
    {
      "cell_type": "code",
      "metadata": {
        "colab": {
          "base_uri": "https://localhost:8080/"
        },
        "id": "4jwcuQ1wmv1L",
        "outputId": "37678fcb-d8bb-4bdb-bf26-7c486747e25a"
      },
      "source": [
        "df.isnull().sum()"
      ],
      "execution_count": null,
      "outputs": [
        {
          "output_type": "execute_result",
          "data": {
            "text/plain": [
              "ID            0\n",
              "age           0\n",
              "job           0\n",
              "marital       0\n",
              "education     0\n",
              "default       0\n",
              "balance       0\n",
              "housing       0\n",
              "loan          0\n",
              "contact       0\n",
              "day           0\n",
              "month         0\n",
              "duration      0\n",
              "campaign      0\n",
              "pdays         0\n",
              "previous      0\n",
              "poutcome      0\n",
              "subscribed    0\n",
              "dtype: int64"
            ]
          },
          "metadata": {
            "tags": []
          },
          "execution_count": 5
        }
      ]
    },
    {
      "cell_type": "code",
      "metadata": {
        "colab": {
          "base_uri": "https://localhost:8080/"
        },
        "id": "KE41aUf1mxvj",
        "outputId": "f9de7d33-f764-40f1-b343-b7bbfee8ed2e"
      },
      "source": [
        "df['month'].unique()"
      ],
      "execution_count": null,
      "outputs": [
        {
          "output_type": "execute_result",
          "data": {
            "text/plain": [
              "array(['nov', 'jul', 'jun', 'feb', 'sep', 'jan', 'may', 'aug', 'apr',\n",
              "       'oct', 'mar', 'dec'], dtype=object)"
            ]
          },
          "metadata": {
            "tags": []
          },
          "execution_count": 6
        }
      ]
    },
    {
      "cell_type": "code",
      "metadata": {
        "colab": {
          "base_uri": "https://localhost:8080/"
        },
        "id": "5DciZ5UinIn0",
        "outputId": "2a4a3884-bf78-4092-cf22-52168d19ca2a"
      },
      "source": [
        "df['poutcome'].unique()"
      ],
      "execution_count": null,
      "outputs": [
        {
          "output_type": "execute_result",
          "data": {
            "text/plain": [
              "array(['unknown', 'success', 'failure', 'other'], dtype=object)"
            ]
          },
          "metadata": {
            "tags": []
          },
          "execution_count": 7
        }
      ]
    },
    {
      "cell_type": "code",
      "metadata": {
        "colab": {
          "base_uri": "https://localhost:8080/"
        },
        "id": "FAnj_MGDnVzs",
        "outputId": "fbca5c45-0609-40b0-a76b-45e7cbfc77a0"
      },
      "source": [
        "df['contact'].unique()"
      ],
      "execution_count": null,
      "outputs": [
        {
          "output_type": "execute_result",
          "data": {
            "text/plain": [
              "array(['telephone', 'cellular', 'unknown'], dtype=object)"
            ]
          },
          "metadata": {
            "tags": []
          },
          "execution_count": 8
        }
      ]
    },
    {
      "cell_type": "code",
      "metadata": {
        "colab": {
          "base_uri": "https://localhost:8080/"
        },
        "id": "zR9EFofRnb8E",
        "outputId": "eb9ec1c8-06ed-4b92-a089-f342e79b1d56"
      },
      "source": [
        "df['loan'].unique()"
      ],
      "execution_count": null,
      "outputs": [
        {
          "output_type": "execute_result",
          "data": {
            "text/plain": [
              "array(['no', 'yes'], dtype=object)"
            ]
          },
          "metadata": {
            "tags": []
          },
          "execution_count": 9
        }
      ]
    },
    {
      "cell_type": "code",
      "metadata": {
        "colab": {
          "base_uri": "https://localhost:8080/"
        },
        "id": "0aABRmvAnf4s",
        "outputId": "83713a3f-b0d0-4fd6-f683-035d795678e1"
      },
      "source": [
        "df['housing'].unique()"
      ],
      "execution_count": null,
      "outputs": [
        {
          "output_type": "execute_result",
          "data": {
            "text/plain": [
              "array(['no', 'yes'], dtype=object)"
            ]
          },
          "metadata": {
            "tags": []
          },
          "execution_count": 10
        }
      ]
    },
    {
      "cell_type": "code",
      "metadata": {
        "colab": {
          "base_uri": "https://localhost:8080/"
        },
        "id": "gro_8ECenkS0",
        "outputId": "ffd3df02-2ffc-4cec-a7ea-67b7271fa598"
      },
      "source": [
        "df['education'].unique()"
      ],
      "execution_count": null,
      "outputs": [
        {
          "output_type": "execute_result",
          "data": {
            "text/plain": [
              "array(['unknown', 'secondary', 'tertiary', 'primary'], dtype=object)"
            ]
          },
          "metadata": {
            "tags": []
          },
          "execution_count": 11
        }
      ]
    },
    {
      "cell_type": "code",
      "metadata": {
        "colab": {
          "base_uri": "https://localhost:8080/"
        },
        "id": "bVHpEWBunn0z",
        "outputId": "ef0a0074-ec2a-4034-af70-2172ca55c8de"
      },
      "source": [
        "df['marital'].unique()"
      ],
      "execution_count": null,
      "outputs": [
        {
          "output_type": "execute_result",
          "data": {
            "text/plain": [
              "array(['married', 'divorced', 'single'], dtype=object)"
            ]
          },
          "metadata": {
            "tags": []
          },
          "execution_count": 12
        }
      ]
    },
    {
      "cell_type": "code",
      "metadata": {
        "colab": {
          "base_uri": "https://localhost:8080/"
        },
        "id": "7Nhfc3ABnptD",
        "outputId": "522b3b9c-a5b7-44ad-950a-219c1af054e9"
      },
      "source": [
        "df['job'].unique()"
      ],
      "execution_count": null,
      "outputs": [
        {
          "output_type": "execute_result",
          "data": {
            "text/plain": [
              "array(['admin.', 'unknown', 'services', 'management', 'technician',\n",
              "       'retired', 'blue-collar', 'housemaid', 'self-employed', 'student',\n",
              "       'entrepreneur', 'unemployed'], dtype=object)"
            ]
          },
          "metadata": {
            "tags": []
          },
          "execution_count": 13
        }
      ]
    },
    {
      "cell_type": "code",
      "metadata": {
        "colab": {
          "base_uri": "https://localhost:8080/"
        },
        "id": "r6KgkGQwnqET",
        "outputId": "47478179-2742-4c0e-9632-30699bf7c22c"
      },
      "source": [
        "df['subscribed'].unique()"
      ],
      "execution_count": null,
      "outputs": [
        {
          "output_type": "execute_result",
          "data": {
            "text/plain": [
              "array(['no', 'yes'], dtype=object)"
            ]
          },
          "metadata": {
            "tags": []
          },
          "execution_count": 14
        }
      ]
    },
    {
      "cell_type": "code",
      "metadata": {
        "id": "XYE2cJxBoEBL"
      },
      "source": [
        "from sklearn.preprocessing import LabelEncoder\n",
        "le = LabelEncoder()"
      ],
      "execution_count": null,
      "outputs": []
    },
    {
      "cell_type": "code",
      "metadata": {
        "id": "VzSMKpn6oI4u"
      },
      "source": [
        "df['poutcome'] = le.fit_transform(df['poutcome'])\n",
        "df['contact'] = le.fit_transform(df['contact'])\n",
        "df['loan'] = le.fit_transform(df['loan'])\n",
        "df['housing'] = le.fit_transform(df['housing'])\n",
        "df['education'] = le.fit_transform(df['education'])\n",
        "df['marital'] = le.fit_transform(df['marital'])\n",
        "df['job'] = le.fit_transform(df['job'])\n",
        "df['default'] = le.fit_transform(df['default'])\n",
        "df['subscribed'] = le.fit_transform(df['subscribed'])"
      ],
      "execution_count": null,
      "outputs": []
    },
    {
      "cell_type": "code",
      "metadata": {
        "colab": {
          "base_uri": "https://localhost:8080/",
          "height": 204
        },
        "id": "Cnv-UWFhoc_7",
        "outputId": "44c2a077-e138-4d65-bab4-c714d7f655ed"
      },
      "source": [
        "df.head()"
      ],
      "execution_count": null,
      "outputs": [
        {
          "output_type": "execute_result",
          "data": {
            "text/html": [
              "<div>\n",
              "<style scoped>\n",
              "    .dataframe tbody tr th:only-of-type {\n",
              "        vertical-align: middle;\n",
              "    }\n",
              "\n",
              "    .dataframe tbody tr th {\n",
              "        vertical-align: top;\n",
              "    }\n",
              "\n",
              "    .dataframe thead th {\n",
              "        text-align: right;\n",
              "    }\n",
              "</style>\n",
              "<table border=\"1\" class=\"dataframe\">\n",
              "  <thead>\n",
              "    <tr style=\"text-align: right;\">\n",
              "      <th></th>\n",
              "      <th>ID</th>\n",
              "      <th>age</th>\n",
              "      <th>job</th>\n",
              "      <th>marital</th>\n",
              "      <th>education</th>\n",
              "      <th>default</th>\n",
              "      <th>balance</th>\n",
              "      <th>housing</th>\n",
              "      <th>loan</th>\n",
              "      <th>contact</th>\n",
              "      <th>day</th>\n",
              "      <th>month</th>\n",
              "      <th>duration</th>\n",
              "      <th>campaign</th>\n",
              "      <th>pdays</th>\n",
              "      <th>previous</th>\n",
              "      <th>poutcome</th>\n",
              "      <th>subscribed</th>\n",
              "    </tr>\n",
              "  </thead>\n",
              "  <tbody>\n",
              "    <tr>\n",
              "      <th>0</th>\n",
              "      <td>26110</td>\n",
              "      <td>56</td>\n",
              "      <td>0</td>\n",
              "      <td>1</td>\n",
              "      <td>3</td>\n",
              "      <td>0</td>\n",
              "      <td>1933</td>\n",
              "      <td>0</td>\n",
              "      <td>0</td>\n",
              "      <td>1</td>\n",
              "      <td>19</td>\n",
              "      <td>nov</td>\n",
              "      <td>44</td>\n",
              "      <td>2</td>\n",
              "      <td>-1</td>\n",
              "      <td>0</td>\n",
              "      <td>3</td>\n",
              "      <td>0</td>\n",
              "    </tr>\n",
              "    <tr>\n",
              "      <th>1</th>\n",
              "      <td>40576</td>\n",
              "      <td>31</td>\n",
              "      <td>11</td>\n",
              "      <td>1</td>\n",
              "      <td>1</td>\n",
              "      <td>0</td>\n",
              "      <td>3</td>\n",
              "      <td>0</td>\n",
              "      <td>0</td>\n",
              "      <td>0</td>\n",
              "      <td>20</td>\n",
              "      <td>jul</td>\n",
              "      <td>91</td>\n",
              "      <td>2</td>\n",
              "      <td>-1</td>\n",
              "      <td>0</td>\n",
              "      <td>3</td>\n",
              "      <td>0</td>\n",
              "    </tr>\n",
              "    <tr>\n",
              "      <th>2</th>\n",
              "      <td>15320</td>\n",
              "      <td>27</td>\n",
              "      <td>7</td>\n",
              "      <td>1</td>\n",
              "      <td>1</td>\n",
              "      <td>0</td>\n",
              "      <td>891</td>\n",
              "      <td>1</td>\n",
              "      <td>0</td>\n",
              "      <td>0</td>\n",
              "      <td>18</td>\n",
              "      <td>jul</td>\n",
              "      <td>240</td>\n",
              "      <td>1</td>\n",
              "      <td>-1</td>\n",
              "      <td>0</td>\n",
              "      <td>3</td>\n",
              "      <td>0</td>\n",
              "    </tr>\n",
              "    <tr>\n",
              "      <th>3</th>\n",
              "      <td>43962</td>\n",
              "      <td>57</td>\n",
              "      <td>4</td>\n",
              "      <td>0</td>\n",
              "      <td>2</td>\n",
              "      <td>0</td>\n",
              "      <td>3287</td>\n",
              "      <td>0</td>\n",
              "      <td>0</td>\n",
              "      <td>0</td>\n",
              "      <td>22</td>\n",
              "      <td>jun</td>\n",
              "      <td>867</td>\n",
              "      <td>1</td>\n",
              "      <td>84</td>\n",
              "      <td>3</td>\n",
              "      <td>2</td>\n",
              "      <td>1</td>\n",
              "    </tr>\n",
              "    <tr>\n",
              "      <th>4</th>\n",
              "      <td>29842</td>\n",
              "      <td>31</td>\n",
              "      <td>9</td>\n",
              "      <td>1</td>\n",
              "      <td>1</td>\n",
              "      <td>0</td>\n",
              "      <td>119</td>\n",
              "      <td>1</td>\n",
              "      <td>0</td>\n",
              "      <td>0</td>\n",
              "      <td>4</td>\n",
              "      <td>feb</td>\n",
              "      <td>380</td>\n",
              "      <td>1</td>\n",
              "      <td>-1</td>\n",
              "      <td>0</td>\n",
              "      <td>3</td>\n",
              "      <td>0</td>\n",
              "    </tr>\n",
              "  </tbody>\n",
              "</table>\n",
              "</div>"
            ],
            "text/plain": [
              "      ID  age  job  marital  ...  pdays  previous  poutcome  subscribed\n",
              "0  26110   56    0        1  ...     -1         0         3           0\n",
              "1  40576   31   11        1  ...     -1         0         3           0\n",
              "2  15320   27    7        1  ...     -1         0         3           0\n",
              "3  43962   57    4        0  ...     84         3         2           1\n",
              "4  29842   31    9        1  ...     -1         0         3           0\n",
              "\n",
              "[5 rows x 18 columns]"
            ]
          },
          "metadata": {
            "tags": []
          },
          "execution_count": 17
        }
      ]
    },
    {
      "cell_type": "code",
      "metadata": {
        "colab": {
          "base_uri": "https://localhost:8080/"
        },
        "id": "V7vcEv_vpifC",
        "outputId": "b8172069-4660-4200-c066-df6eee0c6972"
      },
      "source": [
        "df['month'].unique()"
      ],
      "execution_count": null,
      "outputs": [
        {
          "output_type": "execute_result",
          "data": {
            "text/plain": [
              "array(['nov', 'jul', 'jun', 'feb', 'sep', 'jan', 'may', 'aug', 'apr',\n",
              "       'oct', 'mar', 'dec'], dtype=object)"
            ]
          },
          "metadata": {
            "tags": []
          },
          "execution_count": 18
        }
      ]
    },
    {
      "cell_type": "code",
      "metadata": {
        "id": "KPu0MstHofGT"
      },
      "source": [
        "df['month'] = [1 if d == 'jan' else 2 if d == 'feb' else 3 if d =='mar' else 4\n",
        "        if d == 'apr' else 5 if d == 'may' else 6 if d =='jun' else 7 \n",
        "        if d == 'jul' else 8 if d == 'aug' else 9 if d =='sep' else 10\n",
        "        if d == 'oct' else 11 if d == 'nov' else 12 for d in df['month']]"
      ],
      "execution_count": null,
      "outputs": []
    },
    {
      "cell_type": "code",
      "metadata": {
        "colab": {
          "base_uri": "https://localhost:8080/",
          "height": 204
        },
        "id": "DBSh_vibqgUC",
        "outputId": "ffb93f86-d441-4bd5-9c89-d4d30eb98fd4"
      },
      "source": [
        "df.head()"
      ],
      "execution_count": null,
      "outputs": [
        {
          "output_type": "execute_result",
          "data": {
            "text/html": [
              "<div>\n",
              "<style scoped>\n",
              "    .dataframe tbody tr th:only-of-type {\n",
              "        vertical-align: middle;\n",
              "    }\n",
              "\n",
              "    .dataframe tbody tr th {\n",
              "        vertical-align: top;\n",
              "    }\n",
              "\n",
              "    .dataframe thead th {\n",
              "        text-align: right;\n",
              "    }\n",
              "</style>\n",
              "<table border=\"1\" class=\"dataframe\">\n",
              "  <thead>\n",
              "    <tr style=\"text-align: right;\">\n",
              "      <th></th>\n",
              "      <th>ID</th>\n",
              "      <th>age</th>\n",
              "      <th>job</th>\n",
              "      <th>marital</th>\n",
              "      <th>education</th>\n",
              "      <th>default</th>\n",
              "      <th>balance</th>\n",
              "      <th>housing</th>\n",
              "      <th>loan</th>\n",
              "      <th>contact</th>\n",
              "      <th>day</th>\n",
              "      <th>month</th>\n",
              "      <th>duration</th>\n",
              "      <th>campaign</th>\n",
              "      <th>pdays</th>\n",
              "      <th>previous</th>\n",
              "      <th>poutcome</th>\n",
              "      <th>subscribed</th>\n",
              "    </tr>\n",
              "  </thead>\n",
              "  <tbody>\n",
              "    <tr>\n",
              "      <th>0</th>\n",
              "      <td>26110</td>\n",
              "      <td>56</td>\n",
              "      <td>0</td>\n",
              "      <td>1</td>\n",
              "      <td>3</td>\n",
              "      <td>0</td>\n",
              "      <td>1933</td>\n",
              "      <td>0</td>\n",
              "      <td>0</td>\n",
              "      <td>1</td>\n",
              "      <td>19</td>\n",
              "      <td>11</td>\n",
              "      <td>44</td>\n",
              "      <td>2</td>\n",
              "      <td>-1</td>\n",
              "      <td>0</td>\n",
              "      <td>3</td>\n",
              "      <td>0</td>\n",
              "    </tr>\n",
              "    <tr>\n",
              "      <th>1</th>\n",
              "      <td>40576</td>\n",
              "      <td>31</td>\n",
              "      <td>11</td>\n",
              "      <td>1</td>\n",
              "      <td>1</td>\n",
              "      <td>0</td>\n",
              "      <td>3</td>\n",
              "      <td>0</td>\n",
              "      <td>0</td>\n",
              "      <td>0</td>\n",
              "      <td>20</td>\n",
              "      <td>7</td>\n",
              "      <td>91</td>\n",
              "      <td>2</td>\n",
              "      <td>-1</td>\n",
              "      <td>0</td>\n",
              "      <td>3</td>\n",
              "      <td>0</td>\n",
              "    </tr>\n",
              "    <tr>\n",
              "      <th>2</th>\n",
              "      <td>15320</td>\n",
              "      <td>27</td>\n",
              "      <td>7</td>\n",
              "      <td>1</td>\n",
              "      <td>1</td>\n",
              "      <td>0</td>\n",
              "      <td>891</td>\n",
              "      <td>1</td>\n",
              "      <td>0</td>\n",
              "      <td>0</td>\n",
              "      <td>18</td>\n",
              "      <td>7</td>\n",
              "      <td>240</td>\n",
              "      <td>1</td>\n",
              "      <td>-1</td>\n",
              "      <td>0</td>\n",
              "      <td>3</td>\n",
              "      <td>0</td>\n",
              "    </tr>\n",
              "    <tr>\n",
              "      <th>3</th>\n",
              "      <td>43962</td>\n",
              "      <td>57</td>\n",
              "      <td>4</td>\n",
              "      <td>0</td>\n",
              "      <td>2</td>\n",
              "      <td>0</td>\n",
              "      <td>3287</td>\n",
              "      <td>0</td>\n",
              "      <td>0</td>\n",
              "      <td>0</td>\n",
              "      <td>22</td>\n",
              "      <td>6</td>\n",
              "      <td>867</td>\n",
              "      <td>1</td>\n",
              "      <td>84</td>\n",
              "      <td>3</td>\n",
              "      <td>2</td>\n",
              "      <td>1</td>\n",
              "    </tr>\n",
              "    <tr>\n",
              "      <th>4</th>\n",
              "      <td>29842</td>\n",
              "      <td>31</td>\n",
              "      <td>9</td>\n",
              "      <td>1</td>\n",
              "      <td>1</td>\n",
              "      <td>0</td>\n",
              "      <td>119</td>\n",
              "      <td>1</td>\n",
              "      <td>0</td>\n",
              "      <td>0</td>\n",
              "      <td>4</td>\n",
              "      <td>2</td>\n",
              "      <td>380</td>\n",
              "      <td>1</td>\n",
              "      <td>-1</td>\n",
              "      <td>0</td>\n",
              "      <td>3</td>\n",
              "      <td>0</td>\n",
              "    </tr>\n",
              "  </tbody>\n",
              "</table>\n",
              "</div>"
            ],
            "text/plain": [
              "      ID  age  job  marital  ...  pdays  previous  poutcome  subscribed\n",
              "0  26110   56    0        1  ...     -1         0         3           0\n",
              "1  40576   31   11        1  ...     -1         0         3           0\n",
              "2  15320   27    7        1  ...     -1         0         3           0\n",
              "3  43962   57    4        0  ...     84         3         2           1\n",
              "4  29842   31    9        1  ...     -1         0         3           0\n",
              "\n",
              "[5 rows x 18 columns]"
            ]
          },
          "metadata": {
            "tags": []
          },
          "execution_count": 20
        }
      ]
    },
    {
      "cell_type": "code",
      "metadata": {
        "id": "6HsadJtfr36g"
      },
      "source": [
        "Y = df['subscribed'].values\n",
        "X = df.drop('subscribed', 1)"
      ],
      "execution_count": null,
      "outputs": []
    },
    {
      "cell_type": "code",
      "metadata": {
        "colab": {
          "base_uri": "https://localhost:8080/",
          "height": 204
        },
        "id": "UBBRX9pcsFJP",
        "outputId": "af3c2c22-f00e-42d9-8dea-90a2a3e5b428"
      },
      "source": [
        "X.head()"
      ],
      "execution_count": null,
      "outputs": [
        {
          "output_type": "execute_result",
          "data": {
            "text/html": [
              "<div>\n",
              "<style scoped>\n",
              "    .dataframe tbody tr th:only-of-type {\n",
              "        vertical-align: middle;\n",
              "    }\n",
              "\n",
              "    .dataframe tbody tr th {\n",
              "        vertical-align: top;\n",
              "    }\n",
              "\n",
              "    .dataframe thead th {\n",
              "        text-align: right;\n",
              "    }\n",
              "</style>\n",
              "<table border=\"1\" class=\"dataframe\">\n",
              "  <thead>\n",
              "    <tr style=\"text-align: right;\">\n",
              "      <th></th>\n",
              "      <th>ID</th>\n",
              "      <th>age</th>\n",
              "      <th>job</th>\n",
              "      <th>marital</th>\n",
              "      <th>education</th>\n",
              "      <th>default</th>\n",
              "      <th>balance</th>\n",
              "      <th>housing</th>\n",
              "      <th>loan</th>\n",
              "      <th>contact</th>\n",
              "      <th>day</th>\n",
              "      <th>month</th>\n",
              "      <th>duration</th>\n",
              "      <th>campaign</th>\n",
              "      <th>pdays</th>\n",
              "      <th>previous</th>\n",
              "      <th>poutcome</th>\n",
              "    </tr>\n",
              "  </thead>\n",
              "  <tbody>\n",
              "    <tr>\n",
              "      <th>0</th>\n",
              "      <td>26110</td>\n",
              "      <td>56</td>\n",
              "      <td>0</td>\n",
              "      <td>1</td>\n",
              "      <td>3</td>\n",
              "      <td>0</td>\n",
              "      <td>1933</td>\n",
              "      <td>0</td>\n",
              "      <td>0</td>\n",
              "      <td>1</td>\n",
              "      <td>19</td>\n",
              "      <td>11</td>\n",
              "      <td>44</td>\n",
              "      <td>2</td>\n",
              "      <td>-1</td>\n",
              "      <td>0</td>\n",
              "      <td>3</td>\n",
              "    </tr>\n",
              "    <tr>\n",
              "      <th>1</th>\n",
              "      <td>40576</td>\n",
              "      <td>31</td>\n",
              "      <td>11</td>\n",
              "      <td>1</td>\n",
              "      <td>1</td>\n",
              "      <td>0</td>\n",
              "      <td>3</td>\n",
              "      <td>0</td>\n",
              "      <td>0</td>\n",
              "      <td>0</td>\n",
              "      <td>20</td>\n",
              "      <td>7</td>\n",
              "      <td>91</td>\n",
              "      <td>2</td>\n",
              "      <td>-1</td>\n",
              "      <td>0</td>\n",
              "      <td>3</td>\n",
              "    </tr>\n",
              "    <tr>\n",
              "      <th>2</th>\n",
              "      <td>15320</td>\n",
              "      <td>27</td>\n",
              "      <td>7</td>\n",
              "      <td>1</td>\n",
              "      <td>1</td>\n",
              "      <td>0</td>\n",
              "      <td>891</td>\n",
              "      <td>1</td>\n",
              "      <td>0</td>\n",
              "      <td>0</td>\n",
              "      <td>18</td>\n",
              "      <td>7</td>\n",
              "      <td>240</td>\n",
              "      <td>1</td>\n",
              "      <td>-1</td>\n",
              "      <td>0</td>\n",
              "      <td>3</td>\n",
              "    </tr>\n",
              "    <tr>\n",
              "      <th>3</th>\n",
              "      <td>43962</td>\n",
              "      <td>57</td>\n",
              "      <td>4</td>\n",
              "      <td>0</td>\n",
              "      <td>2</td>\n",
              "      <td>0</td>\n",
              "      <td>3287</td>\n",
              "      <td>0</td>\n",
              "      <td>0</td>\n",
              "      <td>0</td>\n",
              "      <td>22</td>\n",
              "      <td>6</td>\n",
              "      <td>867</td>\n",
              "      <td>1</td>\n",
              "      <td>84</td>\n",
              "      <td>3</td>\n",
              "      <td>2</td>\n",
              "    </tr>\n",
              "    <tr>\n",
              "      <th>4</th>\n",
              "      <td>29842</td>\n",
              "      <td>31</td>\n",
              "      <td>9</td>\n",
              "      <td>1</td>\n",
              "      <td>1</td>\n",
              "      <td>0</td>\n",
              "      <td>119</td>\n",
              "      <td>1</td>\n",
              "      <td>0</td>\n",
              "      <td>0</td>\n",
              "      <td>4</td>\n",
              "      <td>2</td>\n",
              "      <td>380</td>\n",
              "      <td>1</td>\n",
              "      <td>-1</td>\n",
              "      <td>0</td>\n",
              "      <td>3</td>\n",
              "    </tr>\n",
              "  </tbody>\n",
              "</table>\n",
              "</div>"
            ],
            "text/plain": [
              "      ID  age  job  marital  ...  campaign  pdays  previous  poutcome\n",
              "0  26110   56    0        1  ...         2     -1         0         3\n",
              "1  40576   31   11        1  ...         2     -1         0         3\n",
              "2  15320   27    7        1  ...         1     -1         0         3\n",
              "3  43962   57    4        0  ...         1     84         3         2\n",
              "4  29842   31    9        1  ...         1     -1         0         3\n",
              "\n",
              "[5 rows x 17 columns]"
            ]
          },
          "metadata": {
            "tags": []
          },
          "execution_count": 22
        }
      ]
    },
    {
      "cell_type": "code",
      "metadata": {
        "id": "JBY0KiY3reEA"
      },
      "source": [
        "from sklearn.preprocessing import StandardScaler\n",
        "from sklearn.decomposition import PCA\n",
        "from sklearn.model_selection import train_test_split\n",
        "from sklearn.linear_model import LinearRegression\n",
        "from sklearn.naive_bayes import GaussianNB\n",
        "from sklearn.neighbors import KNeighborsClassifier\n",
        "from sklearn.svm import SVC\n",
        "from sklearn.linear_model import LogisticRegression\n",
        "from tensorflow.keras import Sequential \n",
        "from tensorflow.keras.layers import Dense\n",
        "from sklearn.naive_bayes import MultinomialNB\n",
        "from sklearn import model_selection"
      ],
      "execution_count": null,
      "outputs": []
    },
    {
      "cell_type": "code",
      "metadata": {
        "id": "yct1mVd9uLVD"
      },
      "source": [
        "scaler = StandardScaler()\n",
        "scaler.fit(X)\n",
        "X = scaler.fit_transform(X)"
      ],
      "execution_count": null,
      "outputs": []
    },
    {
      "cell_type": "code",
      "metadata": {
        "id": "UZCC0wu3ahV8",
        "colab": {
          "base_uri": "https://localhost:8080/"
        },
        "outputId": "9b9bc64f-8745-423a-e8dd-427df7fb401f"
      },
      "source": [
        "X"
      ],
      "execution_count": null,
      "outputs": [
        {
          "output_type": "execute_result",
          "data": {
            "text/plain": [
              "array([[-0.44662177, -2.14795986,  0.83301856, ...,  1.85633163,\n",
              "         1.62834344, -0.62379744],\n",
              "       [ 0.45258947, -1.85938479, -0.90169903, ..., -0.56781573,\n",
              "        -0.6353757 ,  0.46243587],\n",
              "       [-0.45508544,  0.05634011, -0.91829269, ...,  0.15689776,\n",
              "        -1.13806085,  0.65364929],\n",
              "       ...,\n",
              "       [-0.09808296, -1.17465608, -1.67255876, ...,  1.21570758,\n",
              "         0.45760487, -0.21655577],\n",
              "       [ 4.7044462 ,  1.80612617,  1.62952171, ...,  0.4717399 ,\n",
              "         0.16970364,  1.46581593],\n",
              "       [-0.58279952, -0.03394224,  1.82966722, ...,  1.06693735,\n",
              "        -1.20497435,  0.25001293]])"
            ]
          },
          "metadata": {
            "tags": []
          },
          "execution_count": 52
        }
      ]
    },
    {
      "cell_type": "code",
      "metadata": {
        "id": "RjGyHYk9uTUT"
      },
      "source": [
        "pca = PCA(n_components=14)\n",
        "pca.fit(X)\n",
        "X = pca.fit_transform(X)"
      ],
      "execution_count": null,
      "outputs": []
    },
    {
      "cell_type": "code",
      "metadata": {
        "id": "Weic0noPqgob"
      },
      "source": [
        "X_train,X_test,Y_train,Y_test = train_test_split(X,Y,test_size=0.2,random_state=1000)"
      ],
      "execution_count": null,
      "outputs": []
    },
    {
      "cell_type": "code",
      "metadata": {
        "id": "IMizlQ8IvEhu"
      },
      "source": [
        "models = []\n",
        "models.append(('log', LogisticRegression()))\n",
        "models.append(('lr', LinearRegression()))\n",
        "models.append(('KNN', KNeighborsClassifier()))\n",
        "models.append(('SVM', SVC(C=0.1)))\n",
        "models.append(('Gaussian', GaussianNB()))\n",
        "models.append(('nn', Sequential()))"
      ],
      "execution_count": null,
      "outputs": []
    },
    {
      "cell_type": "code",
      "metadata": {
        "colab": {
          "base_uri": "https://localhost:8080/"
        },
        "id": "t9RPxHNDxBdT",
        "outputId": "a817ee30-7a63-44b7-a36e-1c3ddf56055e"
      },
      "source": [
        "results = []\n",
        "names = []\n",
        "msg = []\n",
        "for name, model in models:\n",
        "    kfold = model_selection.KFold(n_splits=10, random_state=42)\n",
        "    if name == 'lr':\n",
        "      model.fit(X_train, Y_train)\n",
        "      lr_score = model_selection.cross_val_score(model,X_train, Y_train,cv=kfold).mean()\n",
        "      cv_results = lr_score\n",
        "    elif name == 'nn':\n",
        "      model.add(Dense(50, activation='tanh',input_shape=(14,)))\n",
        "      model.add(Dense(30, activation='sigmoid'))\n",
        "      model.add(Dense(1, activation='sigmoid'))\n",
        "      model.compile(optimizer='adam', loss='binary_crossentropy', metrics=['accuracy'])\n",
        "      model.fit(X_train,Y_train, epochs=30, batch_size=10)\n",
        "      test_los, test_acc = model.evaluate(X_test, Y_test)\n",
        "      msg.append(\"{}: {}\".format(name, test_acc))\n",
        "    else:\n",
        "      cv_results = model_selection.cross_val_score(model, X_train, Y_train, cv=kfold, scoring='accuracy')\n",
        "    results.append(cv_results)\n",
        "    names.append(name)\n",
        "    msg.append(\"{}: {}\".format(name, cv_results.mean()))\n",
        "    print(msg)"
      ],
      "execution_count": null,
      "outputs": [
        {
          "output_type": "stream",
          "text": [
            "/usr/local/lib/python3.6/dist-packages/sklearn/model_selection/_split.py:296: FutureWarning: Setting a random_state has no effect since shuffle is False. This will raise an error in 0.24. You should leave random_state to its default (None), or set shuffle=True.\n",
            "  FutureWarning\n"
          ],
          "name": "stderr"
        },
        {
          "output_type": "stream",
          "text": [
            "['log: 0.8922465066664669']\n",
            "['log: 0.8922465066664669', 'lr: 0.22692269096018802']\n"
          ],
          "name": "stdout"
        },
        {
          "output_type": "stream",
          "text": [
            "/usr/local/lib/python3.6/dist-packages/sklearn/model_selection/_split.py:296: FutureWarning: Setting a random_state has no effect since shuffle is False. This will raise an error in 0.24. You should leave random_state to its default (None), or set shuffle=True.\n",
            "  FutureWarning\n",
            "/usr/local/lib/python3.6/dist-packages/sklearn/model_selection/_split.py:296: FutureWarning: Setting a random_state has no effect since shuffle is False. This will raise an error in 0.24. You should leave random_state to its default (None), or set shuffle=True.\n",
            "  FutureWarning\n"
          ],
          "name": "stderr"
        },
        {
          "output_type": "stream",
          "text": [
            "['log: 0.8922465066664669', 'lr: 0.22692269096018802', 'KNN: 0.890982340307205']\n"
          ],
          "name": "stdout"
        },
        {
          "output_type": "stream",
          "text": [
            "/usr/local/lib/python3.6/dist-packages/sklearn/model_selection/_split.py:296: FutureWarning: Setting a random_state has no effect since shuffle is False. This will raise an error in 0.24. You should leave random_state to its default (None), or set shuffle=True.\n",
            "  FutureWarning\n"
          ],
          "name": "stderr"
        },
        {
          "output_type": "stream",
          "text": [
            "['log: 0.8922465066664669', 'lr: 0.22692269096018802', 'KNN: 0.890982340307205', 'SVM: 0.8917331877764691']\n",
            "['log: 0.8922465066664669', 'lr: 0.22692269096018802', 'KNN: 0.890982340307205', 'SVM: 0.8917331877764691', 'Gaussian: 0.8815421787216089']\n"
          ],
          "name": "stdout"
        },
        {
          "output_type": "stream",
          "text": [
            "/usr/local/lib/python3.6/dist-packages/sklearn/model_selection/_split.py:296: FutureWarning: Setting a random_state has no effect since shuffle is False. This will raise an error in 0.24. You should leave random_state to its default (None), or set shuffle=True.\n",
            "  FutureWarning\n",
            "/usr/local/lib/python3.6/dist-packages/sklearn/model_selection/_split.py:296: FutureWarning: Setting a random_state has no effect since shuffle is False. This will raise an error in 0.24. You should leave random_state to its default (None), or set shuffle=True.\n",
            "  FutureWarning\n"
          ],
          "name": "stderr"
        },
        {
          "output_type": "stream",
          "text": [
            "Epoch 1/30\n",
            "2532/2532 [==============================] - 3s 1ms/step - loss: 0.2500 - accuracy: 0.8922\n",
            "Epoch 2/30\n",
            "2532/2532 [==============================] - 3s 1ms/step - loss: 0.2283 - accuracy: 0.8986\n",
            "Epoch 3/30\n",
            "2532/2532 [==============================] - 3s 1ms/step - loss: 0.2207 - accuracy: 0.9007\n",
            "Epoch 4/30\n",
            "2532/2532 [==============================] - 3s 1ms/step - loss: 0.2155 - accuracy: 0.9025\n",
            "Epoch 5/30\n",
            "2532/2532 [==============================] - 3s 1ms/step - loss: 0.2126 - accuracy: 0.9030\n",
            "Epoch 6/30\n",
            "2532/2532 [==============================] - 3s 1ms/step - loss: 0.2101 - accuracy: 0.9050\n",
            "Epoch 7/30\n",
            "2532/2532 [==============================] - 3s 1ms/step - loss: 0.2081 - accuracy: 0.9046\n",
            "Epoch 8/30\n",
            "2532/2532 [==============================] - 3s 1ms/step - loss: 0.2063 - accuracy: 0.9060\n",
            "Epoch 9/30\n",
            "2532/2532 [==============================] - 3s 1ms/step - loss: 0.2053 - accuracy: 0.9070\n",
            "Epoch 10/30\n",
            "2532/2532 [==============================] - 3s 1ms/step - loss: 0.2039 - accuracy: 0.9058\n",
            "Epoch 11/30\n",
            "2532/2532 [==============================] - 3s 1ms/step - loss: 0.2025 - accuracy: 0.9070\n",
            "Epoch 12/30\n",
            "2532/2532 [==============================] - 3s 1ms/step - loss: 0.2010 - accuracy: 0.9090\n",
            "Epoch 13/30\n",
            "2532/2532 [==============================] - 3s 1ms/step - loss: 0.1994 - accuracy: 0.9080\n",
            "Epoch 14/30\n",
            "2532/2532 [==============================] - 3s 1ms/step - loss: 0.1982 - accuracy: 0.9096\n",
            "Epoch 15/30\n",
            "2532/2532 [==============================] - 3s 1ms/step - loss: 0.1972 - accuracy: 0.9104\n",
            "Epoch 16/30\n",
            "2532/2532 [==============================] - 3s 1ms/step - loss: 0.1956 - accuracy: 0.9113\n",
            "Epoch 17/30\n",
            "2532/2532 [==============================] - 3s 1ms/step - loss: 0.1942 - accuracy: 0.9114\n",
            "Epoch 18/30\n",
            "2532/2532 [==============================] - 3s 1ms/step - loss: 0.1932 - accuracy: 0.9116\n",
            "Epoch 19/30\n",
            "2532/2532 [==============================] - 3s 1ms/step - loss: 0.1921 - accuracy: 0.9123\n",
            "Epoch 20/30\n",
            "2532/2532 [==============================] - 3s 1ms/step - loss: 0.1903 - accuracy: 0.9122\n",
            "Epoch 21/30\n",
            "2532/2532 [==============================] - 3s 1ms/step - loss: 0.1895 - accuracy: 0.9130\n",
            "Epoch 22/30\n",
            "2532/2532 [==============================] - 3s 1ms/step - loss: 0.1884 - accuracy: 0.9142\n",
            "Epoch 23/30\n",
            "2532/2532 [==============================] - 3s 1ms/step - loss: 0.1865 - accuracy: 0.9152\n",
            "Epoch 24/30\n",
            "2532/2532 [==============================] - 3s 1ms/step - loss: 0.1861 - accuracy: 0.9143\n",
            "Epoch 25/30\n",
            "2532/2532 [==============================] - 3s 1ms/step - loss: 0.1846 - accuracy: 0.9152\n",
            "Epoch 26/30\n",
            "2532/2532 [==============================] - 3s 1ms/step - loss: 0.1834 - accuracy: 0.9156\n",
            "Epoch 27/30\n",
            "2532/2532 [==============================] - 3s 1ms/step - loss: 0.1823 - accuracy: 0.9157\n",
            "Epoch 28/30\n",
            "2532/2532 [==============================] - 3s 1ms/step - loss: 0.1811 - accuracy: 0.9159\n",
            "Epoch 29/30\n",
            "2532/2532 [==============================] - 3s 1ms/step - loss: 0.1805 - accuracy: 0.9162\n",
            "Epoch 30/30\n",
            "2532/2532 [==============================] - 3s 1ms/step - loss: 0.1794 - accuracy: 0.9163\n",
            "198/198 [==============================] - 0s 836us/step - loss: 0.1978 - accuracy: 0.9062\n",
            "['log: 0.8922465066664669', 'lr: 0.22692269096018802', 'KNN: 0.890982340307205', 'SVM: 0.8917331877764691', 'Gaussian: 0.8815421787216089', 'nn: 0.9061611294746399', 'nn: 0.8815421787216089']\n"
          ],
          "name": "stdout"
        }
      ]
    },
    {
      "cell_type": "code",
      "metadata": {
        "colab": {
          "base_uri": "https://localhost:8080/"
        },
        "id": "79Xvl09OIvid",
        "outputId": "079cb468-8268-466f-c7de-1fa7c3faa9f9"
      },
      "source": [
        "lr_score"
      ],
      "execution_count": null,
      "outputs": [
        {
          "output_type": "execute_result",
          "data": {
            "text/plain": [
              "0.22692269096018802"
            ]
          },
          "metadata": {
            "tags": []
          },
          "execution_count": 29
        }
      ]
    },
    {
      "cell_type": "code",
      "metadata": {
        "id": "E67-9bkYxyV7"
      },
      "source": [
        "res = msg[0:6]"
      ],
      "execution_count": null,
      "outputs": []
    },
    {
      "cell_type": "code",
      "metadata": {
        "colab": {
          "base_uri": "https://localhost:8080/"
        },
        "id": "zhunx23S-6XD",
        "outputId": "a1d8e5a6-ab55-417b-df68-3ea9efbb851a"
      },
      "source": [
        "res"
      ],
      "execution_count": null,
      "outputs": [
        {
          "output_type": "execute_result",
          "data": {
            "text/plain": [
              "['log: 0.8922465066664669',\n",
              " 'lr: 0.22692269096018802',\n",
              " 'KNN: 0.890982340307205',\n",
              " 'SVM: 0.8917331877764691',\n",
              " 'Gaussian: 0.8815421787216089',\n",
              " 'nn: 0.9061611294746399']"
            ]
          },
          "metadata": {
            "tags": []
          },
          "execution_count": 31
        }
      ]
    },
    {
      "cell_type": "code",
      "metadata": {
        "colab": {
          "base_uri": "https://localhost:8080/"
        },
        "id": "jWnRaLjlzL3X",
        "outputId": "d33392ab-855d-4247-b72f-9f31a129b583"
      },
      "source": [
        "model.summary()"
      ],
      "execution_count": null,
      "outputs": [
        {
          "output_type": "stream",
          "text": [
            "Model: \"sequential\"\n",
            "_________________________________________________________________\n",
            "Layer (type)                 Output Shape              Param #   \n",
            "=================================================================\n",
            "dense (Dense)                (None, 50)                750       \n",
            "_________________________________________________________________\n",
            "dense_1 (Dense)              (None, 30)                1530      \n",
            "_________________________________________________________________\n",
            "dense_2 (Dense)              (None, 1)                 31        \n",
            "=================================================================\n",
            "Total params: 2,311\n",
            "Trainable params: 2,311\n",
            "Non-trainable params: 0\n",
            "_________________________________________________________________\n"
          ],
          "name": "stdout"
        }
      ]
    },
    {
      "cell_type": "code",
      "metadata": {
        "id": "090DcWVqC4uo"
      },
      "source": [
        "from sklearn.metrics import classification_report\n",
        "from sklearn.metrics import confusion_matrix\n",
        "from sklearn.metrics import accuracy_score\n",
        "from sklearn.metrics import roc_curve, auc"
      ],
      "execution_count": null,
      "outputs": []
    },
    {
      "cell_type": "code",
      "metadata": {
        "colab": {
          "base_uri": "https://localhost:8080/"
        },
        "id": "vYqWrugcGKOF",
        "outputId": "bdd42fc9-4445-4e84-d4d8-f89722db69dc"
      },
      "source": [
        "kfold = model_selection.KFold(n_splits=10, random_state=42)"
      ],
      "execution_count": null,
      "outputs": [
        {
          "output_type": "stream",
          "text": [
            "/usr/local/lib/python3.6/dist-packages/sklearn/model_selection/_split.py:296: FutureWarning: Setting a random_state has no effect since shuffle is False. This will raise an error in 0.24. You should leave random_state to its default (None), or set shuffle=True.\n",
            "  FutureWarning\n"
          ],
          "name": "stderr"
        }
      ]
    },
    {
      "cell_type": "code",
      "metadata": {
        "colab": {
          "base_uri": "https://localhost:8080/"
        },
        "id": "yoay2GZQBbQJ",
        "outputId": "ef370e5f-f7bb-4bec-cefc-eee9dcdacee4"
      },
      "source": [
        "log = LogisticRegression()\n",
        "log.fit(X_train, Y_train)\n",
        "lr = LinearRegression()\n",
        "lr.fit(X_train, Y_train)\n",
        "SVM = SVC(C=0.1)\n",
        "SVM.fit(X_train, Y_train)\n",
        "KNN = KNeighborsClassifier()\n",
        "KNN.fit(X_train, Y_train)\n",
        "Gaussian = GaussianNB()\n",
        "Gaussian.fit(X_train, Y_train)"
      ],
      "execution_count": null,
      "outputs": [
        {
          "output_type": "execute_result",
          "data": {
            "text/plain": [
              "GaussianNB(priors=None, var_smoothing=1e-09)"
            ]
          },
          "metadata": {
            "tags": []
          },
          "execution_count": 35
        }
      ]
    },
    {
      "cell_type": "code",
      "metadata": {
        "colab": {
          "base_uri": "https://localhost:8080/"
        },
        "id": "U6xDCi0UCGv6",
        "outputId": "74ec79ef-3a3d-4985-98db-f8c43b3332da"
      },
      "source": [
        "print(model_selection.cross_val_score(log,X_train, Y_train,cv=kfold).mean())\n",
        "print(model_selection.cross_val_score(lr,X_train, Y_train,cv=kfold).mean())\n",
        "print(model_selection.cross_val_score(SVM,X_train, Y_train,cv=kfold).mean())\n",
        "print(model_selection.cross_val_score(KNN,X_train, Y_train,cv=kfold).mean())\n",
        "print(model_selection.cross_val_score(Gaussian,X_train, Y_train,cv=kfold).mean())"
      ],
      "execution_count": null,
      "outputs": [
        {
          "output_type": "stream",
          "text": [
            "0.8922465066664669\n",
            "0.22692269096018802\n",
            "0.8917331877764691\n",
            "0.890982340307205\n",
            "0.8815421787216089\n"
          ],
          "name": "stdout"
        }
      ]
    },
    {
      "cell_type": "code",
      "metadata": {
        "id": "k_Jtoc_6CZoK"
      },
      "source": [
        "log_predictions = log.predict(X_test)\n",
        "lr_predictions = lr.predict(X_test)\n",
        "SVM_predictions = SVM.predict(X_test)\n",
        "KNN_predictions = KNN.predict(X_test)\n",
        "Gaussian_predictions = Gaussian.predict(X_test)"
      ],
      "execution_count": null,
      "outputs": []
    },
    {
      "cell_type": "code",
      "metadata": {
        "id": "Z8NoZVPDHc01",
        "colab": {
          "base_uri": "https://localhost:8080/"
        },
        "outputId": "573a74f3-b70e-43ce-cd31-47b1e4fec78b"
      },
      "source": [
        "lr_predictions"
      ],
      "execution_count": null,
      "outputs": [
        {
          "output_type": "execute_result",
          "data": {
            "text/plain": [
              "array([0.03075036, 0.16241313, 0.12428347, ..., 0.41430147, 0.40978995,\n",
              "       0.05430992])"
            ]
          },
          "metadata": {
            "tags": []
          },
          "execution_count": 38
        }
      ]
    },
    {
      "cell_type": "code",
      "metadata": {
        "id": "YnshrO-oF-bG",
        "colab": {
          "base_uri": "https://localhost:8080/"
        },
        "outputId": "9b431cc1-e56b-43fb-ac78-50efe9d72b01"
      },
      "source": [
        "print(\"Accuracy : \", accuracy_score(Y_test, log_predictions))\n",
        "print(\"Confusion Matrix : \\n\",confusion_matrix(Y_test, log_predictions))\n",
        "print(\"Classification Report: \\n\",classification_report(Y_test, log_predictions))"
      ],
      "execution_count": null,
      "outputs": [
        {
          "output_type": "stream",
          "text": [
            "Accuracy :  0.8903633491311217\n",
            "Confusion Matrix : \n",
            " [[5453  122]\n",
            " [ 572  183]]\n",
            "Classification Report: \n",
            "               precision    recall  f1-score   support\n",
            "\n",
            "           0       0.91      0.98      0.94      5575\n",
            "           1       0.60      0.24      0.35       755\n",
            "\n",
            "    accuracy                           0.89      6330\n",
            "   macro avg       0.75      0.61      0.64      6330\n",
            "weighted avg       0.87      0.89      0.87      6330\n",
            "\n"
          ],
          "name": "stdout"
        }
      ]
    },
    {
      "cell_type": "code",
      "metadata": {
        "id": "BwRf3wS5F_D-",
        "colab": {
          "base_uri": "https://localhost:8080/"
        },
        "outputId": "8acb754d-c9d1-4add-a5de-e02f9e749c18"
      },
      "source": [
        "print(\"Accuracy : \", accuracy_score(Y_test, SVM_predictions))\n",
        "print(\"Confusion Matrix : \\n\",confusion_matrix(Y_test, SVM_predictions))\n",
        "print(\"Classification Report: \\n\",classification_report(Y_test, SVM_predictions))"
      ],
      "execution_count": null,
      "outputs": [
        {
          "output_type": "stream",
          "text": [
            "Accuracy :  0.8897314375987362\n",
            "Confusion Matrix : \n",
            " [[5529   46]\n",
            " [ 652  103]]\n",
            "Classification Report: \n",
            "               precision    recall  f1-score   support\n",
            "\n",
            "           0       0.89      0.99      0.94      5575\n",
            "           1       0.69      0.14      0.23       755\n",
            "\n",
            "    accuracy                           0.89      6330\n",
            "   macro avg       0.79      0.56      0.58      6330\n",
            "weighted avg       0.87      0.89      0.86      6330\n",
            "\n"
          ],
          "name": "stdout"
        }
      ]
    },
    {
      "cell_type": "code",
      "metadata": {
        "id": "njLlFPSpF-zd",
        "colab": {
          "base_uri": "https://localhost:8080/"
        },
        "outputId": "87ff1841-80be-45e8-debb-99cdbd5247db"
      },
      "source": [
        "print(\"Accuracy : \", accuracy_score(Y_test, KNN_predictions))\n",
        "print(\"Confusion Matrix : \\n\",confusion_matrix(Y_test, KNN_predictions))\n",
        "print(\"Classification Report: \\n\",classification_report(Y_test, KNN_predictions))"
      ],
      "execution_count": null,
      "outputs": [
        {
          "output_type": "stream",
          "text": [
            "Accuracy :  0.8890995260663507\n",
            "Confusion Matrix : \n",
            " [[5385  190]\n",
            " [ 512  243]]\n",
            "Classification Report: \n",
            "               precision    recall  f1-score   support\n",
            "\n",
            "           0       0.91      0.97      0.94      5575\n",
            "           1       0.56      0.32      0.41       755\n",
            "\n",
            "    accuracy                           0.89      6330\n",
            "   macro avg       0.74      0.64      0.67      6330\n",
            "weighted avg       0.87      0.89      0.88      6330\n",
            "\n"
          ],
          "name": "stdout"
        }
      ]
    },
    {
      "cell_type": "code",
      "metadata": {
        "id": "PZyT3tfUCpJj",
        "colab": {
          "base_uri": "https://localhost:8080/"
        },
        "outputId": "0b2ebf89-73cd-4ed8-ef03-60196e0a7529"
      },
      "source": [
        "print(\"Accuracy : \", accuracy_score(Y_test, Gaussian_predictions))\n",
        "print(\"Confusion Matrix : \\n\",confusion_matrix(Y_test, Gaussian_predictions))\n",
        "print(\"Classification Report: \\n\",classification_report(Y_test, Gaussian_predictions))"
      ],
      "execution_count": null,
      "outputs": [
        {
          "output_type": "stream",
          "text": [
            "Accuracy :  0.879304897314376\n",
            "Confusion Matrix : \n",
            " [[5351  224]\n",
            " [ 540  215]]\n",
            "Classification Report: \n",
            "               precision    recall  f1-score   support\n",
            "\n",
            "           0       0.91      0.96      0.93      5575\n",
            "           1       0.49      0.28      0.36       755\n",
            "\n",
            "    accuracy                           0.88      6330\n",
            "   macro avg       0.70      0.62      0.65      6330\n",
            "weighted avg       0.86      0.88      0.86      6330\n",
            "\n"
          ],
          "name": "stdout"
        }
      ]
    },
    {
      "cell_type": "code",
      "metadata": {
        "id": "L7GzpD8eEMj6"
      },
      "source": [
        "fpr_gnb, tpr_gnb,thresholds_gnb = roc_curve(Y_test, log_predictions)"
      ],
      "execution_count": null,
      "outputs": []
    },
    {
      "cell_type": "code",
      "metadata": {
        "colab": {
          "base_uri": "https://localhost:8080/"
        },
        "id": "ECVpNTe3XOf1",
        "outputId": "942efb66-fc3f-4cd2-843e-570ca93f9ca4"
      },
      "source": [
        "auc(fpr_gnb,tpr_gnb)"
      ],
      "execution_count": null,
      "outputs": [
        {
          "output_type": "execute_result",
          "data": {
            "text/plain": [
              "0.6102503489442579"
            ]
          },
          "metadata": {
            "tags": []
          },
          "execution_count": 47
        }
      ]
    },
    {
      "cell_type": "code",
      "metadata": {
        "id": "jqRgpqRhXQY-"
      },
      "source": [
        "fpr_gnb, tpr_gnb,thresholds_gnb = roc_curve(Y_test, SVM_predictions)"
      ],
      "execution_count": null,
      "outputs": []
    },
    {
      "cell_type": "code",
      "metadata": {
        "colab": {
          "base_uri": "https://localhost:8080/"
        },
        "id": "LTkV1pJpXV41",
        "outputId": "b0b3edca-7dc3-4916-eb28-124d6c2348cd"
      },
      "source": [
        "auc(fpr_gnb,tpr_gnb)"
      ],
      "execution_count": null,
      "outputs": [
        {
          "output_type": "execute_result",
          "data": {
            "text/plain": [
              "0.5640863599916848"
            ]
          },
          "metadata": {
            "tags": []
          },
          "execution_count": 49
        }
      ]
    },
    {
      "cell_type": "code",
      "metadata": {
        "colab": {
          "base_uri": "https://localhost:8080/"
        },
        "id": "abVWLNCOXa9M",
        "outputId": "4a9797ca-c7ee-4c0b-9cdd-234a8bcfeb3d"
      },
      "source": [
        "fpr_gnb, tpr_gnb,thresholds_gnb = roc_curve(Y_test, KNN_predictions)\r\n",
        "auc(fpr_gnb,tpr_gnb)"
      ],
      "execution_count": null,
      "outputs": [
        {
          "output_type": "execute_result",
          "data": {
            "text/plain": [
              "0.6438867935734862"
            ]
          },
          "metadata": {
            "tags": []
          },
          "execution_count": 50
        }
      ]
    },
    {
      "cell_type": "code",
      "metadata": {
        "colab": {
          "base_uri": "https://localhost:8080/"
        },
        "id": "gwByUh2WXa0t",
        "outputId": "dc78b204-02d4-4df3-c9ef-458b0206a05b"
      },
      "source": [
        "fpr_gnb, tpr_gnb,thresholds_gnb = roc_curve(Y_test, Gaussian_predictions)\r\n",
        "auc(fpr_gnb,tpr_gnb)"
      ],
      "execution_count": null,
      "outputs": [
        {
          "output_type": "execute_result",
          "data": {
            "text/plain": [
              "0.6222944198616102"
            ]
          },
          "metadata": {
            "tags": []
          },
          "execution_count": 51
        }
      ]
    }
  ]
}