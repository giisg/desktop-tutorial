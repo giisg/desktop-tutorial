{
  "nbformat": 4,
  "nbformat_minor": 0,
  "metadata": {
    "colab": {
      "name": "ML_HW2.ipynb",
      "provenance": []
    },
    "kernelspec": {
      "name": "python3",
      "display_name": "Python 3"
    }
  },
  "cells": [
    {
      "cell_type": "code",
      "metadata": {
        "id": "JCPxiwn7X17g"
      },
      "source": [
        "import pandas as pd\n",
        "import numpy as np\n",
        "import matplotlib.pyplot as pl"
      ],
      "execution_count": 1,
      "outputs": []
    },
    {
      "cell_type": "code",
      "metadata": {
        "id": "0cYYpXZPYPgG",
        "outputId": "6fa4c11a-a524-42ab-9250-8d218ebca50d",
        "colab": {
          "base_uri": "https://localhost:8080/",
          "height": 215
        }
      },
      "source": [
        "data = pd.read_csv('drive/My Drive/bank-full.csv')\n",
        "data.head()"
      ],
      "execution_count": 2,
      "outputs": [
        {
          "output_type": "execute_result",
          "data": {
            "text/html": [
              "<div>\n",
              "<style scoped>\n",
              "    .dataframe tbody tr th:only-of-type {\n",
              "        vertical-align: middle;\n",
              "    }\n",
              "\n",
              "    .dataframe tbody tr th {\n",
              "        vertical-align: top;\n",
              "    }\n",
              "\n",
              "    .dataframe thead th {\n",
              "        text-align: right;\n",
              "    }\n",
              "</style>\n",
              "<table border=\"1\" class=\"dataframe\">\n",
              "  <thead>\n",
              "    <tr style=\"text-align: right;\">\n",
              "      <th></th>\n",
              "      <th>age</th>\n",
              "      <th>job</th>\n",
              "      <th>marital</th>\n",
              "      <th>education</th>\n",
              "      <th>default</th>\n",
              "      <th>balance</th>\n",
              "      <th>housing</th>\n",
              "      <th>loan</th>\n",
              "      <th>contact</th>\n",
              "      <th>day</th>\n",
              "      <th>month</th>\n",
              "      <th>duration</th>\n",
              "      <th>campaign</th>\n",
              "      <th>pdays</th>\n",
              "      <th>previous</th>\n",
              "      <th>poutcome</th>\n",
              "      <th>y</th>\n",
              "    </tr>\n",
              "  </thead>\n",
              "  <tbody>\n",
              "    <tr>\n",
              "      <th>0</th>\n",
              "      <td>58</td>\n",
              "      <td>management</td>\n",
              "      <td>married</td>\n",
              "      <td>tertiary</td>\n",
              "      <td>no</td>\n",
              "      <td>2143</td>\n",
              "      <td>yes</td>\n",
              "      <td>no</td>\n",
              "      <td>unknown</td>\n",
              "      <td>5</td>\n",
              "      <td>may</td>\n",
              "      <td>261</td>\n",
              "      <td>1</td>\n",
              "      <td>-1</td>\n",
              "      <td>0</td>\n",
              "      <td>unknown</td>\n",
              "      <td>no</td>\n",
              "    </tr>\n",
              "    <tr>\n",
              "      <th>1</th>\n",
              "      <td>44</td>\n",
              "      <td>technician</td>\n",
              "      <td>single</td>\n",
              "      <td>secondary</td>\n",
              "      <td>no</td>\n",
              "      <td>29</td>\n",
              "      <td>yes</td>\n",
              "      <td>no</td>\n",
              "      <td>unknown</td>\n",
              "      <td>5</td>\n",
              "      <td>may</td>\n",
              "      <td>151</td>\n",
              "      <td>1</td>\n",
              "      <td>-1</td>\n",
              "      <td>0</td>\n",
              "      <td>unknown</td>\n",
              "      <td>no</td>\n",
              "    </tr>\n",
              "    <tr>\n",
              "      <th>2</th>\n",
              "      <td>33</td>\n",
              "      <td>entrepreneur</td>\n",
              "      <td>married</td>\n",
              "      <td>secondary</td>\n",
              "      <td>no</td>\n",
              "      <td>2</td>\n",
              "      <td>yes</td>\n",
              "      <td>yes</td>\n",
              "      <td>unknown</td>\n",
              "      <td>5</td>\n",
              "      <td>may</td>\n",
              "      <td>76</td>\n",
              "      <td>1</td>\n",
              "      <td>-1</td>\n",
              "      <td>0</td>\n",
              "      <td>unknown</td>\n",
              "      <td>no</td>\n",
              "    </tr>\n",
              "    <tr>\n",
              "      <th>3</th>\n",
              "      <td>47</td>\n",
              "      <td>blue-collar</td>\n",
              "      <td>married</td>\n",
              "      <td>unknown</td>\n",
              "      <td>no</td>\n",
              "      <td>1506</td>\n",
              "      <td>yes</td>\n",
              "      <td>no</td>\n",
              "      <td>unknown</td>\n",
              "      <td>5</td>\n",
              "      <td>may</td>\n",
              "      <td>92</td>\n",
              "      <td>1</td>\n",
              "      <td>-1</td>\n",
              "      <td>0</td>\n",
              "      <td>unknown</td>\n",
              "      <td>no</td>\n",
              "    </tr>\n",
              "    <tr>\n",
              "      <th>4</th>\n",
              "      <td>33</td>\n",
              "      <td>unknown</td>\n",
              "      <td>single</td>\n",
              "      <td>unknown</td>\n",
              "      <td>no</td>\n",
              "      <td>1</td>\n",
              "      <td>no</td>\n",
              "      <td>no</td>\n",
              "      <td>unknown</td>\n",
              "      <td>5</td>\n",
              "      <td>may</td>\n",
              "      <td>198</td>\n",
              "      <td>1</td>\n",
              "      <td>-1</td>\n",
              "      <td>0</td>\n",
              "      <td>unknown</td>\n",
              "      <td>no</td>\n",
              "    </tr>\n",
              "  </tbody>\n",
              "</table>\n",
              "</div>"
            ],
            "text/plain": [
              "   age           job  marital  education  ... pdays  previous poutcome   y\n",
              "0   58    management  married   tertiary  ...    -1         0  unknown  no\n",
              "1   44    technician   single  secondary  ...    -1         0  unknown  no\n",
              "2   33  entrepreneur  married  secondary  ...    -1         0  unknown  no\n",
              "3   47   blue-collar  married    unknown  ...    -1         0  unknown  no\n",
              "4   33       unknown   single    unknown  ...    -1         0  unknown  no\n",
              "\n",
              "[5 rows x 17 columns]"
            ]
          },
          "metadata": {
            "tags": []
          },
          "execution_count": 2
        }
      ]
    },
    {
      "cell_type": "code",
      "metadata": {
        "id": "CU_ED8kqYZgF",
        "outputId": "418c3138-e80f-422b-879f-33b01ba21f7e",
        "colab": {
          "base_uri": "https://localhost:8080/",
          "height": 34
        }
      },
      "source": [
        "data.shape"
      ],
      "execution_count": 3,
      "outputs": [
        {
          "output_type": "execute_result",
          "data": {
            "text/plain": [
              "(45211, 17)"
            ]
          },
          "metadata": {
            "tags": []
          },
          "execution_count": 3
        }
      ]
    },
    {
      "cell_type": "code",
      "metadata": {
        "id": "Pqvq6qreYaMu",
        "outputId": "120125f5-aa5d-4942-c4d3-f8d6ec173c76",
        "colab": {
          "base_uri": "https://localhost:8080/",
          "height": 334
        }
      },
      "source": [
        "data.isnull().sum()"
      ],
      "execution_count": 4,
      "outputs": [
        {
          "output_type": "execute_result",
          "data": {
            "text/plain": [
              "age          0\n",
              "job          0\n",
              "marital      0\n",
              "education    0\n",
              "default      0\n",
              "balance      0\n",
              "housing      0\n",
              "loan         0\n",
              "contact      0\n",
              "day          0\n",
              "month        0\n",
              "duration     0\n",
              "campaign     0\n",
              "pdays        0\n",
              "previous     0\n",
              "poutcome     0\n",
              "y            0\n",
              "dtype: int64"
            ]
          },
          "metadata": {
            "tags": []
          },
          "execution_count": 4
        }
      ]
    },
    {
      "cell_type": "code",
      "metadata": {
        "id": "QhtvsY5JYd8w"
      },
      "source": [
        "from sklearn.linear_model import LinearRegression\n",
        "from sklearn.model_selection import train_test_split"
      ],
      "execution_count": 5,
      "outputs": []
    },
    {
      "cell_type": "code",
      "metadata": {
        "id": "W8DQz5OhYgw2"
      },
      "source": [
        "\n",
        "from sklearn.preprocessing import LabelEncoder\n",
        "le = LabelEncoder()"
      ],
      "execution_count": 6,
      "outputs": []
    },
    {
      "cell_type": "code",
      "metadata": {
        "id": "-XqUqlmrYjx_",
        "outputId": "6acecbd7-7fae-481d-89fa-1772e065dfdf",
        "colab": {
          "base_uri": "https://localhost:8080/",
          "height": 34
        }
      },
      "source": [
        "data['education'].unique()"
      ],
      "execution_count": 7,
      "outputs": [
        {
          "output_type": "execute_result",
          "data": {
            "text/plain": [
              "array(['tertiary', 'secondary', 'unknown', 'primary'], dtype=object)"
            ]
          },
          "metadata": {
            "tags": []
          },
          "execution_count": 7
        }
      ]
    },
    {
      "cell_type": "code",
      "metadata": {
        "id": "_po1ESuNZBzT",
        "outputId": "ca22093f-56e4-4c17-a31e-a5a0e7deef99",
        "colab": {
          "base_uri": "https://localhost:8080/",
          "height": 34
        }
      },
      "source": [
        "data['contact'].unique()"
      ],
      "execution_count": 8,
      "outputs": [
        {
          "output_type": "execute_result",
          "data": {
            "text/plain": [
              "array(['unknown', 'cellular', 'telephone'], dtype=object)"
            ]
          },
          "metadata": {
            "tags": []
          },
          "execution_count": 8
        }
      ]
    },
    {
      "cell_type": "code",
      "metadata": {
        "id": "QuCHz-c-ZFJV",
        "outputId": "a5fe4a71-654b-4fb7-aa2d-413c89427a7f",
        "colab": {
          "base_uri": "https://localhost:8080/",
          "height": 70
        }
      },
      "source": [
        "data['job'].unique()"
      ],
      "execution_count": 9,
      "outputs": [
        {
          "output_type": "execute_result",
          "data": {
            "text/plain": [
              "array(['management', 'technician', 'entrepreneur', 'blue-collar',\n",
              "       'unknown', 'retired', 'admin.', 'services', 'self-employed',\n",
              "       'unemployed', 'housemaid', 'student'], dtype=object)"
            ]
          },
          "metadata": {
            "tags": []
          },
          "execution_count": 9
        }
      ]
    },
    {
      "cell_type": "code",
      "metadata": {
        "id": "7UXnL2NtZQd8",
        "outputId": "1cd8a348-9fdc-47f0-b3f2-126945628dba",
        "colab": {
          "base_uri": "https://localhost:8080/",
          "height": 34
        }
      },
      "source": [
        "data['marital'].unique()"
      ],
      "execution_count": 10,
      "outputs": [
        {
          "output_type": "execute_result",
          "data": {
            "text/plain": [
              "array(['married', 'single', 'divorced'], dtype=object)"
            ]
          },
          "metadata": {
            "tags": []
          },
          "execution_count": 10
        }
      ]
    },
    {
      "cell_type": "code",
      "metadata": {
        "id": "sPF33oopZfgW",
        "outputId": "8d39427d-2157-4af6-d9af-3f1ce27abd9d",
        "colab": {
          "base_uri": "https://localhost:8080/",
          "height": 422
        }
      },
      "source": [
        "data['job'] = le.fit_transform(data['job'])\n",
        "data['marital'] = le.fit_transform(data['marital'])\n",
        "data['education'] = le.fit_transform(data['education'])\n",
        "data['default'] = le.fit_transform(data['default'])\n",
        "data['housing'] = le.fit_transform(data['housing'])\n",
        "data['loan'] = le.fit_transform(data['loan'])\n",
        "data['contact'] = le.fit_transform(data['contact'])\n",
        "data['month'] = le.fit_transform(data['month'])\n",
        "data['poutcome'] = le.fit_transform(data['poutcome'])\n",
        "data['y'] = le.fit_transform(data['y'])\n",
        "data"
      ],
      "execution_count": 11,
      "outputs": [
        {
          "output_type": "execute_result",
          "data": {
            "text/html": [
              "<div>\n",
              "<style scoped>\n",
              "    .dataframe tbody tr th:only-of-type {\n",
              "        vertical-align: middle;\n",
              "    }\n",
              "\n",
              "    .dataframe tbody tr th {\n",
              "        vertical-align: top;\n",
              "    }\n",
              "\n",
              "    .dataframe thead th {\n",
              "        text-align: right;\n",
              "    }\n",
              "</style>\n",
              "<table border=\"1\" class=\"dataframe\">\n",
              "  <thead>\n",
              "    <tr style=\"text-align: right;\">\n",
              "      <th></th>\n",
              "      <th>age</th>\n",
              "      <th>job</th>\n",
              "      <th>marital</th>\n",
              "      <th>education</th>\n",
              "      <th>default</th>\n",
              "      <th>balance</th>\n",
              "      <th>housing</th>\n",
              "      <th>loan</th>\n",
              "      <th>contact</th>\n",
              "      <th>day</th>\n",
              "      <th>month</th>\n",
              "      <th>duration</th>\n",
              "      <th>campaign</th>\n",
              "      <th>pdays</th>\n",
              "      <th>previous</th>\n",
              "      <th>poutcome</th>\n",
              "      <th>y</th>\n",
              "    </tr>\n",
              "  </thead>\n",
              "  <tbody>\n",
              "    <tr>\n",
              "      <th>0</th>\n",
              "      <td>58</td>\n",
              "      <td>4</td>\n",
              "      <td>1</td>\n",
              "      <td>2</td>\n",
              "      <td>0</td>\n",
              "      <td>2143</td>\n",
              "      <td>1</td>\n",
              "      <td>0</td>\n",
              "      <td>2</td>\n",
              "      <td>5</td>\n",
              "      <td>8</td>\n",
              "      <td>261</td>\n",
              "      <td>1</td>\n",
              "      <td>-1</td>\n",
              "      <td>0</td>\n",
              "      <td>3</td>\n",
              "      <td>0</td>\n",
              "    </tr>\n",
              "    <tr>\n",
              "      <th>1</th>\n",
              "      <td>44</td>\n",
              "      <td>9</td>\n",
              "      <td>2</td>\n",
              "      <td>1</td>\n",
              "      <td>0</td>\n",
              "      <td>29</td>\n",
              "      <td>1</td>\n",
              "      <td>0</td>\n",
              "      <td>2</td>\n",
              "      <td>5</td>\n",
              "      <td>8</td>\n",
              "      <td>151</td>\n",
              "      <td>1</td>\n",
              "      <td>-1</td>\n",
              "      <td>0</td>\n",
              "      <td>3</td>\n",
              "      <td>0</td>\n",
              "    </tr>\n",
              "    <tr>\n",
              "      <th>2</th>\n",
              "      <td>33</td>\n",
              "      <td>2</td>\n",
              "      <td>1</td>\n",
              "      <td>1</td>\n",
              "      <td>0</td>\n",
              "      <td>2</td>\n",
              "      <td>1</td>\n",
              "      <td>1</td>\n",
              "      <td>2</td>\n",
              "      <td>5</td>\n",
              "      <td>8</td>\n",
              "      <td>76</td>\n",
              "      <td>1</td>\n",
              "      <td>-1</td>\n",
              "      <td>0</td>\n",
              "      <td>3</td>\n",
              "      <td>0</td>\n",
              "    </tr>\n",
              "    <tr>\n",
              "      <th>3</th>\n",
              "      <td>47</td>\n",
              "      <td>1</td>\n",
              "      <td>1</td>\n",
              "      <td>3</td>\n",
              "      <td>0</td>\n",
              "      <td>1506</td>\n",
              "      <td>1</td>\n",
              "      <td>0</td>\n",
              "      <td>2</td>\n",
              "      <td>5</td>\n",
              "      <td>8</td>\n",
              "      <td>92</td>\n",
              "      <td>1</td>\n",
              "      <td>-1</td>\n",
              "      <td>0</td>\n",
              "      <td>3</td>\n",
              "      <td>0</td>\n",
              "    </tr>\n",
              "    <tr>\n",
              "      <th>4</th>\n",
              "      <td>33</td>\n",
              "      <td>11</td>\n",
              "      <td>2</td>\n",
              "      <td>3</td>\n",
              "      <td>0</td>\n",
              "      <td>1</td>\n",
              "      <td>0</td>\n",
              "      <td>0</td>\n",
              "      <td>2</td>\n",
              "      <td>5</td>\n",
              "      <td>8</td>\n",
              "      <td>198</td>\n",
              "      <td>1</td>\n",
              "      <td>-1</td>\n",
              "      <td>0</td>\n",
              "      <td>3</td>\n",
              "      <td>0</td>\n",
              "    </tr>\n",
              "    <tr>\n",
              "      <th>...</th>\n",
              "      <td>...</td>\n",
              "      <td>...</td>\n",
              "      <td>...</td>\n",
              "      <td>...</td>\n",
              "      <td>...</td>\n",
              "      <td>...</td>\n",
              "      <td>...</td>\n",
              "      <td>...</td>\n",
              "      <td>...</td>\n",
              "      <td>...</td>\n",
              "      <td>...</td>\n",
              "      <td>...</td>\n",
              "      <td>...</td>\n",
              "      <td>...</td>\n",
              "      <td>...</td>\n",
              "      <td>...</td>\n",
              "      <td>...</td>\n",
              "    </tr>\n",
              "    <tr>\n",
              "      <th>45206</th>\n",
              "      <td>51</td>\n",
              "      <td>9</td>\n",
              "      <td>1</td>\n",
              "      <td>2</td>\n",
              "      <td>0</td>\n",
              "      <td>825</td>\n",
              "      <td>0</td>\n",
              "      <td>0</td>\n",
              "      <td>0</td>\n",
              "      <td>17</td>\n",
              "      <td>9</td>\n",
              "      <td>977</td>\n",
              "      <td>3</td>\n",
              "      <td>-1</td>\n",
              "      <td>0</td>\n",
              "      <td>3</td>\n",
              "      <td>1</td>\n",
              "    </tr>\n",
              "    <tr>\n",
              "      <th>45207</th>\n",
              "      <td>71</td>\n",
              "      <td>5</td>\n",
              "      <td>0</td>\n",
              "      <td>0</td>\n",
              "      <td>0</td>\n",
              "      <td>1729</td>\n",
              "      <td>0</td>\n",
              "      <td>0</td>\n",
              "      <td>0</td>\n",
              "      <td>17</td>\n",
              "      <td>9</td>\n",
              "      <td>456</td>\n",
              "      <td>2</td>\n",
              "      <td>-1</td>\n",
              "      <td>0</td>\n",
              "      <td>3</td>\n",
              "      <td>1</td>\n",
              "    </tr>\n",
              "    <tr>\n",
              "      <th>45208</th>\n",
              "      <td>72</td>\n",
              "      <td>5</td>\n",
              "      <td>1</td>\n",
              "      <td>1</td>\n",
              "      <td>0</td>\n",
              "      <td>5715</td>\n",
              "      <td>0</td>\n",
              "      <td>0</td>\n",
              "      <td>0</td>\n",
              "      <td>17</td>\n",
              "      <td>9</td>\n",
              "      <td>1127</td>\n",
              "      <td>5</td>\n",
              "      <td>184</td>\n",
              "      <td>3</td>\n",
              "      <td>2</td>\n",
              "      <td>1</td>\n",
              "    </tr>\n",
              "    <tr>\n",
              "      <th>45209</th>\n",
              "      <td>57</td>\n",
              "      <td>1</td>\n",
              "      <td>1</td>\n",
              "      <td>1</td>\n",
              "      <td>0</td>\n",
              "      <td>668</td>\n",
              "      <td>0</td>\n",
              "      <td>0</td>\n",
              "      <td>1</td>\n",
              "      <td>17</td>\n",
              "      <td>9</td>\n",
              "      <td>508</td>\n",
              "      <td>4</td>\n",
              "      <td>-1</td>\n",
              "      <td>0</td>\n",
              "      <td>3</td>\n",
              "      <td>0</td>\n",
              "    </tr>\n",
              "    <tr>\n",
              "      <th>45210</th>\n",
              "      <td>37</td>\n",
              "      <td>2</td>\n",
              "      <td>1</td>\n",
              "      <td>1</td>\n",
              "      <td>0</td>\n",
              "      <td>2971</td>\n",
              "      <td>0</td>\n",
              "      <td>0</td>\n",
              "      <td>0</td>\n",
              "      <td>17</td>\n",
              "      <td>9</td>\n",
              "      <td>361</td>\n",
              "      <td>2</td>\n",
              "      <td>188</td>\n",
              "      <td>11</td>\n",
              "      <td>1</td>\n",
              "      <td>0</td>\n",
              "    </tr>\n",
              "  </tbody>\n",
              "</table>\n",
              "<p>45211 rows × 17 columns</p>\n",
              "</div>"
            ],
            "text/plain": [
              "       age  job  marital  education  ...  pdays  previous  poutcome  y\n",
              "0       58    4        1          2  ...     -1         0         3  0\n",
              "1       44    9        2          1  ...     -1         0         3  0\n",
              "2       33    2        1          1  ...     -1         0         3  0\n",
              "3       47    1        1          3  ...     -1         0         3  0\n",
              "4       33   11        2          3  ...     -1         0         3  0\n",
              "...    ...  ...      ...        ...  ...    ...       ...       ... ..\n",
              "45206   51    9        1          2  ...     -1         0         3  1\n",
              "45207   71    5        0          0  ...     -1         0         3  1\n",
              "45208   72    5        1          1  ...    184         3         2  1\n",
              "45209   57    1        1          1  ...     -1         0         3  0\n",
              "45210   37    2        1          1  ...    188        11         1  0\n",
              "\n",
              "[45211 rows x 17 columns]"
            ]
          },
          "metadata": {
            "tags": []
          },
          "execution_count": 11
        }
      ]
    },
    {
      "cell_type": "code",
      "metadata": {
        "id": "jVpQXeQlr9N1"
      },
      "source": [
        "Y = data['y'].values"
      ],
      "execution_count": 12,
      "outputs": []
    },
    {
      "cell_type": "code",
      "metadata": {
        "id": "tZ1d1_9Kshqx",
        "outputId": "1481fefd-7f7d-460e-a25e-6c9d4e7bb14c",
        "colab": {
          "base_uri": "https://localhost:8080/",
          "height": 34
        }
      },
      "source": [
        "Y"
      ],
      "execution_count": 13,
      "outputs": [
        {
          "output_type": "execute_result",
          "data": {
            "text/plain": [
              "array([0, 0, 0, ..., 1, 0, 0])"
            ]
          },
          "metadata": {
            "tags": []
          },
          "execution_count": 13
        }
      ]
    },
    {
      "cell_type": "code",
      "metadata": {
        "id": "Yk4yEbNSsTTh"
      },
      "source": [
        "X = data.drop('y', 1)"
      ],
      "execution_count": 14,
      "outputs": []
    },
    {
      "cell_type": "code",
      "metadata": {
        "id": "xjIOCfEVt4m6",
        "outputId": "16687b67-cbb9-40a6-80e9-e7c05c4bf631",
        "colab": {
          "base_uri": "https://localhost:8080/",
          "height": 422
        }
      },
      "source": [
        "X"
      ],
      "execution_count": 15,
      "outputs": [
        {
          "output_type": "execute_result",
          "data": {
            "text/html": [
              "<div>\n",
              "<style scoped>\n",
              "    .dataframe tbody tr th:only-of-type {\n",
              "        vertical-align: middle;\n",
              "    }\n",
              "\n",
              "    .dataframe tbody tr th {\n",
              "        vertical-align: top;\n",
              "    }\n",
              "\n",
              "    .dataframe thead th {\n",
              "        text-align: right;\n",
              "    }\n",
              "</style>\n",
              "<table border=\"1\" class=\"dataframe\">\n",
              "  <thead>\n",
              "    <tr style=\"text-align: right;\">\n",
              "      <th></th>\n",
              "      <th>age</th>\n",
              "      <th>job</th>\n",
              "      <th>marital</th>\n",
              "      <th>education</th>\n",
              "      <th>default</th>\n",
              "      <th>balance</th>\n",
              "      <th>housing</th>\n",
              "      <th>loan</th>\n",
              "      <th>contact</th>\n",
              "      <th>day</th>\n",
              "      <th>month</th>\n",
              "      <th>duration</th>\n",
              "      <th>campaign</th>\n",
              "      <th>pdays</th>\n",
              "      <th>previous</th>\n",
              "      <th>poutcome</th>\n",
              "    </tr>\n",
              "  </thead>\n",
              "  <tbody>\n",
              "    <tr>\n",
              "      <th>0</th>\n",
              "      <td>58</td>\n",
              "      <td>4</td>\n",
              "      <td>1</td>\n",
              "      <td>2</td>\n",
              "      <td>0</td>\n",
              "      <td>2143</td>\n",
              "      <td>1</td>\n",
              "      <td>0</td>\n",
              "      <td>2</td>\n",
              "      <td>5</td>\n",
              "      <td>8</td>\n",
              "      <td>261</td>\n",
              "      <td>1</td>\n",
              "      <td>-1</td>\n",
              "      <td>0</td>\n",
              "      <td>3</td>\n",
              "    </tr>\n",
              "    <tr>\n",
              "      <th>1</th>\n",
              "      <td>44</td>\n",
              "      <td>9</td>\n",
              "      <td>2</td>\n",
              "      <td>1</td>\n",
              "      <td>0</td>\n",
              "      <td>29</td>\n",
              "      <td>1</td>\n",
              "      <td>0</td>\n",
              "      <td>2</td>\n",
              "      <td>5</td>\n",
              "      <td>8</td>\n",
              "      <td>151</td>\n",
              "      <td>1</td>\n",
              "      <td>-1</td>\n",
              "      <td>0</td>\n",
              "      <td>3</td>\n",
              "    </tr>\n",
              "    <tr>\n",
              "      <th>2</th>\n",
              "      <td>33</td>\n",
              "      <td>2</td>\n",
              "      <td>1</td>\n",
              "      <td>1</td>\n",
              "      <td>0</td>\n",
              "      <td>2</td>\n",
              "      <td>1</td>\n",
              "      <td>1</td>\n",
              "      <td>2</td>\n",
              "      <td>5</td>\n",
              "      <td>8</td>\n",
              "      <td>76</td>\n",
              "      <td>1</td>\n",
              "      <td>-1</td>\n",
              "      <td>0</td>\n",
              "      <td>3</td>\n",
              "    </tr>\n",
              "    <tr>\n",
              "      <th>3</th>\n",
              "      <td>47</td>\n",
              "      <td>1</td>\n",
              "      <td>1</td>\n",
              "      <td>3</td>\n",
              "      <td>0</td>\n",
              "      <td>1506</td>\n",
              "      <td>1</td>\n",
              "      <td>0</td>\n",
              "      <td>2</td>\n",
              "      <td>5</td>\n",
              "      <td>8</td>\n",
              "      <td>92</td>\n",
              "      <td>1</td>\n",
              "      <td>-1</td>\n",
              "      <td>0</td>\n",
              "      <td>3</td>\n",
              "    </tr>\n",
              "    <tr>\n",
              "      <th>4</th>\n",
              "      <td>33</td>\n",
              "      <td>11</td>\n",
              "      <td>2</td>\n",
              "      <td>3</td>\n",
              "      <td>0</td>\n",
              "      <td>1</td>\n",
              "      <td>0</td>\n",
              "      <td>0</td>\n",
              "      <td>2</td>\n",
              "      <td>5</td>\n",
              "      <td>8</td>\n",
              "      <td>198</td>\n",
              "      <td>1</td>\n",
              "      <td>-1</td>\n",
              "      <td>0</td>\n",
              "      <td>3</td>\n",
              "    </tr>\n",
              "    <tr>\n",
              "      <th>...</th>\n",
              "      <td>...</td>\n",
              "      <td>...</td>\n",
              "      <td>...</td>\n",
              "      <td>...</td>\n",
              "      <td>...</td>\n",
              "      <td>...</td>\n",
              "      <td>...</td>\n",
              "      <td>...</td>\n",
              "      <td>...</td>\n",
              "      <td>...</td>\n",
              "      <td>...</td>\n",
              "      <td>...</td>\n",
              "      <td>...</td>\n",
              "      <td>...</td>\n",
              "      <td>...</td>\n",
              "      <td>...</td>\n",
              "    </tr>\n",
              "    <tr>\n",
              "      <th>45206</th>\n",
              "      <td>51</td>\n",
              "      <td>9</td>\n",
              "      <td>1</td>\n",
              "      <td>2</td>\n",
              "      <td>0</td>\n",
              "      <td>825</td>\n",
              "      <td>0</td>\n",
              "      <td>0</td>\n",
              "      <td>0</td>\n",
              "      <td>17</td>\n",
              "      <td>9</td>\n",
              "      <td>977</td>\n",
              "      <td>3</td>\n",
              "      <td>-1</td>\n",
              "      <td>0</td>\n",
              "      <td>3</td>\n",
              "    </tr>\n",
              "    <tr>\n",
              "      <th>45207</th>\n",
              "      <td>71</td>\n",
              "      <td>5</td>\n",
              "      <td>0</td>\n",
              "      <td>0</td>\n",
              "      <td>0</td>\n",
              "      <td>1729</td>\n",
              "      <td>0</td>\n",
              "      <td>0</td>\n",
              "      <td>0</td>\n",
              "      <td>17</td>\n",
              "      <td>9</td>\n",
              "      <td>456</td>\n",
              "      <td>2</td>\n",
              "      <td>-1</td>\n",
              "      <td>0</td>\n",
              "      <td>3</td>\n",
              "    </tr>\n",
              "    <tr>\n",
              "      <th>45208</th>\n",
              "      <td>72</td>\n",
              "      <td>5</td>\n",
              "      <td>1</td>\n",
              "      <td>1</td>\n",
              "      <td>0</td>\n",
              "      <td>5715</td>\n",
              "      <td>0</td>\n",
              "      <td>0</td>\n",
              "      <td>0</td>\n",
              "      <td>17</td>\n",
              "      <td>9</td>\n",
              "      <td>1127</td>\n",
              "      <td>5</td>\n",
              "      <td>184</td>\n",
              "      <td>3</td>\n",
              "      <td>2</td>\n",
              "    </tr>\n",
              "    <tr>\n",
              "      <th>45209</th>\n",
              "      <td>57</td>\n",
              "      <td>1</td>\n",
              "      <td>1</td>\n",
              "      <td>1</td>\n",
              "      <td>0</td>\n",
              "      <td>668</td>\n",
              "      <td>0</td>\n",
              "      <td>0</td>\n",
              "      <td>1</td>\n",
              "      <td>17</td>\n",
              "      <td>9</td>\n",
              "      <td>508</td>\n",
              "      <td>4</td>\n",
              "      <td>-1</td>\n",
              "      <td>0</td>\n",
              "      <td>3</td>\n",
              "    </tr>\n",
              "    <tr>\n",
              "      <th>45210</th>\n",
              "      <td>37</td>\n",
              "      <td>2</td>\n",
              "      <td>1</td>\n",
              "      <td>1</td>\n",
              "      <td>0</td>\n",
              "      <td>2971</td>\n",
              "      <td>0</td>\n",
              "      <td>0</td>\n",
              "      <td>0</td>\n",
              "      <td>17</td>\n",
              "      <td>9</td>\n",
              "      <td>361</td>\n",
              "      <td>2</td>\n",
              "      <td>188</td>\n",
              "      <td>11</td>\n",
              "      <td>1</td>\n",
              "    </tr>\n",
              "  </tbody>\n",
              "</table>\n",
              "<p>45211 rows × 16 columns</p>\n",
              "</div>"
            ],
            "text/plain": [
              "       age  job  marital  education  ...  campaign  pdays  previous  poutcome\n",
              "0       58    4        1          2  ...         1     -1         0         3\n",
              "1       44    9        2          1  ...         1     -1         0         3\n",
              "2       33    2        1          1  ...         1     -1         0         3\n",
              "3       47    1        1          3  ...         1     -1         0         3\n",
              "4       33   11        2          3  ...         1     -1         0         3\n",
              "...    ...  ...      ...        ...  ...       ...    ...       ...       ...\n",
              "45206   51    9        1          2  ...         3     -1         0         3\n",
              "45207   71    5        0          0  ...         2     -1         0         3\n",
              "45208   72    5        1          1  ...         5    184         3         2\n",
              "45209   57    1        1          1  ...         4     -1         0         3\n",
              "45210   37    2        1          1  ...         2    188        11         1\n",
              "\n",
              "[45211 rows x 16 columns]"
            ]
          },
          "metadata": {
            "tags": []
          },
          "execution_count": 15
        }
      ]
    },
    {
      "cell_type": "code",
      "metadata": {
        "id": "-aDFplvlZhQg"
      },
      "source": [
        "from sklearn.preprocessing import StandardScaler"
      ],
      "execution_count": 16,
      "outputs": []
    },
    {
      "cell_type": "code",
      "metadata": {
        "id": "OwXLk8Cd7esI",
        "outputId": "cb1bf8ad-78ff-4f46-dfd5-b73c59edd5ce",
        "colab": {
          "base_uri": "https://localhost:8080/",
          "height": 246
        }
      },
      "source": [
        "X_std = StandardScaler().fit_transform(X)\n",
        "X_std"
      ],
      "execution_count": 17,
      "outputs": [
        {
          "output_type": "execute_result",
          "data": {
            "text/plain": [
              "array([[ 1.60696496, -0.10381968, -0.27576178, ..., -0.41145311,\n",
              "        -0.25194037,  0.44489814],\n",
              "       [ 0.28852927,  1.42400783,  1.3683719 , ..., -0.41145311,\n",
              "        -0.25194037,  0.44489814],\n",
              "       [-0.74738448, -0.71495069, -0.27576178, ..., -0.41145311,\n",
              "        -0.25194037,  0.44489814],\n",
              "       ...,\n",
              "       [ 2.92540065,  0.20174582, -0.27576178, ...,  1.43618859,\n",
              "         1.05047333, -0.56617504],\n",
              "       [ 1.51279098, -1.02051619, -0.27576178, ..., -0.41145311,\n",
              "        -0.25194037,  0.44489814],\n",
              "       [-0.37068857, -0.71495069, -0.27576178, ...,  1.4761376 ,\n",
              "         4.52357654, -1.57724822]])"
            ]
          },
          "metadata": {
            "tags": []
          },
          "execution_count": 17
        }
      ]
    },
    {
      "cell_type": "code",
      "metadata": {
        "id": "T3vc53GVuEfM"
      },
      "source": [
        "import numpy.linalg as linalg"
      ],
      "execution_count": 18,
      "outputs": []
    },
    {
      "cell_type": "code",
      "metadata": {
        "id": "N84EI2dEuiIj"
      },
      "source": [
        "cov_mat = np.cov(X_std.T)"
      ],
      "execution_count": 19,
      "outputs": []
    },
    {
      "cell_type": "code",
      "metadata": {
        "id": "PBGrzCi9usTg"
      },
      "source": [
        "eig_vals,eig_vecs = linalg.eig(cov_mat)"
      ],
      "execution_count": 20,
      "outputs": []
    },
    {
      "cell_type": "code",
      "metadata": {
        "id": "3cPj1CDbu2Hr",
        "outputId": "b9ebf541-6e74-4089-c77c-0d86e789f301",
        "colab": {
          "base_uri": "https://localhost:8080/",
          "height": 87
        }
      },
      "source": [
        "eig_vals"
      ],
      "execution_count": 21,
      "outputs": [
        {
          "output_type": "execute_result",
          "data": {
            "text/plain": [
              "array([2.38158304, 0.1391822 , 1.68623819, 1.49067024, 1.21976059,\n",
              "       0.5183141 , 0.54834835, 0.62218493, 1.12667059, 0.76930274,\n",
              "       1.01463856, 0.97624967, 0.91432708, 0.93100798, 0.82224897,\n",
              "       0.83962667])"
            ]
          },
          "metadata": {
            "tags": []
          },
          "execution_count": 21
        }
      ]
    },
    {
      "cell_type": "code",
      "metadata": {
        "id": "ji0fGavZvVck",
        "outputId": "4600c81f-d0ff-4b71-92f3-43d44d55161c",
        "colab": {
          "base_uri": "https://localhost:8080/",
          "height": 1000
        }
      },
      "source": [
        "eig_vecs"
      ],
      "execution_count": 22,
      "outputs": [
        {
          "output_type": "execute_result",
          "data": {
            "text/plain": [
              "array([[-4.07224865e-02,  1.32064851e-02, -7.78855106e-02,\n",
              "         6.71250182e-01,  1.06074923e-01,  5.77346915e-01,\n",
              "         3.52752267e-01,  1.48722080e-01, -4.80978511e-02,\n",
              "        -1.46343696e-01,  1.47825552e-01,  1.15422170e-02,\n",
              "         6.21159843e-02, -2.79913693e-02, -5.55634015e-03,\n",
              "         1.50216816e-03],\n",
              "       [ 5.44707284e-04,  5.91568331e-03, -3.07656309e-01,\n",
              "        -1.54001776e-01,  1.48076663e-01,  8.05841187e-03,\n",
              "        -1.55052610e-02, -5.39868791e-04, -3.68249226e-02,\n",
              "         2.99128743e-01,  5.14299772e-01,  7.43060139e-02,\n",
              "         2.43818497e-01, -4.13187015e-01, -5.13555160e-01,\n",
              "         6.77777720e-02],\n",
              "       [ 4.40406899e-02,  1.47885971e-03, -7.02634073e-02,\n",
              "        -6.25956757e-01,  5.28324264e-02,  4.63771627e-01,\n",
              "         3.34572829e-01,  1.52235368e-01,  9.43967120e-03,\n",
              "        -2.64710008e-01, -1.74881089e-01,  3.68150361e-02,\n",
              "        -9.91212248e-02,  2.10410155e-01, -3.02365072e-01,\n",
              "        -2.62321329e-02],\n",
              "       [ 3.76838680e-02,  1.17052993e-02, -2.79646984e-01,\n",
              "        -2.85198859e-01,  1.93310015e-01,  2.68541520e-02,\n",
              "         1.15617504e-01,  7.78318961e-03, -1.36347132e-01,\n",
              "        -1.90158063e-01,  4.35959143e-01, -2.75441255e-03,\n",
              "        -8.47462401e-02, -1.19009556e-01,  7.12213243e-01,\n",
              "         1.18206177e-01],\n",
              "       [-4.13973982e-02, -3.52914482e-03,  3.47561566e-02,\n",
              "        -2.36788186e-02, -3.27453361e-01,  1.14733669e-02,\n",
              "         2.58354805e-02, -8.06509579e-03,  2.88674171e-01,\n",
              "         1.31377485e-01,  5.12081358e-01, -5.90818037e-02,\n",
              "         2.32886026e-01,  6.83885703e-01,  1.06374686e-02,\n",
              "        -7.46702555e-03],\n",
              "       [ 2.06160246e-02,  9.96047448e-03, -1.08515902e-01,\n",
              "         1.08370235e-01,  4.44998438e-01, -1.03536560e-01,\n",
              "         7.59744475e-03, -7.38343649e-02, -3.46343584e-01,\n",
              "         2.86207024e-01,  7.90108393e-02, -1.74684929e-01,\n",
              "        -5.35560043e-01,  4.27910521e-01, -1.74018449e-01,\n",
              "         1.51205243e-01],\n",
              "       [ 7.38437074e-02, -1.14666720e-02,  5.02362550e-01,\n",
              "        -1.65044517e-01, -8.50450651e-02,  3.40534601e-01,\n",
              "         2.27361535e-01, -2.00986393e-01, -1.11208900e-01,\n",
              "         6.21589317e-01, -2.50358304e-02, -8.53824400e-02,\n",
              "         3.28306274e-02, -1.58343909e-01,  2.16778026e-01,\n",
              "         1.40433311e-01],\n",
              "       [-2.33716192e-02,  8.10453691e-03,  9.10657807e-02,\n",
              "         3.33247541e-02, -4.16492012e-01, -1.31481035e-02,\n",
              "         8.41273810e-02,  2.02324757e-02,  3.28382867e-01,\n",
              "        -1.16349514e-01,  2.51987567e-01, -1.77611185e-01,\n",
              "        -6.87523665e-01, -2.89644860e-01, -1.26813842e-01,\n",
              "         1.40636629e-01],\n",
              "       [-2.66810532e-01, -2.54502174e-02,  4.59456504e-01,\n",
              "        -1.11577186e-04,  1.36732724e-01, -4.38105719e-01,\n",
              "         5.27627862e-01, -7.79828769e-02, -1.72484162e-01,\n",
              "        -3.05834283e-01,  1.72612482e-01,  9.47165516e-02,\n",
              "         1.29911632e-01, -1.75629415e-02, -1.42755029e-01,\n",
              "         1.49475784e-01],\n",
              "       [-1.00801239e-01,  7.77769371e-03, -1.10537960e-01,\n",
              "        -3.21846514e-02, -3.23189031e-01, -4.98704648e-02,\n",
              "         1.37608700e-01, -5.35251711e-02, -4.82213415e-01,\n",
              "        -1.46527749e-02,  6.11607823e-02, -4.93217506e-01,\n",
              "         2.75287022e-02, -5.89027521e-02, -2.53584440e-02,\n",
              "        -6.02632366e-01],\n",
              "       [-1.14876586e-02,  1.45337074e-02,  5.40931675e-01,\n",
              "        -6.55421300e-02,  1.82915711e-01,  2.29126473e-01,\n",
              "        -5.62414273e-01,  2.90331142e-01, -1.94375074e-01,\n",
              "        -2.40735470e-01,  3.12121442e-01, -6.46859949e-02,\n",
              "        -2.92584415e-02, -2.32656852e-02, -6.46813805e-02,\n",
              "        -1.15215165e-01],\n",
              "       [ 9.57138537e-03, -9.75201555e-03,  6.34089743e-03,\n",
              "        -2.21160664e-02,  2.93067193e-01, -2.69471846e-02,\n",
              "         1.24872520e-02,  4.55663990e-02,  3.35380198e-01,\n",
              "        -8.37676187e-02, -1.02401694e-01, -8.09362204e-01,\n",
              "         2.48011557e-01, -6.00954527e-02, -7.62990414e-03,\n",
              "         2.45372397e-01],\n",
              "       [-1.09593724e-01, -1.26806113e-02, -1.36077639e-01,\n",
              "         4.56652872e-03, -4.37672850e-01,  4.25738681e-02,\n",
              "        -1.45840925e-01,  1.91222171e-01, -4.73264094e-01,\n",
              "        -7.71147925e-02, -1.00423454e-01, -8.65370611e-02,\n",
              "         1.38233595e-01,  4.10908754e-02, -4.46244879e-02,\n",
              "         6.69176680e-01],\n",
              "       [ 5.85668506e-01,  6.91111018e-01,  7.03983689e-02,\n",
              "         3.85331502e-02, -5.21272972e-02, -1.85373048e-01,\n",
              "         1.58238399e-01,  3.23516779e-01, -5.37290736e-02,\n",
              "         3.08021177e-02,  1.60301098e-02, -8.64776544e-03,\n",
              "         4.20659214e-02,  2.66347321e-03, -1.37957801e-02,\n",
              "        -1.29877621e-04],\n",
              "       [ 4.42494623e-01,  3.99869438e-02,  2.81261070e-02,\n",
              "         4.76457424e-02, -4.61339232e-02,  1.36532756e-01,\n",
              "        -1.21457731e-01, -7.71316558e-01, -1.05182668e-01,\n",
              "        -3.43692631e-01,  8.40168806e-02, -3.16529394e-02,\n",
              "         6.05352175e-02,  2.56312013e-02, -1.27921177e-01,\n",
              "         1.05610372e-01],\n",
              "       [-5.95358407e-01,  7.20370619e-01, -4.76122395e-02,\n",
              "        -4.79044756e-02,  4.26282935e-02,  1.46104479e-01,\n",
              "        -1.25176497e-01, -2.77219810e-01,  6.07476009e-02,\n",
              "        -7.00495397e-03, -3.95315379e-02,  9.46239034e-03,\n",
              "        -1.78008630e-02, -3.40624692e-06,  1.66854347e-02,\n",
              "         1.95502114e-02]])"
            ]
          },
          "metadata": {
            "tags": []
          },
          "execution_count": 22
        }
      ]
    },
    {
      "cell_type": "code",
      "metadata": {
        "id": "NhwhrwNmvXCq"
      },
      "source": [
        "from sklearn.decomposition import PCA"
      ],
      "execution_count": 23,
      "outputs": []
    },
    {
      "cell_type": "code",
      "metadata": {
        "id": "OZP6DWwdwSmI"
      },
      "source": [
        "pca = PCA(n_components=13)"
      ],
      "execution_count": 24,
      "outputs": []
    },
    {
      "cell_type": "code",
      "metadata": {
        "id": "GNrGcKjWwfZM"
      },
      "source": [
        "X_feature = pca.fit_transform(X_std)"
      ],
      "execution_count": 25,
      "outputs": []
    },
    {
      "cell_type": "code",
      "metadata": {
        "id": "97Q6JCZxwnYg",
        "outputId": "d68aaa43-8032-4881-9a23-98149e3054be",
        "colab": {
          "base_uri": "https://localhost:8080/",
          "height": 246
        }
      },
      "source": [
        "X_feature"
      ],
      "execution_count": 26,
      "outputs": [
        {
          "output_type": "execute_result",
          "data": {
            "text/plain": [
              "array([[-0.78890923, -1.31830434,  0.77622944, ..., -0.90311143,\n",
              "         0.2568709 , -0.01887746],\n",
              "       [-0.73076082, -1.2819238 , -1.05772434, ...,  1.19940318,\n",
              "        -0.04916124, -0.09366281],\n",
              "       [-0.82883489, -2.38356872, -0.29819299, ..., -0.06000458,\n",
              "         0.29917438,  0.2669997 ],\n",
              "       ...,\n",
              "       [ 1.57891358,  0.5852589 ,  2.50001712, ...,  0.88610432,\n",
              "         1.20431529, -0.98892856],\n",
              "       [-0.94353462, -0.40619616,  1.43027295, ..., -0.12062925,\n",
              "         1.568343  , -0.77033524],\n",
              "       [ 3.93389431, -0.3128333 ,  0.60783749, ...,  0.63598229,\n",
              "         2.11562872,  2.14059428]])"
            ]
          },
          "metadata": {
            "tags": []
          },
          "execution_count": 26
        }
      ]
    },
    {
      "cell_type": "code",
      "metadata": {
        "id": "zxje-j-Kwoyo",
        "outputId": "34abe80f-42dd-415b-8288-c4e21426a48a",
        "colab": {
          "base_uri": "https://localhost:8080/",
          "height": 70
        }
      },
      "source": [
        "pca.explained_variance_ratio_"
      ],
      "execution_count": 27,
      "outputs": [
        {
          "output_type": "execute_result",
          "data": {
            "text/plain": [
              "array([0.14884565, 0.10538756, 0.09316483, 0.07623335, 0.07041535,\n",
              "       0.06341351, 0.06101426, 0.05818671, 0.05714418, 0.05247551,\n",
              "       0.05138942, 0.04808036, 0.0388857 ])"
            ]
          },
          "metadata": {
            "tags": []
          },
          "execution_count": 27
        }
      ]
    },
    {
      "cell_type": "code",
      "metadata": {
        "id": "nFEvOpl9xCHX",
        "outputId": "215806a5-cda4-4f10-cfd7-1ce7b054705d",
        "colab": {
          "base_uri": "https://localhost:8080/",
          "height": 34
        }
      },
      "source": [
        "X_feature.shape"
      ],
      "execution_count": 28,
      "outputs": [
        {
          "output_type": "execute_result",
          "data": {
            "text/plain": [
              "(45211, 13)"
            ]
          },
          "metadata": {
            "tags": []
          },
          "execution_count": 28
        }
      ]
    },
    {
      "cell_type": "code",
      "metadata": {
        "id": "65i2q7nrx1wy",
        "outputId": "d28b17ef-c1fb-4c78-bc75-e5a67eb0839c",
        "colab": {
          "base_uri": "https://localhost:8080/",
          "height": 34
        }
      },
      "source": [
        "Y.shape"
      ],
      "execution_count": 29,
      "outputs": [
        {
          "output_type": "execute_result",
          "data": {
            "text/plain": [
              "(45211,)"
            ]
          },
          "metadata": {
            "tags": []
          },
          "execution_count": 29
        }
      ]
    },
    {
      "cell_type": "markdown",
      "metadata": {
        "id": "4CxywA2Dq4qE"
      },
      "source": [
        "方法一"
      ]
    },
    {
      "cell_type": "code",
      "metadata": {
        "id": "O1bPHCKJx5gi"
      },
      "source": [
        "from sklearn.linear_model import LinearRegression\n",
        "from sklearn.model_selection import train_test_split"
      ],
      "execution_count": 30,
      "outputs": []
    },
    {
      "cell_type": "code",
      "metadata": {
        "id": "KveVsUmUyr4V"
      },
      "source": [
        "X_train,X_test,Y_train,Y_test = train_test_split(X_feature,Y,test_size=0.2)\n",
        "lr = LinearRegression(normalize=True)"
      ],
      "execution_count": 31,
      "outputs": []
    },
    {
      "cell_type": "code",
      "metadata": {
        "id": "hwkKfBgvzEcB",
        "outputId": "d61d33aa-5340-4ac5-85c7-b3d90e04c381",
        "colab": {
          "base_uri": "https://localhost:8080/",
          "height": 34
        }
      },
      "source": [
        "lr.fit(X_train,Y_train)"
      ],
      "execution_count": 32,
      "outputs": [
        {
          "output_type": "execute_result",
          "data": {
            "text/plain": [
              "LinearRegression(copy_X=True, fit_intercept=True, n_jobs=None, normalize=True)"
            ]
          },
          "metadata": {
            "tags": []
          },
          "execution_count": 32
        }
      ]
    },
    {
      "cell_type": "code",
      "metadata": {
        "id": "YRA5cS4SzMdC",
        "outputId": "b5765976-cbf5-496e-80f4-7ad5aab8ab35",
        "colab": {
          "base_uri": "https://localhost:8080/",
          "height": 34
        }
      },
      "source": [
        "lr.intercept_"
      ],
      "execution_count": 33,
      "outputs": [
        {
          "output_type": "execute_result",
          "data": {
            "text/plain": [
              "0.11756857219897995"
            ]
          },
          "metadata": {
            "tags": []
          },
          "execution_count": 33
        }
      ]
    },
    {
      "cell_type": "code",
      "metadata": {
        "id": "m9laUZJJzQzJ",
        "outputId": "6c6e5a0e-75ce-4442-ab9d-4a274dd1422e",
        "colab": {
          "base_uri": "https://localhost:8080/",
          "height": 70
        }
      },
      "source": [
        "lr.coef_"
      ],
      "execution_count": 34,
      "outputs": [
        {
          "output_type": "execute_result",
          "data": {
            "text/plain": [
              "array([ 0.02862473,  0.03244124,  0.00031982,  0.0567035 , -0.04159969,\n",
              "       -0.0083023 ,  0.09755631,  0.00644668, -0.03237002,  0.0167248 ,\n",
              "        0.00506878,  0.03958919, -0.00634121])"
            ]
          },
          "metadata": {
            "tags": []
          },
          "execution_count": 34
        }
      ]
    },
    {
      "cell_type": "code",
      "metadata": {
        "id": "FktxHxeEzT1Q",
        "outputId": "a966e26a-f2f5-493e-9465-abe4a298ac6a",
        "colab": {
          "base_uri": "https://localhost:8080/",
          "height": 34
        }
      },
      "source": [
        "lr.score(X_test,Y_test)"
      ],
      "execution_count": 35,
      "outputs": [
        {
          "output_type": "execute_result",
          "data": {
            "text/plain": [
              "0.19880762883800052"
            ]
          },
          "metadata": {
            "tags": []
          },
          "execution_count": 35
        }
      ]
    },
    {
      "cell_type": "code",
      "metadata": {
        "id": "RzcnUFNRzk9m"
      },
      "source": [
        "from sklearn.model_selection import cross_val_score"
      ],
      "execution_count": 36,
      "outputs": []
    },
    {
      "cell_type": "code",
      "metadata": {
        "id": "yNKN445z2WWl"
      },
      "source": [
        "scores = cross_val_score(lr,X_test,Y_test,cv=10,scoring='r2')"
      ],
      "execution_count": 37,
      "outputs": []
    },
    {
      "cell_type": "code",
      "metadata": {
        "id": "-buOLBBw2pt8",
        "outputId": "257a25d5-b8a7-4f92-9312-a6947f92a7e6",
        "colab": {
          "base_uri": "https://localhost:8080/",
          "height": 52
        }
      },
      "source": [
        "scores"
      ],
      "execution_count": 38,
      "outputs": [
        {
          "output_type": "execute_result",
          "data": {
            "text/plain": [
              "array([0.20030251, 0.06804181, 0.15802471, 0.20573398, 0.17433444,\n",
              "       0.21672803, 0.21609011, 0.22597732, 0.21618341, 0.24314982])"
            ]
          },
          "metadata": {
            "tags": []
          },
          "execution_count": 38
        }
      ]
    },
    {
      "cell_type": "code",
      "metadata": {
        "id": "hhVVb8z-slrK",
        "outputId": "378f476e-92b7-457e-81e0-febcbef09507",
        "colab": {
          "base_uri": "https://localhost:8080/",
          "height": 34
        }
      },
      "source": [
        "scores.mean()"
      ],
      "execution_count": 39,
      "outputs": [
        {
          "output_type": "execute_result",
          "data": {
            "text/plain": [
              "0.19245661446066314"
            ]
          },
          "metadata": {
            "tags": []
          },
          "execution_count": 39
        }
      ]
    },
    {
      "cell_type": "markdown",
      "metadata": {
        "id": "JpLFdv0Is5mE"
      },
      "source": [
        "方法二"
      ]
    },
    {
      "cell_type": "code",
      "metadata": {
        "id": "woIz6lT02rMx"
      },
      "source": [
        "from sklearn.linear_model import Ridge"
      ],
      "execution_count": 40,
      "outputs": []
    },
    {
      "cell_type": "code",
      "metadata": {
        "id": "c_bBAUOerP8q"
      },
      "source": [
        "rg = Ridge(alpha=0.007,normalize=True)"
      ],
      "execution_count": 41,
      "outputs": []
    },
    {
      "cell_type": "code",
      "metadata": {
        "id": "WMvNw4MkrbnW"
      },
      "source": [
        "rg_score = cross_val_score(rg,X_test,Y_test,cv=10,scoring='r2')"
      ],
      "execution_count": 42,
      "outputs": []
    },
    {
      "cell_type": "code",
      "metadata": {
        "id": "dPP6p6QLr_BA",
        "outputId": "33af738d-f04b-4992-d760-7023eacd7dad",
        "colab": {
          "base_uri": "https://localhost:8080/",
          "height": 52
        }
      },
      "source": [
        "rg_score"
      ],
      "execution_count": 43,
      "outputs": [
        {
          "output_type": "execute_result",
          "data": {
            "text/plain": [
              "array([0.20041096, 0.07008078, 0.15831496, 0.2057086 , 0.17477347,\n",
              "       0.216851  , 0.21586026, 0.22563941, 0.21626037, 0.2429118 ])"
            ]
          },
          "metadata": {
            "tags": []
          },
          "execution_count": 43
        }
      ]
    },
    {
      "cell_type": "code",
      "metadata": {
        "id": "sgRn0OeXsAnz",
        "outputId": "3268ac9e-1627-44df-c5f2-58958e7e7aa2",
        "colab": {
          "base_uri": "https://localhost:8080/",
          "height": 34
        }
      },
      "source": [
        "rg_score.mean()"
      ],
      "execution_count": 44,
      "outputs": [
        {
          "output_type": "execute_result",
          "data": {
            "text/plain": [
              "0.19268116092577559"
            ]
          },
          "metadata": {
            "tags": []
          },
          "execution_count": 44
        }
      ]
    },
    {
      "cell_type": "code",
      "metadata": {
        "id": "lpBvCeK7shxh"
      },
      "source": [
        "from sklearn.linear_model import RidgeCV"
      ],
      "execution_count": 45,
      "outputs": []
    },
    {
      "cell_type": "code",
      "metadata": {
        "id": "qlVUHtPQt54q"
      },
      "source": [
        "rgcv = RidgeCV(alphas=(1.0,0.1,0.01,0.05,0.025,0.001,0.005,0.00025),normalize=True)"
      ],
      "execution_count": 46,
      "outputs": []
    },
    {
      "cell_type": "code",
      "metadata": {
        "id": "Hp-YeKBiLNQv",
        "outputId": "d69463a4-d937-4d60-e41a-c07bcd171253",
        "colab": {
          "base_uri": "https://localhost:8080/",
          "height": 87
        }
      },
      "source": [
        "rgcv.fit(X_train,Y_train)"
      ],
      "execution_count": 47,
      "outputs": [
        {
          "output_type": "execute_result",
          "data": {
            "text/plain": [
              "RidgeCV(alphas=array([1.0e+00, 1.0e-01, 1.0e-02, 5.0e-02, 2.5e-02, 1.0e-03, 5.0e-03,\n",
              "       2.5e-04]),\n",
              "        cv=None, fit_intercept=True, gcv_mode=None, normalize=True,\n",
              "        scoring=None, store_cv_values=False)"
            ]
          },
          "metadata": {
            "tags": []
          },
          "execution_count": 47
        }
      ]
    },
    {
      "cell_type": "code",
      "metadata": {
        "id": "JSRyiyR0ucw1",
        "outputId": "3b9d61de-f97e-4e78-addf-f63a2b000181",
        "colab": {
          "base_uri": "https://localhost:8080/",
          "height": 34
        }
      },
      "source": [
        "rgcv.score(X_test,Y_test)"
      ],
      "execution_count": 48,
      "outputs": [
        {
          "output_type": "execute_result",
          "data": {
            "text/plain": [
              "0.19884035494304086"
            ]
          },
          "metadata": {
            "tags": []
          },
          "execution_count": 48
        }
      ]
    },
    {
      "cell_type": "code",
      "metadata": {
        "id": "FbimyH2xuwuY",
        "outputId": "381fd39d-4843-4695-9002-2cb72e77e105",
        "colab": {
          "base_uri": "https://localhost:8080/",
          "height": 34
        }
      },
      "source": [
        "rgcv.alpha_"
      ],
      "execution_count": 49,
      "outputs": [
        {
          "output_type": "execute_result",
          "data": {
            "text/plain": [
              "0.001"
            ]
          },
          "metadata": {
            "tags": []
          },
          "execution_count": 49
        }
      ]
    },
    {
      "cell_type": "markdown",
      "metadata": {
        "id": "Cgmzj9E5vyFE"
      },
      "source": [
        "方法三"
      ]
    },
    {
      "cell_type": "code",
      "metadata": {
        "id": "UBYVLgfku0A8"
      },
      "source": [
        "from sklearn.linear_model import LassoCV"
      ],
      "execution_count": 50,
      "outputs": []
    },
    {
      "cell_type": "code",
      "metadata": {
        "id": "xSWIqlERvI0d"
      },
      "source": [
        "lscv = LassoCV(alphas=(1.0,0.1,0.01,0.05,0.025,0.001,0.005,0.00025),normalize=True)"
      ],
      "execution_count": 51,
      "outputs": []
    },
    {
      "cell_type": "code",
      "metadata": {
        "id": "xrbyQUJgvQ9L",
        "outputId": "93ebd5a2-adbf-41cf-ab74-6efdb2dd4267",
        "colab": {
          "base_uri": "https://localhost:8080/",
          "height": 105
        }
      },
      "source": [
        "lscv.fit(X_train,Y_train)"
      ],
      "execution_count": 52,
      "outputs": [
        {
          "output_type": "execute_result",
          "data": {
            "text/plain": [
              "LassoCV(alphas=(1.0, 0.1, 0.01, 0.05, 0.025, 0.001, 0.005, 0.00025),\n",
              "        copy_X=True, cv=None, eps=0.001, fit_intercept=True, max_iter=1000,\n",
              "        n_alphas=100, n_jobs=None, normalize=True, positive=False,\n",
              "        precompute='auto', random_state=None, selection='cyclic', tol=0.0001,\n",
              "        verbose=False)"
            ]
          },
          "metadata": {
            "tags": []
          },
          "execution_count": 52
        }
      ]
    },
    {
      "cell_type": "code",
      "metadata": {
        "id": "xTJn5akUvWyD",
        "outputId": "a55c14d5-cd44-420f-c7b2-a32434b5b85a",
        "colab": {
          "base_uri": "https://localhost:8080/",
          "height": 34
        }
      },
      "source": [
        "lscv.score(X_test,Y_test)"
      ],
      "execution_count": 53,
      "outputs": [
        {
          "output_type": "execute_result",
          "data": {
            "text/plain": [
              "0.08459994521445657"
            ]
          },
          "metadata": {
            "tags": []
          },
          "execution_count": 53
        }
      ]
    },
    {
      "cell_type": "code",
      "metadata": {
        "id": "RoQm2KXmvgwe",
        "outputId": "a5be510f-2a63-4f3e-d0f9-50ad2cee27c4",
        "colab": {
          "base_uri": "https://localhost:8080/",
          "height": 34
        }
      },
      "source": [
        "lscv.alpha_"
      ],
      "execution_count": 54,
      "outputs": [
        {
          "output_type": "execute_result",
          "data": {
            "text/plain": [
              "0.00025"
            ]
          },
          "metadata": {
            "tags": []
          },
          "execution_count": 54
        }
      ]
    },
    {
      "cell_type": "markdown",
      "metadata": {
        "id": "FHQF339zv15f"
      },
      "source": [
        "方法四"
      ]
    },
    {
      "cell_type": "code",
      "metadata": {
        "id": "CPBeAKoyv3IB"
      },
      "source": [
        "from sklearn.linear_model import ElasticNet,ElasticNetCV"
      ],
      "execution_count": 55,
      "outputs": []
    },
    {
      "cell_type": "code",
      "metadata": {
        "id": "RNiHQFo7LjfH"
      },
      "source": [
        "en = ElasticNet(alpha=0.001,l1_ratio=0.8,normalize=True)"
      ],
      "execution_count": 56,
      "outputs": []
    },
    {
      "cell_type": "code",
      "metadata": {
        "id": "JZBpp1lGLxy5"
      },
      "source": [
        "en_score = cross_val_score(en,X_test,Y_test,cv=10,scoring='r2')"
      ],
      "execution_count": 57,
      "outputs": []
    },
    {
      "cell_type": "code",
      "metadata": {
        "id": "hfxpCyQQMB2K"
      },
      "source": [
        "encv = ElasticNetCV(alphas=(1.0,0.1,0.01,0.05,0.025,0.001,0.005,0.00025),l1_ratio=(0.1,0.25,0.5,0.75,0.8),normalize=True)"
      ],
      "execution_count": 58,
      "outputs": []
    },
    {
      "cell_type": "code",
      "metadata": {
        "id": "yHNZSIhMMwqD",
        "outputId": "5c299efc-7145-441a-f200-04818a3e42d3",
        "colab": {
          "base_uri": "https://localhost:8080/",
          "height": 105
        }
      },
      "source": [
        "encv.fit(X_train,Y_train)"
      ],
      "execution_count": 59,
      "outputs": [
        {
          "output_type": "execute_result",
          "data": {
            "text/plain": [
              "ElasticNetCV(alphas=(1.0, 0.1, 0.01, 0.05, 0.025, 0.001, 0.005, 0.00025),\n",
              "             copy_X=True, cv=None, eps=0.001, fit_intercept=True,\n",
              "             l1_ratio=(0.1, 0.25, 0.5, 0.75, 0.8), max_iter=1000, n_alphas=100,\n",
              "             n_jobs=None, normalize=True, positive=False, precompute='auto',\n",
              "             random_state=None, selection='cyclic', tol=0.0001, verbose=0)"
            ]
          },
          "metadata": {
            "tags": []
          },
          "execution_count": 59
        }
      ]
    },
    {
      "cell_type": "code",
      "metadata": {
        "id": "sC-iHFfjNsor",
        "outputId": "27c4f6ae-11f6-42cd-8b73-30ae20e5762b",
        "colab": {
          "base_uri": "https://localhost:8080/",
          "height": 34
        }
      },
      "source": [
        "encv.score(X_test,Y_test)"
      ],
      "execution_count": 60,
      "outputs": [
        {
          "output_type": "execute_result",
          "data": {
            "text/plain": [
              "0.049195639028242644"
            ]
          },
          "metadata": {
            "tags": []
          },
          "execution_count": 60
        }
      ]
    },
    {
      "cell_type": "markdown",
      "metadata": {
        "id": "roDDI_z_OMgi"
      },
      "source": [
        "方法五"
      ]
    },
    {
      "cell_type": "code",
      "metadata": {
        "id": "I8QvOlvCOL17"
      },
      "source": [
        "from sklearn.preprocessing import PolynomialFeatures"
      ],
      "execution_count": 65,
      "outputs": []
    },
    {
      "cell_type": "code",
      "metadata": {
        "id": "76EwCxMxPbWe"
      },
      "source": [
        "pf = PolynomialFeatures(degree=2)"
      ],
      "execution_count": 66,
      "outputs": []
    },
    {
      "cell_type": "code",
      "metadata": {
        "id": "XrxgEHpvPfbr"
      },
      "source": [
        "xpf = pf.fit_transform(X_feature.reshape(-1,1))"
      ],
      "execution_count": 73,
      "outputs": []
    },
    {
      "cell_type": "code",
      "metadata": {
        "id": "T4G1lc44PlKn",
        "outputId": "d9526d4e-26a9-4527-8e6c-2232f90391d1",
        "colab": {
          "base_uri": "https://localhost:8080/",
          "height": 140
        }
      },
      "source": [
        "xpf"
      ],
      "execution_count": 74,
      "outputs": [
        {
          "output_type": "execute_result",
          "data": {
            "text/plain": [
              "array([[ 1.        , -0.78890923,  0.62237777],\n",
              "       [ 1.        , -1.31830434,  1.73792632],\n",
              "       [ 1.        ,  0.77622944,  0.60253214],\n",
              "       ...,\n",
              "       [ 1.        ,  0.63598229,  0.40447347],\n",
              "       [ 1.        ,  2.11562872,  4.47588486],\n",
              "       [ 1.        ,  2.14059428,  4.58214388]])"
            ]
          },
          "metadata": {
            "tags": []
          },
          "execution_count": 74
        }
      ]
    },
    {
      "cell_type": "code",
      "metadata": {
        "id": "hzfiWa3pRPrl"
      },
      "source": [
        "lr2 = LinearRegression(normalize=True)"
      ],
      "execution_count": 76,
      "outputs": []
    },
    {
      "cell_type": "code",
      "metadata": {
        "id": "8C3vDzyXQ4CH"
      },
      "source": [
        ""
      ],
      "execution_count": null,
      "outputs": []
    }
  ]
}